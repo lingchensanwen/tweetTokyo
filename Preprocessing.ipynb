{
 "cells": [
  {
   "cell_type": "code",
   "execution_count": 1,
   "id": "bd1e0df1",
   "metadata": {},
   "outputs": [],
   "source": [
    "import tweepy\n",
    "import pandas as pd"
   ]
  },
  {
   "cell_type": "code",
   "execution_count": 2,
   "id": "6c5590f1",
   "metadata": {},
   "outputs": [],
   "source": [
    "df = pd.read_csv('tweets_message_tokyo.csv')"
   ]
  },
  {
   "cell_type": "code",
   "execution_count": 3,
   "id": "c6ac073f",
   "metadata": {},
   "outputs": [
    {
     "data": {
      "text/plain": [
       "dtype('O')"
      ]
     },
     "execution_count": 3,
     "metadata": {},
     "output_type": "execute_result"
    }
   ],
   "source": [
    "df['place'].dtypes"
   ]
  },
  {
   "cell_type": "code",
   "execution_count": 4,
   "id": "92e3a7e3",
   "metadata": {},
   "outputs": [
    {
     "name": "stdout",
     "output_type": "stream",
     "text": [
      "Place(_api=<tweepy.api.API object at 0x2adc755cd880>, id='25e7ede60b304d89', url='https://api.twitter.com/1.1/geo/id/25e7ede60b304d89.json', place_type='city', name='Newport', full_name='Newport, KY', country_code='US', country='United States', contained_within=[], bounding_box=BoundingBox(_api=<tweepy.api.API object at 0x2adc755cd880>, type='Polygon', coordinates=[[[-84.504476, 39.064988], [-84.4611, 39.064988], [-84.4611, 39.1024267], [-84.504476, 39.1024267]]]), attributes={})\n"
     ]
    }
   ],
   "source": [
    "print(df['place'][0])"
   ]
  },
  {
   "cell_type": "code",
   "execution_count": 16,
   "id": "17d435cc",
   "metadata": {},
   "outputs": [],
   "source": [
    "df['city'] = df['place'][0].split(\",\")[4] + df['place'][0].split(\",\")[5]\n",
    "#df['']"
   ]
  },
  {
   "cell_type": "code",
   "execution_count": 27,
   "id": "b08abc87",
   "metadata": {},
   "outputs": [
    {
     "data": {
      "text/plain": [
       "[\"Place(_api=<tweepy.api.API object at 0x2adc755cd880>, id='25e7ede60b304d89', url='https://api.twitter.com/1.1/geo/id/25e7ede60b304d89.json', place_type='city', name='Newport', full_name='Newport, KY', country_code='US', country='United States', contained_within=[], bounding_box=BoundingBox(_api=<tweepy.api.API object at 0x2adc755cd880>, type='Polygon', coordinates=[[[-84.504476, 39.064988], [-84.4611, 39.064988], [-84.4611, 39.1024267], [-84.504476, 39.1024267]]]), attributes={})\"]"
      ]
     },
     "execution_count": 27,
     "metadata": {},
     "output_type": "execute_result"
    }
   ],
   "source": [
    "df['place'][0].split(\"re.split('; |, |\\*|\")"
   ]
  },
  {
   "cell_type": "code",
   "execution_count": 25,
   "id": "6b04eefe",
   "metadata": {},
   "outputs": [
    {
     "ename": "IndexError",
     "evalue": "list index out of range",
     "output_type": "error",
     "traceback": [
      "\u001b[0;31m---------------------------------------------------------------------------\u001b[0m",
      "\u001b[0;31mIndexError\u001b[0m                                Traceback (most recent call last)",
      "Input \u001b[0;32mIn [25]\u001b[0m, in \u001b[0;36m<cell line: 1>\u001b[0;34m()\u001b[0m\n\u001b[0;32m----> 1\u001b[0m \u001b[43mdf\u001b[49m\u001b[43m[\u001b[49m\u001b[38;5;124;43m'\u001b[39;49m\u001b[38;5;124;43mplace\u001b[39;49m\u001b[38;5;124;43m'\u001b[39;49m\u001b[43m]\u001b[49m\u001b[43m[\u001b[49m\u001b[38;5;241;43m0\u001b[39;49m\u001b[43m]\u001b[49m\u001b[38;5;241;43m.\u001b[39;49m\u001b[43msplit\u001b[49m\u001b[43m(\u001b[49m\u001b[38;5;124;43m\"\u001b[39;49m\u001b[38;5;124;43mre.split(\u001b[39;49m\u001b[38;5;124;43m'\u001b[39;49m\u001b[38;5;124;43m; |, |\u001b[39;49m\u001b[38;5;124;43m\\\u001b[39;49m\u001b[38;5;124;43m*|\u001b[39;49m\u001b[38;5;124;43m\"\u001b[39;49m\u001b[43m)\u001b[49m\u001b[43m[\u001b[49m\u001b[38;5;241;43m4\u001b[39;49m\u001b[43m]\u001b[49m\n",
      "\u001b[0;31mIndexError\u001b[0m: list index out of range"
     ]
    }
   ],
   "source": [
    "df['place'][0].split(\"re.split('; |, |\\*|\")[4]"
   ]
  },
  {
   "cell_type": "code",
   "execution_count": 18,
   "id": "ac165083",
   "metadata": {},
   "outputs": [
    {
     "data": {
      "text/html": [
       "<div>\n",
       "<style scoped>\n",
       "    .dataframe tbody tr th:only-of-type {\n",
       "        vertical-align: middle;\n",
       "    }\n",
       "\n",
       "    .dataframe tbody tr th {\n",
       "        vertical-align: top;\n",
       "    }\n",
       "\n",
       "    .dataframe thead th {\n",
       "        text-align: right;\n",
       "    }\n",
       "</style>\n",
       "<table border=\"1\" class=\"dataframe\">\n",
       "  <thead>\n",
       "    <tr style=\"text-align: right;\">\n",
       "      <th></th>\n",
       "      <th>id</th>\n",
       "      <th>text</th>\n",
       "      <th>place</th>\n",
       "      <th>city</th>\n",
       "    </tr>\n",
       "  </thead>\n",
       "  <tbody>\n",
       "    <tr>\n",
       "      <th>0</th>\n",
       "      <td>1419808468324790274</td>\n",
       "      <td>b'I hadn\\xe2\\x80\\x99t seen you for awhile\\xe2\\...</td>\n",
       "      <td>Place(_api=&lt;tweepy.api.API object at 0x2adc755...</td>\n",
       "      <td>name='Newport' full_name='Newport</td>\n",
       "    </tr>\n",
       "    <tr>\n",
       "      <th>1</th>\n",
       "      <td>1419343586320019458</td>\n",
       "      <td>b'There\\xe2\\x80\\x99s a bad joke here somewhere...</td>\n",
       "      <td>Place(_api=&lt;tweepy.api.API object at 0x2adc755...</td>\n",
       "      <td>name='Newport' full_name='Newport</td>\n",
       "    </tr>\n",
       "    <tr>\n",
       "      <th>2</th>\n",
       "      <td>1419372964823408640</td>\n",
       "      <td>b'The #Olympics seem to be starting out slowly...</td>\n",
       "      <td>Place(_api=&lt;tweepy.api.API object at 0x2adc755...</td>\n",
       "      <td>name='Newport' full_name='Newport</td>\n",
       "    </tr>\n",
       "    <tr>\n",
       "      <th>3</th>\n",
       "      <td>1425093660165738509</td>\n",
       "      <td>b'https://t.co/u0G6OPzAav'</td>\n",
       "      <td>Place(_api=&lt;tweepy.api.API object at 0x2adc755...</td>\n",
       "      <td>name='Newport' full_name='Newport</td>\n",
       "    </tr>\n",
       "    <tr>\n",
       "      <th>4</th>\n",
       "      <td>1419343311375151107</td>\n",
       "      <td>b'@SpencerBoyd Olympics/Baseball'</td>\n",
       "      <td>Place(_api=&lt;tweepy.api.API object at 0x2adc755...</td>\n",
       "      <td>name='Newport' full_name='Newport</td>\n",
       "    </tr>\n",
       "    <tr>\n",
       "      <th>...</th>\n",
       "      <td>...</td>\n",
       "      <td>...</td>\n",
       "      <td>...</td>\n",
       "      <td>...</td>\n",
       "    </tr>\n",
       "    <tr>\n",
       "      <th>120</th>\n",
       "      <td>1420089257306333195</td>\n",
       "      <td>b'the olympics are not real this year'</td>\n",
       "      <td>Place(_api=&lt;tweepy.api.API object at 0x2adc755...</td>\n",
       "      <td>name='Newport' full_name='Newport</td>\n",
       "    </tr>\n",
       "    <tr>\n",
       "      <th>121</th>\n",
       "      <td>1419548999518982144</td>\n",
       "      <td>b\"@EddieWa57455763 Good Morning, Eddie \\xf0\\x9...</td>\n",
       "      <td>Place(_api=&lt;tweepy.api.API object at 0x2adc755...</td>\n",
       "      <td>name='Newport' full_name='Newport</td>\n",
       "    </tr>\n",
       "    <tr>\n",
       "      <th>122</th>\n",
       "      <td>1420550239434510336</td>\n",
       "      <td>b'Hup Ireland \\xf0\\x9f\\x87\\xae\\xf0\\x9f\\x87\\xaa...</td>\n",
       "      <td>Place(_api=&lt;tweepy.api.API object at 0x2adc755...</td>\n",
       "      <td>name='Newport' full_name='Newport</td>\n",
       "    </tr>\n",
       "    <tr>\n",
       "      <th>123</th>\n",
       "      <td>1417981211247583237</td>\n",
       "      <td>b'I guess they didn\\xe2\\x80\\x99t know their pa...</td>\n",
       "      <td>Place(_api=&lt;tweepy.api.API object at 0x2adc755...</td>\n",
       "      <td>name='Newport' full_name='Newport</td>\n",
       "    </tr>\n",
       "    <tr>\n",
       "      <th>124</th>\n",
       "      <td>1419347959393648640</td>\n",
       "      <td>b'@thekidmikeys usmnt young boys are impressin...</td>\n",
       "      <td>Place(_api=&lt;tweepy.api.API object at 0x2adc755...</td>\n",
       "      <td>name='Newport' full_name='Newport</td>\n",
       "    </tr>\n",
       "  </tbody>\n",
       "</table>\n",
       "<p>125 rows × 4 columns</p>\n",
       "</div>"
      ],
      "text/plain": [
       "                      id                                               text  \\\n",
       "0    1419808468324790274  b'I hadn\\xe2\\x80\\x99t seen you for awhile\\xe2\\...   \n",
       "1    1419343586320019458  b'There\\xe2\\x80\\x99s a bad joke here somewhere...   \n",
       "2    1419372964823408640  b'The #Olympics seem to be starting out slowly...   \n",
       "3    1425093660165738509                         b'https://t.co/u0G6OPzAav'   \n",
       "4    1419343311375151107                  b'@SpencerBoyd Olympics/Baseball'   \n",
       "..                   ...                                                ...   \n",
       "120  1420089257306333195             b'the olympics are not real this year'   \n",
       "121  1419548999518982144  b\"@EddieWa57455763 Good Morning, Eddie \\xf0\\x9...   \n",
       "122  1420550239434510336  b'Hup Ireland \\xf0\\x9f\\x87\\xae\\xf0\\x9f\\x87\\xaa...   \n",
       "123  1417981211247583237  b'I guess they didn\\xe2\\x80\\x99t know their pa...   \n",
       "124  1419347959393648640  b'@thekidmikeys usmnt young boys are impressin...   \n",
       "\n",
       "                                                 place  \\\n",
       "0    Place(_api=<tweepy.api.API object at 0x2adc755...   \n",
       "1    Place(_api=<tweepy.api.API object at 0x2adc755...   \n",
       "2    Place(_api=<tweepy.api.API object at 0x2adc755...   \n",
       "3    Place(_api=<tweepy.api.API object at 0x2adc755...   \n",
       "4    Place(_api=<tweepy.api.API object at 0x2adc755...   \n",
       "..                                                 ...   \n",
       "120  Place(_api=<tweepy.api.API object at 0x2adc755...   \n",
       "121  Place(_api=<tweepy.api.API object at 0x2adc755...   \n",
       "122  Place(_api=<tweepy.api.API object at 0x2adc755...   \n",
       "123  Place(_api=<tweepy.api.API object at 0x2adc755...   \n",
       "124  Place(_api=<tweepy.api.API object at 0x2adc755...   \n",
       "\n",
       "                                   city  \n",
       "0     name='Newport' full_name='Newport  \n",
       "1     name='Newport' full_name='Newport  \n",
       "2     name='Newport' full_name='Newport  \n",
       "3     name='Newport' full_name='Newport  \n",
       "4     name='Newport' full_name='Newport  \n",
       "..                                  ...  \n",
       "120   name='Newport' full_name='Newport  \n",
       "121   name='Newport' full_name='Newport  \n",
       "122   name='Newport' full_name='Newport  \n",
       "123   name='Newport' full_name='Newport  \n",
       "124   name='Newport' full_name='Newport  \n",
       "\n",
       "[125 rows x 4 columns]"
      ]
     },
     "execution_count": 18,
     "metadata": {},
     "output_type": "execute_result"
    }
   ],
   "source": [
    "df"
   ]
  },
  {
   "cell_type": "code",
   "execution_count": null,
   "id": "be6fbb71",
   "metadata": {},
   "outputs": [],
   "source": []
  }
 ],
 "metadata": {
  "kernelspec": {
   "display_name": "Python 3 (ipykernel)",
   "language": "python",
   "name": "python3"
  },
  "language_info": {
   "codemirror_mode": {
    "name": "ipython",
    "version": 3
   },
   "file_extension": ".py",
   "mimetype": "text/x-python",
   "name": "python",
   "nbconvert_exporter": "python",
   "pygments_lexer": "ipython3",
   "version": "3.8.13"
  }
 },
 "nbformat": 4,
 "nbformat_minor": 5
}
