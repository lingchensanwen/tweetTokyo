{
 "cells": [
  {
   "cell_type": "code",
   "execution_count": 1,
   "id": "063881bb",
   "metadata": {},
   "outputs": [],
   "source": [
    "import tweepy\n",
    "import pandas as pd\n",
    "import ast\n",
    "import warnings;\n",
    "warnings.filterwarnings('ignore');"
   ]
  },
  {
   "cell_type": "code",
   "execution_count": 2,
   "id": "31d1fa08",
   "metadata": {},
   "outputs": [],
   "source": [
    "#Read dataframes by date\n",
    "from pathlib import Path  \n",
    "date_range = pd.date_range(start='2021-07-19', end='2021-08-11')\n",
    "\n",
    "df_dict = {}\n",
    "for i in date_range:\n",
    "    date = i.strftime('%Y-%m-%d')\n",
    "    filepath = Path('dataframes_by_date/'+date+\".csv\")\n",
    "    df_dict[date] = pd.read_csv(filepath, encoding = \"utf-8\")"
   ]
  },
  {
   "cell_type": "code",
   "execution_count": 3,
   "id": "b6fe12ea",
   "metadata": {},
   "outputs": [
    {
     "data": {
      "text/html": [
       "<div>\n",
       "<style scoped>\n",
       "    .dataframe tbody tr th:only-of-type {\n",
       "        vertical-align: middle;\n",
       "    }\n",
       "\n",
       "    .dataframe tbody tr th {\n",
       "        vertical-align: top;\n",
       "    }\n",
       "\n",
       "    .dataframe thead th {\n",
       "        text-align: right;\n",
       "    }\n",
       "</style>\n",
       "<table border=\"1\" class=\"dataframe\">\n",
       "  <thead>\n",
       "    <tr style=\"text-align: right;\">\n",
       "      <th></th>\n",
       "      <th>Unnamed: 0</th>\n",
       "      <th>id</th>\n",
       "      <th>time</th>\n",
       "      <th>text</th>\n",
       "      <th>city_name</th>\n",
       "      <th>coordinates</th>\n",
       "      <th>place</th>\n",
       "    </tr>\n",
       "  </thead>\n",
       "  <tbody>\n",
       "    <tr>\n",
       "      <th>0</th>\n",
       "      <td>5753</td>\n",
       "      <td>1417635474898923529</td>\n",
       "      <td>2021-07-21 00:00:10+00:00</td>\n",
       "      <td>@KathrynTappen @NBCSports @NBCOlympics Stay sa...</td>\n",
       "      <td>Michigan, USA</td>\n",
       "      <td>[[[-90.4181075, 41.696088], [-82.122971, 41.69...</td>\n",
       "      <td>Place(_api=&lt;tweepy.api.API object at 0x2b23538...</td>\n",
       "    </tr>\n",
       "    <tr>\n",
       "      <th>1</th>\n",
       "      <td>7078</td>\n",
       "      <td>1417635772790939650</td>\n",
       "      <td>2021-07-21 00:01:21+00:00</td>\n",
       "      <td>The Olympics are back, y’all. Let’s play some ...</td>\n",
       "      <td>Orange City, FL</td>\n",
       "      <td>[[[-81.3155653, 28.897085], [-81.26003, 28.897...</td>\n",
       "      <td>Place(_api=&lt;tweepy.api.API object at 0x2b23538...</td>\n",
       "    </tr>\n",
       "    <tr>\n",
       "      <th>2</th>\n",
       "      <td>5761</td>\n",
       "      <td>1417635990026530824</td>\n",
       "      <td>2021-07-21 00:02:13+00:00</td>\n",
       "      <td>man kobe know who that is !!!! https://t.co/56...</td>\n",
       "      <td>Terrytown, LA</td>\n",
       "      <td>[[[-90.043765, 29.878501], [-90.008313, 29.878...</td>\n",
       "      <td>Place(_api=&lt;tweepy.api.API object at 0x2b23538...</td>\n",
       "    </tr>\n",
       "    <tr>\n",
       "      <th>3</th>\n",
       "      <td>2281</td>\n",
       "      <td>1417636084733956101</td>\n",
       "      <td>2021-07-21 00:02:35+00:00</td>\n",
       "      <td>SO FREAKIN EXCITING!!!! https://t.co/IAkMrJcnrZ</td>\n",
       "      <td>Auburn, AL</td>\n",
       "      <td>[[[-85.569969, 32.532449], [-85.413112, 32.532...</td>\n",
       "      <td>Place(_api=&lt;tweepy.api.API object at 0x2b23538...</td>\n",
       "    </tr>\n",
       "    <tr>\n",
       "      <th>4</th>\n",
       "      <td>4224</td>\n",
       "      <td>1417636088890408969</td>\n",
       "      <td>2021-07-21 00:02:36+00:00</td>\n",
       "      <td>First event of #TokyoOlympics 🙌🏻 https://t.co/...</td>\n",
       "      <td>Chicago, IL</td>\n",
       "      <td>[[[-87.940033, 41.644102], [-87.523993, 41.644...</td>\n",
       "      <td>Place(_api=&lt;tweepy.api.API object at 0x2b23538...</td>\n",
       "    </tr>\n",
       "    <tr>\n",
       "      <th>...</th>\n",
       "      <td>...</td>\n",
       "      <td>...</td>\n",
       "      <td>...</td>\n",
       "      <td>...</td>\n",
       "      <td>...</td>\n",
       "      <td>...</td>\n",
       "      <td>...</td>\n",
       "    </tr>\n",
       "    <tr>\n",
       "      <th>1666</th>\n",
       "      <td>29023</td>\n",
       "      <td>1417996975736250371</td>\n",
       "      <td>2021-07-21 23:56:38+00:00</td>\n",
       "      <td>If an athlete from china or Russia turned thei...</td>\n",
       "      <td>Barling, AR</td>\n",
       "      <td>[[[-94.323756, 35.320062], [-94.296113, 35.320...</td>\n",
       "      <td>Place(_api=&lt;tweepy.api.API object at 0x2b23538...</td>\n",
       "    </tr>\n",
       "    <tr>\n",
       "      <th>1667</th>\n",
       "      <td>13522</td>\n",
       "      <td>1417996982765957120</td>\n",
       "      <td>2021-07-21 23:56:40+00:00</td>\n",
       "      <td>See now this suspension makes sense because no...</td>\n",
       "      <td>Pittsburgh, PA</td>\n",
       "      <td>[[[-80.095586, 40.3615796], [-79.8657933, 40.3...</td>\n",
       "      <td>Place(_api=&lt;tweepy.api.API object at 0x2b23538...</td>\n",
       "    </tr>\n",
       "    <tr>\n",
       "      <th>1668</th>\n",
       "      <td>57501</td>\n",
       "      <td>1417997212769001474</td>\n",
       "      <td>2021-07-21 23:57:35+00:00</td>\n",
       "      <td>USA v Canada 🥎 lets goooo!! #olympics #usa htt...</td>\n",
       "      <td>Fairview Park, OH</td>\n",
       "      <td>[[[-81.875476, 41.417577], [-81.815851, 41.417...</td>\n",
       "      <td>Place(_api=&lt;tweepy.api.API object at 0x2b23538...</td>\n",
       "    </tr>\n",
       "    <tr>\n",
       "      <th>1669</th>\n",
       "      <td>59805</td>\n",
       "      <td>1417997419585937409</td>\n",
       "      <td>2021-07-21 23:58:24+00:00</td>\n",
       "      <td>Night two of the Olympics will get underway in...</td>\n",
       "      <td>Catonsville, MD</td>\n",
       "      <td>[[[-76.794408, 39.22709], [-76.688592, 39.2270...</td>\n",
       "      <td>Place(_api=&lt;tweepy.api.API object at 0x2b23538...</td>\n",
       "    </tr>\n",
       "    <tr>\n",
       "      <th>1670</th>\n",
       "      <td>60413</td>\n",
       "      <td>1417997529598337024</td>\n",
       "      <td>2021-07-21 23:58:50+00:00</td>\n",
       "      <td>@soledadobrien \\nHope the horse wasn't doing l...</td>\n",
       "      <td>Haverhill, MA</td>\n",
       "      <td>[[[-71.1823619, 42.734289], [-71.000439, 42.73...</td>\n",
       "      <td>Place(_api=&lt;tweepy.api.API object at 0x2b23538...</td>\n",
       "    </tr>\n",
       "  </tbody>\n",
       "</table>\n",
       "<p>1671 rows × 7 columns</p>\n",
       "</div>"
      ],
      "text/plain": [
       "      Unnamed: 0                   id                       time  \\\n",
       "0           5753  1417635474898923529  2021-07-21 00:00:10+00:00   \n",
       "1           7078  1417635772790939650  2021-07-21 00:01:21+00:00   \n",
       "2           5761  1417635990026530824  2021-07-21 00:02:13+00:00   \n",
       "3           2281  1417636084733956101  2021-07-21 00:02:35+00:00   \n",
       "4           4224  1417636088890408969  2021-07-21 00:02:36+00:00   \n",
       "...          ...                  ...                        ...   \n",
       "1666       29023  1417996975736250371  2021-07-21 23:56:38+00:00   \n",
       "1667       13522  1417996982765957120  2021-07-21 23:56:40+00:00   \n",
       "1668       57501  1417997212769001474  2021-07-21 23:57:35+00:00   \n",
       "1669       59805  1417997419585937409  2021-07-21 23:58:24+00:00   \n",
       "1670       60413  1417997529598337024  2021-07-21 23:58:50+00:00   \n",
       "\n",
       "                                                   text          city_name  \\\n",
       "0     @KathrynTappen @NBCSports @NBCOlympics Stay sa...      Michigan, USA   \n",
       "1     The Olympics are back, y’all. Let’s play some ...    Orange City, FL   \n",
       "2     man kobe know who that is !!!! https://t.co/56...      Terrytown, LA   \n",
       "3       SO FREAKIN EXCITING!!!! https://t.co/IAkMrJcnrZ         Auburn, AL   \n",
       "4     First event of #TokyoOlympics 🙌🏻 https://t.co/...        Chicago, IL   \n",
       "...                                                 ...                ...   \n",
       "1666  If an athlete from china or Russia turned thei...        Barling, AR   \n",
       "1667  See now this suspension makes sense because no...     Pittsburgh, PA   \n",
       "1668  USA v Canada 🥎 lets goooo!! #olympics #usa htt...  Fairview Park, OH   \n",
       "1669  Night two of the Olympics will get underway in...    Catonsville, MD   \n",
       "1670  @soledadobrien \\nHope the horse wasn't doing l...      Haverhill, MA   \n",
       "\n",
       "                                            coordinates  \\\n",
       "0     [[[-90.4181075, 41.696088], [-82.122971, 41.69...   \n",
       "1     [[[-81.3155653, 28.897085], [-81.26003, 28.897...   \n",
       "2     [[[-90.043765, 29.878501], [-90.008313, 29.878...   \n",
       "3     [[[-85.569969, 32.532449], [-85.413112, 32.532...   \n",
       "4     [[[-87.940033, 41.644102], [-87.523993, 41.644...   \n",
       "...                                                 ...   \n",
       "1666  [[[-94.323756, 35.320062], [-94.296113, 35.320...   \n",
       "1667  [[[-80.095586, 40.3615796], [-79.8657933, 40.3...   \n",
       "1668  [[[-81.875476, 41.417577], [-81.815851, 41.417...   \n",
       "1669  [[[-76.794408, 39.22709], [-76.688592, 39.2270...   \n",
       "1670  [[[-71.1823619, 42.734289], [-71.000439, 42.73...   \n",
       "\n",
       "                                                  place  \n",
       "0     Place(_api=<tweepy.api.API object at 0x2b23538...  \n",
       "1     Place(_api=<tweepy.api.API object at 0x2b23538...  \n",
       "2     Place(_api=<tweepy.api.API object at 0x2b23538...  \n",
       "3     Place(_api=<tweepy.api.API object at 0x2b23538...  \n",
       "4     Place(_api=<tweepy.api.API object at 0x2b23538...  \n",
       "...                                                 ...  \n",
       "1666  Place(_api=<tweepy.api.API object at 0x2b23538...  \n",
       "1667  Place(_api=<tweepy.api.API object at 0x2b23538...  \n",
       "1668  Place(_api=<tweepy.api.API object at 0x2b23538...  \n",
       "1669  Place(_api=<tweepy.api.API object at 0x2b23538...  \n",
       "1670  Place(_api=<tweepy.api.API object at 0x2b23538...  \n",
       "\n",
       "[1671 rows x 7 columns]"
      ]
     },
     "execution_count": 3,
     "metadata": {},
     "output_type": "execute_result"
    }
   ],
   "source": [
    "df_dict['2021-07-21']"
   ]
  },
  {
   "cell_type": "code",
   "execution_count": 4,
   "id": "e81bd8d2",
   "metadata": {},
   "outputs": [],
   "source": [
    "# Get all tweets(string) in a list for each date\n",
    "tweets_dict = {}\n",
    "for i in date_range:\n",
    "    tweets_dict[i.strftime('%Y-%m-%d')] =  df_dict[i.strftime('%Y-%m-%d')]['text'].tolist()"
   ]
  },
  {
   "cell_type": "code",
   "execution_count": 5,
   "id": "81edcc8d",
   "metadata": {},
   "outputs": [
    {
     "name": "stdout",
     "output_type": "stream",
     "text": [
      "Total number of tweets: \n",
      "2638 \n",
      "\n",
      "Sample tweets: \n",
      "['Hey @marczumoff on the opening of the Olympics….', \"He looks kinda happy, doesn't he? #TokyoOlympics #marathon #kipchoge 🏃🏽I need those shoes! 👟 #running\", 'Texas boys dominating the AAU Junior Olympics in the 17-18yr old boys 3000 https://t.co/TlP2Ox71eb']\n"
     ]
    }
   ],
   "source": [
    "#example\n",
    "print(\"Total number of tweets: \\n{} \\n\".format(len(tweets_dict['2021-08-08'])))\n",
    "print(\"Sample tweets: \\n{}\".format(tweets_dict['2021-08-08'][:3]))"
   ]
  },
  {
   "cell_type": "markdown",
   "id": "fe7ca80c",
   "metadata": {},
   "source": [
    "### Tokenisation and Stop Words Removal"
   ]
  },
  {
   "cell_type": "code",
   "execution_count": 6,
   "id": "c2f802e0",
   "metadata": {},
   "outputs": [
    {
     "name": "stderr",
     "output_type": "stream",
     "text": [
      "[nltk_data] Downloading package stopwords to\n",
      "[nltk_data]     /home1/07144/yw23374/nltk_data...\n",
      "[nltk_data]   Package stopwords is already up-to-date!\n",
      "[nltk_data] Downloading package wordnet to\n",
      "[nltk_data]     /home1/07144/yw23374/nltk_data...\n",
      "[nltk_data]   Package wordnet is already up-to-date!\n"
     ]
    }
   ],
   "source": [
    "import nltk\n",
    "import gensim\n",
    "from nltk.tokenize import RegexpTokenizer\n",
    "#splits string into substrings using a regular expression\n",
    "#tokenises words that contain 1 or more (+) alphanumeric characters (\\w) or '@'\n",
    "retokenizer = RegexpTokenizer(r'[\\w@]+')\n",
    "# create stop words list\n",
    "from nltk.corpus import stopwords\n",
    "nltk.download('stopwords')\n",
    "nltk.download('wordnet')\n",
    "stop_words = stopwords.words('english')\n",
    "# add twitter specific stop words\n",
    "stop_words += [\"rt\", \"got\", \"thats\", \"would\", \"going\", \"u\", \n",
    "               \"get\", \"also\", \"one\", \"could\", \"said\", \"like\",\n",
    "               \"via\", \"say\", \"amp\", \"many\", \"need\", \"day\", \"want\", \n",
    "               \"last\", \"people\", \"done\", \"two\",\n",
    "               \"outbreak\", \"know\", \"upon\", \"may\", \"way\",\n",
    "               \"saw\", \"gtgt\", \"olympics\", \"tokyo2020\", \"tokyo\", \"olympics2021\", \"usa\"\n",
    "               \"olympics2020\", \"@olympics\", \"tokyoolympics\", \"olympic\"]\n",
    "# create lemmatizer\n",
    "wnl = nltk.stem.wordnet.WordNetLemmatizer()"
   ]
  },
  {
   "cell_type": "code",
   "execution_count": 7,
   "id": "9d54e27d",
   "metadata": {},
   "outputs": [],
   "source": [
    "def process_text(documents, stop_words):\n",
    "    processed_docs = []\n",
    "    doc_tokens = []\n",
    "    for doc in documents:\n",
    "        doc = str(doc).lower()\n",
    "        doc_tokens = retokenizer.tokenize(doc)\n",
    "        doc_tokens = [token for token in doc_tokens if token not in stop_words]\n",
    "        doc_tokens = [token for token in doc_tokens if len(token)>2]\n",
    "        doc_tokens = [wnl.lemmatize(token) for token in doc_tokens]    \n",
    "        processed_docs.append(doc_tokens)\n",
    "    return processed_docs"
   ]
  },
  {
   "cell_type": "code",
   "execution_count": 8,
   "id": "7b85c30f",
   "metadata": {},
   "outputs": [
    {
     "name": "stdout",
     "output_type": "stream",
     "text": [
      "4120\n"
     ]
    }
   ],
   "source": [
    "# Gets a list of list of tokens (each nested list is from one tweet)\n",
    "processed_tweets_dict = {}\n",
    "for i in date_range:\n",
    "    processed_tweets_dict[i.strftime('%Y-%m-%d')] =  process_text(tweets_dict[i.strftime('%Y-%m-%d')], stop_words)\n",
    "    \n",
    "#example    \n",
    "processed_tweets_dict['2021-07-24'] = process_text(tweets_dict['2021-07-24'], stop_words)\n",
    "print(len(processed_tweets_dict['2021-07-24']))"
   ]
  },
  {
   "cell_type": "markdown",
   "id": "c00385d2",
   "metadata": {},
   "source": [
    "### Create a dictionary representaion\n",
    "\n",
    "<code>gensim</code> dictionary assigns an integer id to each unique word in the corpus"
   ]
  },
  {
   "cell_type": "code",
   "execution_count": 10,
   "id": "a200b543",
   "metadata": {},
   "outputs": [
    {
     "name": "stdout",
     "output_type": "stream",
     "text": [
      "Sample word to id mappings:\n",
      " [(0, '@kathryntappen'), (1, '@nbcolympics'), (2, '@nbcsports'), (3, 'bad'), (4, 'fqfc3xlko5'), (5, 'hope'), (6, 'http'), (7, 'love'), (8, 'man'), (9, 'safe'), (10, 'stay'), (11, 'watching'), (12, 'wrong'), (13, 'back'), (14, 'let'), (15, 'play'), (16, 'softball'), (17, '56bli2z8iz'), (18, 'kobe'), (19, 'exciting'), (20, 'freakin'), (21, 'iakmrjcnrz'), (22, 'event'), (23, 'first'), (24, 'mrahgqeppe'), (25, '@boxingrich'), (26, 'aaid'), (27, 'consider'), (28, 'decline'), (29, 'even'), (30, 'golf'), (31, 'long'), (32, 'olympi'), (33, 'real'), (34, 'shouldnt'), (35, 'uhvuu6cpmf'), (36, 'underway'), (37, '6mc5zjldls'), (38, 'arnaud'), (39, 'bugle'), (40, 'dominating'), (41, 'fanfare'), (42, 'john'), (43, 'leo'), (44, 'shout'), (45, 'williams'), (46, '2008'), (47, '9ohxjtm1a0'), (48, 'beat'), (49, 'gold'), (50, 'japan'), (51, 'medal'), (52, 'played'), (53, 'sport'), (54, 'team'), (55, 'usa'), (56, 'australia'), (57, 'baseball'), (58, 'converted'), (59, 'field'), (60, 'game'), (61, 'mghsafzjup'), (62, 'playing'), (63, 'wait'), (64, 'iz5jfs61pd'), (65, 'pitch'), (66, 'throw'), (67, '7lionvwswf'), (68, 'better'), (69, 'ceremony'), (70, 'move'), (71, 'opening'), (72, 'start'), (73, 'fight'), (74, 'finally')]\n",
      "Total Vocabulary Size: 4903\n"
     ]
    }
   ],
   "source": [
    "dictionary_dict = {}\n",
    "for i in date_range:\n",
    "    dictionary_dict[i.strftime('%Y-%m-%d')] =  gensim.corpora.Dictionary(processed_tweets_dict[i.strftime('%Y-%m-%d')])\n",
    "\n",
    "#example    \n",
    "print('Sample word to id mappings:\\n', list(dictionary_dict['2021-07-21'].items())[:75])\n",
    "print('Total Vocabulary Size:', len(dictionary_dict['2021-07-21']))"
   ]
  },
  {
   "cell_type": "markdown",
   "id": "4a81c7f4",
   "metadata": {},
   "source": [
    "### Set parameters\n",
    "Filter the vocabulary based on frequency, so as not to use less important words or words that do not help differentiate the topics."
   ]
  },
  {
   "cell_type": "code",
   "execution_count": 11,
   "id": "0453c0ac",
   "metadata": {},
   "outputs": [
    {
     "name": "stdout",
     "output_type": "stream",
     "text": [
      "Total Vocabulary Size: 147\n"
     ]
    }
   ],
   "source": [
    "# Filter out words that occur in less than 20 documents, or more than 50% of the documents.\n",
    "for i in date_range:\n",
    "    dictionary_dict[i.strftime('%Y-%m-%d')].filter_extremes(no_below=20, no_above=0.5)\n",
    "#example\n",
    "print('Total Vocabulary Size:', len(dictionary_dict['2021-08-01']))"
   ]
  },
  {
   "cell_type": "markdown",
   "id": "2d8d1c63",
   "metadata": {},
   "source": [
    "### Create the vector space model (bag of words model in gensim)\n",
    "The function doc2bow() counts the number of occurrences of each unique word, converts the word to its integer word id and returns the result as a sparse vector(words from the dictionary not present in the document are not stored in the document vector)"
   ]
  },
  {
   "cell_type": "code",
   "execution_count": 12,
   "id": "fe5f6b3d",
   "metadata": {},
   "outputs": [],
   "source": [
    "# Transforming corpus into bag of words vectors\n",
    "corpus_vect_dict = {}\n",
    "for i in date_range:\n",
    "    corpus_vect_dict[i.strftime('%Y-%m-%d')] = [dictionary_dict[i.strftime('%Y-%m-%d')].doc2bow(text) for text in processed_tweets_dict[i.strftime('%Y-%m-%d')]]"
   ]
  },
  {
   "cell_type": "code",
   "execution_count": 13,
   "id": "98fc06d2",
   "metadata": {},
   "outputs": [
    {
     "name": "stdout",
     "output_type": "stream",
     "text": [
      "[(2, 1), (3, 1), (4, 1), (5, 1)]\n",
      "\n",
      "\n",
      "['back', 'let', 'play', 'softball']\n"
     ]
    }
   ],
   "source": [
    "#Check how the vector looks for the second tweet document\n",
    "print(corpus_vect_dict['2021-07-21'][1])\n",
    "print(\"\\n\", )\n",
    "print(processed_tweets_dict['2021-07-21'][1])"
   ]
  },
  {
   "cell_type": "code",
   "execution_count": 14,
   "id": "b68fc6ad",
   "metadata": {},
   "outputs": [
    {
     "name": "stdout",
     "output_type": "stream",
     "text": [
      "1671\n"
     ]
    }
   ],
   "source": [
    "print(len(corpus_vect_dict['2021-07-21']))"
   ]
  },
  {
   "cell_type": "code",
   "execution_count": 15,
   "id": "9b48d84c",
   "metadata": {},
   "outputs": [
    {
     "name": "stdout",
     "output_type": "stream",
     "text": [
      "[('back', 1), ('let', 1), ('play', 1), ('softball', 1)]\n"
     ]
    }
   ],
   "source": [
    "#Viewing them as terms and their document frequencies, index into the dictionary\n",
    "\n",
    "print([(dictionary_dict['2021-07-21'][id] , freq) for id, freq in corpus_vect_dict['2021-07-21'][1][:20]])"
   ]
  },
  {
   "cell_type": "code",
   "execution_count": 16,
   "id": "b218cd0c",
   "metadata": {},
   "outputs": [],
   "source": [
    "#build model folders for later saving lda models\n",
    "# import os\n",
    "# for i in date_range:\n",
    "#     os.mkdir('models/'+i.strftime('%Y-%m-%d')+\"/Topics\")"
   ]
  },
  {
   "cell_type": "markdown",
   "id": "1912df1f",
   "metadata": {},
   "source": [
    "## Build the LDA model"
   ]
  },
  {
   "cell_type": "code",
   "execution_count": 17,
   "id": "7715c5be",
   "metadata": {},
   "outputs": [],
   "source": [
    "#from gensim.test.utils import datapath\n",
    "num_topics = 3\n",
    "import pickle\n",
    "ldamodel_dict = {}\n",
    "\n",
    "#Build LDA model and save them\n",
    "\n",
    "# for i in date_range:\n",
    "#     date = i.strftime('%Y-%m-%d')\n",
    "#     print(\"now processing \"+str(i))\n",
    "#     if(num_topics = 0):\n",
    "#         continue\n",
    "#     ldamodel_dict[date] = gensim.models.ldamodel.LdaModel(corpus_vect_dict[date], num_topics = num_topics, id2word=dictionary_dict[date], passes=25)\n",
    "#     ldamodel_path = 'models/' + date +'/LDAmodels'\n",
    "#     ldamodel_dict[date].save(ldamodel_path)"
   ]
  },
  {
   "cell_type": "code",
   "execution_count": 19,
   "id": "8b5a3b54",
   "metadata": {},
   "outputs": [],
   "source": [
    "# load LDA model\n",
    "import gensim.models as models\n",
    "from os.path import exists\n",
    "\n",
    "\n",
    "for i in date_range:\n",
    "    date = i.strftime('%Y-%m-%d')\n",
    "    ldamodel_path = 'models/' + i.strftime(date) +'/LDAmodels'\n",
    "    if exists(ldamodel_path)==False:\n",
    "        continue\n",
    "    ldamodel_dict[date] = models.ldamodel.LdaModel.load(ldamodel_path)"
   ]
  },
  {
   "cell_type": "code",
   "execution_count": 20,
   "id": "e8008a23",
   "metadata": {},
   "outputs": [
    {
     "name": "stdout",
     "output_type": "stream",
     "text": [
      "0: 0.091*\"watching\" + 0.082*\"watch\" + 0.055*\"see\" + 0.044*\"let\" + 0.040*\"look\" + 0.036*\"even\" + 0.034*\"much\" + 0.033*\"thing\" + 0.032*\"final\" + 0.030*\"track\"\n",
      "1: 0.081*\"gold\" + 0.080*\"usa\" + 0.060*\"love\" + 0.056*\"sport\" + 0.037*\"athlete\" + 0.036*\"awesome\" + 0.034*\"best\" + 0.032*\"teamusa\" + 0.027*\"swimming\" + 0.026*\"world\"\n",
      "2: 0.064*\"team\" + 0.060*\"woman\" + 0.058*\"time\" + 0.040*\"great\" + 0.040*\"medal\" + 0.038*\"really\" + 0.038*\"event\" + 0.038*\"game\" + 0.037*\"men\" + 0.034*\"mixed\"\n"
     ]
    }
   ],
   "source": [
    "#example\n",
    "for num ,topic in ldamodel_dict['2021-07-31'].show_topics(formatted=True, num_topics=num_topics, num_words=10):\n",
    "    print(str(num)+\": \"+ topic)"
   ]
  },
  {
   "cell_type": "code",
   "execution_count": 21,
   "id": "36458304",
   "metadata": {},
   "outputs": [],
   "source": [
    "topics = ldamodel_dict['2021-07-21'].show_topics(formatted=True, num_topics=num_topics, num_words=10)"
   ]
  },
  {
   "cell_type": "code",
   "execution_count": 22,
   "id": "69dbde8a",
   "metadata": {},
   "outputs": [
    {
     "data": {
      "text/plain": [
       "(1,\n",
       " '0.140*\"uswnt\" + 0.112*\"game\" + 0.078*\"softball\" + 0.075*\"watch\" + 0.064*\"sweden\" + 0.062*\"play\" + 0.058*\"first\" + 0.036*\"summer\" + 0.034*\"wait\" + 0.033*\"take\"')"
      ]
     },
     "execution_count": 22,
     "metadata": {},
     "output_type": "execute_result"
    }
   ],
   "source": [
    "topics[1] "
   ]
  },
  {
   "cell_type": "markdown",
   "id": "a61c2c0c",
   "metadata": {},
   "source": [
    "### Compute Coherence Score"
   ]
  },
  {
   "cell_type": "code",
   "execution_count": 23,
   "id": "58741c6e",
   "metadata": {},
   "outputs": [
    {
     "name": "stdout",
     "output_type": "stream",
     "text": [
      "\n",
      "Coherence Score:  0.47968193292323424\n"
     ]
    }
   ],
   "source": [
    "from gensim.models import CoherenceModel\n",
    "\n",
    "# Compute Coherence Score for LDA Model\n",
    "coherence_model_lda_dict = {}\n",
    "coherence_lda_dict = {}\n",
    "for i in date_range:\n",
    "    date = i.strftime('%Y-%m-%d')\n",
    "    ldamodel_path = 'models/' + i.strftime(date) +'/LDAmodels'\n",
    "    if exists(ldamodel_path)==False:\n",
    "        continue\n",
    "    coherence_model_lda_dict[date] = CoherenceModel(model=ldamodel_dict[date], texts=processed_tweets_dict[date], dictionary=dictionary_dict[date], coherence='c_v')\n",
    "    coherence_lda_dict[date] = coherence_model_lda_dict[date].get_coherence()\n",
    "print('\\nCoherence Score: ', coherence_lda_dict['2021-07-31'])"
   ]
  },
  {
   "cell_type": "markdown",
   "id": "d420d2f0",
   "metadata": {},
   "source": [
    "### Finding Optimal Number of Topics"
   ]
  },
  {
   "cell_type": "code",
   "execution_count": 24,
   "id": "38bec827",
   "metadata": {},
   "outputs": [],
   "source": [
    "def compute_coherence_values(date, dictionary, corpus, texts, limit, start=2, step=1):\n",
    "    \"\"\"\n",
    "    Compute c_v coherence for various number of topics\n",
    "\n",
    "    Parameters:\n",
    "    ----------\n",
    "    dictionary : Gensim dictionary\n",
    "    corpus : Gensim corpus\n",
    "    texts : List of input texts\n",
    "    limit : Max num of topics\n",
    "\n",
    "    Returns:\n",
    "    -------\n",
    "    model_list : List of LDA topic models\n",
    "    coherence_values : Coherence values corresponding to the LDA model with respective number of topics\n",
    "    \"\"\"\n",
    "    coherence_values = []\n",
    "    model_list = []\n",
    "    for num_topics in range(start, limit, step):\n",
    "#         model = gensim.models.wrappers.LdaMallet(mallet_path, corpus=corpus, num_topics=num_topics, id2word=id2word)\n",
    "#         model_list.append(model)\n",
    "        model = gensim.models.ldamodel.LdaModel(corpus_vect_dict[date], num_topics = num_topics, id2word=dictionary_dict[date], passes=25)\n",
    "        ldamodel_fname = 'models/' + i.strftime('%Y-%m-%d') +'/Topics/LDAmodels'+str(num_topics)\n",
    "        model.save(ldamodel_fname)\n",
    "        model_list.append(model)\n",
    "        coherencemodel = CoherenceModel(model=model, texts=texts, dictionary=dictionary, coherence='c_v')\n",
    "        coherencemodel_fname = 'models/' + i.strftime('%Y-%m-%d') +'/Topics/COHERENCEmodels'+str(num_topics)\n",
    "        coherencemodel.save(coherencemodel_fname)\n",
    "        coherence_values.append(coherencemodel.get_coherence())\n",
    "\n",
    "    return model_list, coherence_values"
   ]
  },
  {
   "cell_type": "code",
   "execution_count": 25,
   "id": "fb01f2ec",
   "metadata": {},
   "outputs": [],
   "source": [
    "# # Can take a long time to run.\n",
    "# Will run if have time\n",
    "\n",
    "# model_list_dict = {}\n",
    "# coherence_values_dict = {}\n",
    "# for i in date_range:\n",
    "#     date = i.strftime('%Y-%m-%d')\n",
    "#     print(\"Now handling \"+date)\n",
    "#     ldamodel_path = 'models/' + i.strftime(date) +'/LDAmodels'\n",
    "#     if exists(ldamodel_path)==False:\n",
    "#         continue\n",
    "#     model_list, coherence_values = compute_coherence_values(date=date,\n",
    "#                                                             dictionary=dictionary_dict[date], \n",
    "#                                                             corpus=corpus_vect_dict[date],\n",
    "#                                                             texts=processed_tweets_dict[date],\n",
    "#                                                             start=2,\n",
    "#                                                             limit=10)\n",
    "#     model_list_dict[date] = model_list\n",
    "#     coherence_values_dict[date] = coherence_values"
   ]
  },
  {
   "cell_type": "code",
   "execution_count": 27,
   "id": "247e7daf",
   "metadata": {},
   "outputs": [],
   "source": [
    "def load_coherence_values(date, dictionary, corpus, texts, limit, start=2, step=1):\n",
    "    \"\"\"\n",
    "    Load c_v coherence for various number of topics\n",
    "\n",
    "    Parameters:\n",
    "    ----------\n",
    "    dictionary : Gensim dictionary\n",
    "    corpus : Gensim corpus\n",
    "    texts : List of input texts\n",
    "    limit : Max num of topics\n",
    "\n",
    "    Returns:\n",
    "    -------\n",
    "    model_list : List of LDA topic models\n",
    "    coherence_values : Coherence values corresponding to the LDA model with respective number of topics\n",
    "    \"\"\"\n",
    "    coherence_values = []\n",
    "    model_list = []\n",
    "    for num_topics in range(start, limit, step):\n",
    "        date = i.strftime('%Y-%m-%d')\n",
    "        ldamodel_fname = 'models/' + date +'/Topics/LDAmodels'+str(num_topics)\n",
    "        model = models.ldamodel.LdaModel.load(ldamodel_fname)\n",
    "        model_list.append(model)\n",
    "        coherencemodel_fname = 'models/' + date +'/Topics/COHERENCEmodels'+str(num_topics)\n",
    "        coherencemodel = models.ldamodel.LdaModel.load(coherencemodel_fname)\n",
    "        coherence_values.append(coherencemodel.get_coherence())\n",
    "\n",
    "    return model_list, coherence_values"
   ]
  },
  {
   "cell_type": "code",
   "execution_count": 28,
   "id": "ed9b565f",
   "metadata": {},
   "outputs": [
    {
     "name": "stderr",
     "output_type": "stream",
     "text": [
      "WARNING:root:random_state not set so using default value\n",
      "WARNING:root:failed to load state from models/2021-07-19/Topics/COHERENCEmodels2.state: [Errno 2] No such file or directory: 'models/2021-07-19/Topics/COHERENCEmodels2.state'\n"
     ]
    },
    {
     "name": "stdout",
     "output_type": "stream",
     "text": [
      "Now loading 2021-07-19\n"
     ]
    },
    {
     "name": "stderr",
     "output_type": "stream",
     "text": [
      "WARNING:root:random_state not set so using default value\n",
      "WARNING:root:failed to load state from models/2021-07-19/Topics/COHERENCEmodels3.state: [Errno 2] No such file or directory: 'models/2021-07-19/Topics/COHERENCEmodels3.state'\n",
      "WARNING:root:random_state not set so using default value\n",
      "WARNING:root:failed to load state from models/2021-07-19/Topics/COHERENCEmodels4.state: [Errno 2] No such file or directory: 'models/2021-07-19/Topics/COHERENCEmodels4.state'\n",
      "WARNING:root:random_state not set so using default value\n",
      "WARNING:root:failed to load state from models/2021-07-19/Topics/COHERENCEmodels5.state: [Errno 2] No such file or directory: 'models/2021-07-19/Topics/COHERENCEmodels5.state'\n",
      "WARNING:root:random_state not set so using default value\n",
      "WARNING:root:failed to load state from models/2021-07-19/Topics/COHERENCEmodels6.state: [Errno 2] No such file or directory: 'models/2021-07-19/Topics/COHERENCEmodels6.state'\n",
      "WARNING:root:random_state not set so using default value\n",
      "WARNING:root:failed to load state from models/2021-07-19/Topics/COHERENCEmodels7.state: [Errno 2] No such file or directory: 'models/2021-07-19/Topics/COHERENCEmodels7.state'\n",
      "WARNING:root:random_state not set so using default value\n",
      "WARNING:root:failed to load state from models/2021-07-19/Topics/COHERENCEmodels8.state: [Errno 2] No such file or directory: 'models/2021-07-19/Topics/COHERENCEmodels8.state'\n",
      "WARNING:root:random_state not set so using default value\n",
      "WARNING:root:failed to load state from models/2021-07-19/Topics/COHERENCEmodels9.state: [Errno 2] No such file or directory: 'models/2021-07-19/Topics/COHERENCEmodels9.state'\n",
      "WARNING:root:random_state not set so using default value\n",
      "WARNING:root:failed to load state from models/2021-07-20/Topics/COHERENCEmodels2.state: [Errno 2] No such file or directory: 'models/2021-07-20/Topics/COHERENCEmodels2.state'\n"
     ]
    },
    {
     "name": "stdout",
     "output_type": "stream",
     "text": [
      "Now loading 2021-07-20\n"
     ]
    },
    {
     "name": "stderr",
     "output_type": "stream",
     "text": [
      "WARNING:root:random_state not set so using default value\n",
      "WARNING:root:failed to load state from models/2021-07-20/Topics/COHERENCEmodels3.state: [Errno 2] No such file or directory: 'models/2021-07-20/Topics/COHERENCEmodels3.state'\n",
      "WARNING:root:random_state not set so using default value\n",
      "WARNING:root:failed to load state from models/2021-07-20/Topics/COHERENCEmodels4.state: [Errno 2] No such file or directory: 'models/2021-07-20/Topics/COHERENCEmodels4.state'\n",
      "WARNING:root:random_state not set so using default value\n",
      "WARNING:root:failed to load state from models/2021-07-20/Topics/COHERENCEmodels5.state: [Errno 2] No such file or directory: 'models/2021-07-20/Topics/COHERENCEmodels5.state'\n",
      "WARNING:root:random_state not set so using default value\n",
      "WARNING:root:failed to load state from models/2021-07-20/Topics/COHERENCEmodels6.state: [Errno 2] No such file or directory: 'models/2021-07-20/Topics/COHERENCEmodels6.state'\n",
      "WARNING:root:random_state not set so using default value\n",
      "WARNING:root:failed to load state from models/2021-07-20/Topics/COHERENCEmodels7.state: [Errno 2] No such file or directory: 'models/2021-07-20/Topics/COHERENCEmodels7.state'\n",
      "WARNING:root:random_state not set so using default value\n",
      "WARNING:root:failed to load state from models/2021-07-20/Topics/COHERENCEmodels8.state: [Errno 2] No such file or directory: 'models/2021-07-20/Topics/COHERENCEmodels8.state'\n",
      "WARNING:root:random_state not set so using default value\n",
      "WARNING:root:failed to load state from models/2021-07-20/Topics/COHERENCEmodels9.state: [Errno 2] No such file or directory: 'models/2021-07-20/Topics/COHERENCEmodels9.state'\n",
      "WARNING:root:random_state not set so using default value\n",
      "WARNING:root:failed to load state from models/2021-07-21/Topics/COHERENCEmodels2.state: [Errno 2] No such file or directory: 'models/2021-07-21/Topics/COHERENCEmodels2.state'\n"
     ]
    },
    {
     "name": "stdout",
     "output_type": "stream",
     "text": [
      "Now loading 2021-07-21\n"
     ]
    },
    {
     "name": "stderr",
     "output_type": "stream",
     "text": [
      "WARNING:root:random_state not set so using default value\n",
      "WARNING:root:failed to load state from models/2021-07-21/Topics/COHERENCEmodels3.state: [Errno 2] No such file or directory: 'models/2021-07-21/Topics/COHERENCEmodels3.state'\n",
      "WARNING:root:random_state not set so using default value\n",
      "WARNING:root:failed to load state from models/2021-07-21/Topics/COHERENCEmodels4.state: [Errno 2] No such file or directory: 'models/2021-07-21/Topics/COHERENCEmodels4.state'\n",
      "WARNING:root:random_state not set so using default value\n",
      "WARNING:root:failed to load state from models/2021-07-21/Topics/COHERENCEmodels5.state: [Errno 2] No such file or directory: 'models/2021-07-21/Topics/COHERENCEmodels5.state'\n",
      "WARNING:root:random_state not set so using default value\n",
      "WARNING:root:failed to load state from models/2021-07-21/Topics/COHERENCEmodels6.state: [Errno 2] No such file or directory: 'models/2021-07-21/Topics/COHERENCEmodels6.state'\n",
      "WARNING:root:random_state not set so using default value\n",
      "WARNING:root:failed to load state from models/2021-07-21/Topics/COHERENCEmodels7.state: [Errno 2] No such file or directory: 'models/2021-07-21/Topics/COHERENCEmodels7.state'\n",
      "WARNING:root:random_state not set so using default value\n",
      "WARNING:root:failed to load state from models/2021-07-21/Topics/COHERENCEmodels8.state: [Errno 2] No such file or directory: 'models/2021-07-21/Topics/COHERENCEmodels8.state'\n",
      "WARNING:root:random_state not set so using default value\n",
      "WARNING:root:failed to load state from models/2021-07-21/Topics/COHERENCEmodels9.state: [Errno 2] No such file or directory: 'models/2021-07-21/Topics/COHERENCEmodels9.state'\n",
      "WARNING:root:random_state not set so using default value\n",
      "WARNING:root:failed to load state from models/2021-07-22/Topics/COHERENCEmodels2.state: [Errno 2] No such file or directory: 'models/2021-07-22/Topics/COHERENCEmodels2.state'\n"
     ]
    },
    {
     "name": "stdout",
     "output_type": "stream",
     "text": [
      "Now loading 2021-07-22\n"
     ]
    },
    {
     "name": "stderr",
     "output_type": "stream",
     "text": [
      "WARNING:root:random_state not set so using default value\n",
      "WARNING:root:failed to load state from models/2021-07-22/Topics/COHERENCEmodels3.state: [Errno 2] No such file or directory: 'models/2021-07-22/Topics/COHERENCEmodels3.state'\n",
      "WARNING:root:random_state not set so using default value\n",
      "WARNING:root:failed to load state from models/2021-07-22/Topics/COHERENCEmodels4.state: [Errno 2] No such file or directory: 'models/2021-07-22/Topics/COHERENCEmodels4.state'\n",
      "WARNING:root:random_state not set so using default value\n",
      "WARNING:root:failed to load state from models/2021-07-22/Topics/COHERENCEmodels5.state: [Errno 2] No such file or directory: 'models/2021-07-22/Topics/COHERENCEmodels5.state'\n",
      "WARNING:root:random_state not set so using default value\n",
      "WARNING:root:failed to load state from models/2021-07-22/Topics/COHERENCEmodels6.state: [Errno 2] No such file or directory: 'models/2021-07-22/Topics/COHERENCEmodels6.state'\n",
      "WARNING:root:random_state not set so using default value\n",
      "WARNING:root:failed to load state from models/2021-07-22/Topics/COHERENCEmodels7.state: [Errno 2] No such file or directory: 'models/2021-07-22/Topics/COHERENCEmodels7.state'\n",
      "WARNING:root:random_state not set so using default value\n",
      "WARNING:root:failed to load state from models/2021-07-22/Topics/COHERENCEmodels8.state: [Errno 2] No such file or directory: 'models/2021-07-22/Topics/COHERENCEmodels8.state'\n",
      "WARNING:root:random_state not set so using default value\n",
      "WARNING:root:failed to load state from models/2021-07-22/Topics/COHERENCEmodels9.state: [Errno 2] No such file or directory: 'models/2021-07-22/Topics/COHERENCEmodels9.state'\n",
      "WARNING:root:random_state not set so using default value\n",
      "WARNING:root:failed to load state from models/2021-07-23/Topics/COHERENCEmodels2.state: [Errno 2] No such file or directory: 'models/2021-07-23/Topics/COHERENCEmodels2.state'\n"
     ]
    },
    {
     "name": "stdout",
     "output_type": "stream",
     "text": [
      "Now loading 2021-07-23\n"
     ]
    },
    {
     "name": "stderr",
     "output_type": "stream",
     "text": [
      "WARNING:root:random_state not set so using default value\n",
      "WARNING:root:failed to load state from models/2021-07-23/Topics/COHERENCEmodels3.state: [Errno 2] No such file or directory: 'models/2021-07-23/Topics/COHERENCEmodels3.state'\n",
      "WARNING:root:random_state not set so using default value\n",
      "WARNING:root:failed to load state from models/2021-07-23/Topics/COHERENCEmodels4.state: [Errno 2] No such file or directory: 'models/2021-07-23/Topics/COHERENCEmodels4.state'\n",
      "WARNING:root:random_state not set so using default value\n",
      "WARNING:root:failed to load state from models/2021-07-23/Topics/COHERENCEmodels5.state: [Errno 2] No such file or directory: 'models/2021-07-23/Topics/COHERENCEmodels5.state'\n",
      "WARNING:root:random_state not set so using default value\n",
      "WARNING:root:failed to load state from models/2021-07-23/Topics/COHERENCEmodels6.state: [Errno 2] No such file or directory: 'models/2021-07-23/Topics/COHERENCEmodels6.state'\n",
      "WARNING:root:random_state not set so using default value\n",
      "WARNING:root:failed to load state from models/2021-07-23/Topics/COHERENCEmodels7.state: [Errno 2] No such file or directory: 'models/2021-07-23/Topics/COHERENCEmodels7.state'\n",
      "WARNING:root:random_state not set so using default value\n",
      "WARNING:root:failed to load state from models/2021-07-23/Topics/COHERENCEmodels8.state: [Errno 2] No such file or directory: 'models/2021-07-23/Topics/COHERENCEmodels8.state'\n",
      "WARNING:root:random_state not set so using default value\n",
      "WARNING:root:failed to load state from models/2021-07-23/Topics/COHERENCEmodels9.state: [Errno 2] No such file or directory: 'models/2021-07-23/Topics/COHERENCEmodels9.state'\n",
      "WARNING:root:random_state not set so using default value\n",
      "WARNING:root:failed to load state from models/2021-07-24/Topics/COHERENCEmodels2.state: [Errno 2] No such file or directory: 'models/2021-07-24/Topics/COHERENCEmodels2.state'\n"
     ]
    },
    {
     "name": "stdout",
     "output_type": "stream",
     "text": [
      "Now loading 2021-07-24\n"
     ]
    },
    {
     "name": "stderr",
     "output_type": "stream",
     "text": [
      "WARNING:root:random_state not set so using default value\n",
      "WARNING:root:failed to load state from models/2021-07-24/Topics/COHERENCEmodels3.state: [Errno 2] No such file or directory: 'models/2021-07-24/Topics/COHERENCEmodels3.state'\n",
      "WARNING:root:random_state not set so using default value\n",
      "WARNING:root:failed to load state from models/2021-07-24/Topics/COHERENCEmodels4.state: [Errno 2] No such file or directory: 'models/2021-07-24/Topics/COHERENCEmodels4.state'\n",
      "WARNING:root:random_state not set so using default value\n",
      "WARNING:root:failed to load state from models/2021-07-24/Topics/COHERENCEmodels5.state: [Errno 2] No such file or directory: 'models/2021-07-24/Topics/COHERENCEmodels5.state'\n",
      "WARNING:root:random_state not set so using default value\n",
      "WARNING:root:failed to load state from models/2021-07-24/Topics/COHERENCEmodels6.state: [Errno 2] No such file or directory: 'models/2021-07-24/Topics/COHERENCEmodels6.state'\n",
      "WARNING:root:random_state not set so using default value\n",
      "WARNING:root:failed to load state from models/2021-07-24/Topics/COHERENCEmodels7.state: [Errno 2] No such file or directory: 'models/2021-07-24/Topics/COHERENCEmodels7.state'\n",
      "WARNING:root:random_state not set so using default value\n",
      "WARNING:root:failed to load state from models/2021-07-24/Topics/COHERENCEmodels8.state: [Errno 2] No such file or directory: 'models/2021-07-24/Topics/COHERENCEmodels8.state'\n",
      "WARNING:root:random_state not set so using default value\n",
      "WARNING:root:failed to load state from models/2021-07-24/Topics/COHERENCEmodels9.state: [Errno 2] No such file or directory: 'models/2021-07-24/Topics/COHERENCEmodels9.state'\n",
      "WARNING:root:random_state not set so using default value\n",
      "WARNING:root:failed to load state from models/2021-07-25/Topics/COHERENCEmodels2.state: [Errno 2] No such file or directory: 'models/2021-07-25/Topics/COHERENCEmodels2.state'\n"
     ]
    },
    {
     "name": "stdout",
     "output_type": "stream",
     "text": [
      "Now loading 2021-07-25\n"
     ]
    },
    {
     "name": "stderr",
     "output_type": "stream",
     "text": [
      "WARNING:root:random_state not set so using default value\n",
      "WARNING:root:failed to load state from models/2021-07-25/Topics/COHERENCEmodels3.state: [Errno 2] No such file or directory: 'models/2021-07-25/Topics/COHERENCEmodels3.state'\n",
      "WARNING:root:random_state not set so using default value\n",
      "WARNING:root:failed to load state from models/2021-07-25/Topics/COHERENCEmodels4.state: [Errno 2] No such file or directory: 'models/2021-07-25/Topics/COHERENCEmodels4.state'\n",
      "WARNING:root:random_state not set so using default value\n",
      "WARNING:root:failed to load state from models/2021-07-25/Topics/COHERENCEmodels5.state: [Errno 2] No such file or directory: 'models/2021-07-25/Topics/COHERENCEmodels5.state'\n",
      "WARNING:root:random_state not set so using default value\n",
      "WARNING:root:failed to load state from models/2021-07-25/Topics/COHERENCEmodels6.state: [Errno 2] No such file or directory: 'models/2021-07-25/Topics/COHERENCEmodels6.state'\n",
      "WARNING:root:random_state not set so using default value\n",
      "WARNING:root:failed to load state from models/2021-07-25/Topics/COHERENCEmodels7.state: [Errno 2] No such file or directory: 'models/2021-07-25/Topics/COHERENCEmodels7.state'\n",
      "WARNING:root:random_state not set so using default value\n",
      "WARNING:root:failed to load state from models/2021-07-25/Topics/COHERENCEmodels8.state: [Errno 2] No such file or directory: 'models/2021-07-25/Topics/COHERENCEmodels8.state'\n",
      "WARNING:root:random_state not set so using default value\n",
      "WARNING:root:failed to load state from models/2021-07-25/Topics/COHERENCEmodels9.state: [Errno 2] No such file or directory: 'models/2021-07-25/Topics/COHERENCEmodels9.state'\n"
     ]
    },
    {
     "name": "stdout",
     "output_type": "stream",
     "text": [
      "Now loading 2021-07-26\n"
     ]
    },
    {
     "name": "stderr",
     "output_type": "stream",
     "text": [
      "WARNING:root:random_state not set so using default value\n",
      "WARNING:root:failed to load state from models/2021-07-26/Topics/COHERENCEmodels2.state: [Errno 2] No such file or directory: 'models/2021-07-26/Topics/COHERENCEmodels2.state'\n",
      "WARNING:root:random_state not set so using default value\n",
      "WARNING:root:failed to load state from models/2021-07-26/Topics/COHERENCEmodels3.state: [Errno 2] No such file or directory: 'models/2021-07-26/Topics/COHERENCEmodels3.state'\n",
      "WARNING:root:random_state not set so using default value\n",
      "WARNING:root:failed to load state from models/2021-07-26/Topics/COHERENCEmodels4.state: [Errno 2] No such file or directory: 'models/2021-07-26/Topics/COHERENCEmodels4.state'\n",
      "WARNING:root:random_state not set so using default value\n",
      "WARNING:root:failed to load state from models/2021-07-26/Topics/COHERENCEmodels5.state: [Errno 2] No such file or directory: 'models/2021-07-26/Topics/COHERENCEmodels5.state'\n",
      "WARNING:root:random_state not set so using default value\n",
      "WARNING:root:failed to load state from models/2021-07-26/Topics/COHERENCEmodels6.state: [Errno 2] No such file or directory: 'models/2021-07-26/Topics/COHERENCEmodels6.state'\n",
      "WARNING:root:random_state not set so using default value\n",
      "WARNING:root:failed to load state from models/2021-07-26/Topics/COHERENCEmodels7.state: [Errno 2] No such file or directory: 'models/2021-07-26/Topics/COHERENCEmodels7.state'\n",
      "WARNING:root:random_state not set so using default value\n",
      "WARNING:root:failed to load state from models/2021-07-26/Topics/COHERENCEmodels8.state: [Errno 2] No such file or directory: 'models/2021-07-26/Topics/COHERENCEmodels8.state'\n",
      "WARNING:root:random_state not set so using default value\n",
      "WARNING:root:failed to load state from models/2021-07-26/Topics/COHERENCEmodels9.state: [Errno 2] No such file or directory: 'models/2021-07-26/Topics/COHERENCEmodels9.state'\n"
     ]
    },
    {
     "name": "stdout",
     "output_type": "stream",
     "text": [
      "Now loading 2021-07-27\n"
     ]
    },
    {
     "name": "stderr",
     "output_type": "stream",
     "text": [
      "WARNING:root:random_state not set so using default value\n",
      "WARNING:root:failed to load state from models/2021-07-27/Topics/COHERENCEmodels2.state: [Errno 2] No such file or directory: 'models/2021-07-27/Topics/COHERENCEmodels2.state'\n",
      "WARNING:root:random_state not set so using default value\n",
      "WARNING:root:failed to load state from models/2021-07-27/Topics/COHERENCEmodels3.state: [Errno 2] No such file or directory: 'models/2021-07-27/Topics/COHERENCEmodels3.state'\n",
      "WARNING:root:random_state not set so using default value\n",
      "WARNING:root:failed to load state from models/2021-07-27/Topics/COHERENCEmodels4.state: [Errno 2] No such file or directory: 'models/2021-07-27/Topics/COHERENCEmodels4.state'\n",
      "WARNING:root:random_state not set so using default value\n",
      "WARNING:root:failed to load state from models/2021-07-27/Topics/COHERENCEmodels5.state: [Errno 2] No such file or directory: 'models/2021-07-27/Topics/COHERENCEmodels5.state'\n",
      "WARNING:root:random_state not set so using default value\n",
      "WARNING:root:failed to load state from models/2021-07-27/Topics/COHERENCEmodels6.state: [Errno 2] No such file or directory: 'models/2021-07-27/Topics/COHERENCEmodels6.state'\n",
      "WARNING:root:random_state not set so using default value\n",
      "WARNING:root:failed to load state from models/2021-07-27/Topics/COHERENCEmodels7.state: [Errno 2] No such file or directory: 'models/2021-07-27/Topics/COHERENCEmodels7.state'\n",
      "WARNING:root:random_state not set so using default value\n",
      "WARNING:root:failed to load state from models/2021-07-27/Topics/COHERENCEmodels8.state: [Errno 2] No such file or directory: 'models/2021-07-27/Topics/COHERENCEmodels8.state'\n",
      "WARNING:root:random_state not set so using default value\n",
      "WARNING:root:failed to load state from models/2021-07-27/Topics/COHERENCEmodels9.state: [Errno 2] No such file or directory: 'models/2021-07-27/Topics/COHERENCEmodels9.state'\n",
      "WARNING:root:random_state not set so using default value\n",
      "WARNING:root:failed to load state from models/2021-07-28/Topics/COHERENCEmodels2.state: [Errno 2] No such file or directory: 'models/2021-07-28/Topics/COHERENCEmodels2.state'\n"
     ]
    },
    {
     "name": "stdout",
     "output_type": "stream",
     "text": [
      "Now loading 2021-07-28\n"
     ]
    },
    {
     "name": "stderr",
     "output_type": "stream",
     "text": [
      "WARNING:root:random_state not set so using default value\n",
      "WARNING:root:failed to load state from models/2021-07-28/Topics/COHERENCEmodels3.state: [Errno 2] No such file or directory: 'models/2021-07-28/Topics/COHERENCEmodels3.state'\n",
      "WARNING:root:random_state not set so using default value\n",
      "WARNING:root:failed to load state from models/2021-07-28/Topics/COHERENCEmodels4.state: [Errno 2] No such file or directory: 'models/2021-07-28/Topics/COHERENCEmodels4.state'\n",
      "WARNING:root:random_state not set so using default value\n",
      "WARNING:root:failed to load state from models/2021-07-28/Topics/COHERENCEmodels5.state: [Errno 2] No such file or directory: 'models/2021-07-28/Topics/COHERENCEmodels5.state'\n",
      "WARNING:root:random_state not set so using default value\n",
      "WARNING:root:failed to load state from models/2021-07-28/Topics/COHERENCEmodels6.state: [Errno 2] No such file or directory: 'models/2021-07-28/Topics/COHERENCEmodels6.state'\n",
      "WARNING:root:random_state not set so using default value\n",
      "WARNING:root:failed to load state from models/2021-07-28/Topics/COHERENCEmodels7.state: [Errno 2] No such file or directory: 'models/2021-07-28/Topics/COHERENCEmodels7.state'\n",
      "WARNING:root:random_state not set so using default value\n",
      "WARNING:root:failed to load state from models/2021-07-28/Topics/COHERENCEmodels8.state: [Errno 2] No such file or directory: 'models/2021-07-28/Topics/COHERENCEmodels8.state'\n",
      "WARNING:root:random_state not set so using default value\n",
      "WARNING:root:failed to load state from models/2021-07-28/Topics/COHERENCEmodels9.state: [Errno 2] No such file or directory: 'models/2021-07-28/Topics/COHERENCEmodels9.state'\n",
      "WARNING:root:random_state not set so using default value\n",
      "WARNING:root:failed to load state from models/2021-07-29/Topics/COHERENCEmodels2.state: [Errno 2] No such file or directory: 'models/2021-07-29/Topics/COHERENCEmodels2.state'\n"
     ]
    },
    {
     "name": "stdout",
     "output_type": "stream",
     "text": [
      "Now loading 2021-07-29\n"
     ]
    },
    {
     "name": "stderr",
     "output_type": "stream",
     "text": [
      "WARNING:root:random_state not set so using default value\n",
      "WARNING:root:failed to load state from models/2021-07-29/Topics/COHERENCEmodels3.state: [Errno 2] No such file or directory: 'models/2021-07-29/Topics/COHERENCEmodels3.state'\n",
      "WARNING:root:random_state not set so using default value\n",
      "WARNING:root:failed to load state from models/2021-07-29/Topics/COHERENCEmodels4.state: [Errno 2] No such file or directory: 'models/2021-07-29/Topics/COHERENCEmodels4.state'\n",
      "WARNING:root:random_state not set so using default value\n",
      "WARNING:root:failed to load state from models/2021-07-29/Topics/COHERENCEmodels5.state: [Errno 2] No such file or directory: 'models/2021-07-29/Topics/COHERENCEmodels5.state'\n",
      "WARNING:root:random_state not set so using default value\n",
      "WARNING:root:failed to load state from models/2021-07-29/Topics/COHERENCEmodels6.state: [Errno 2] No such file or directory: 'models/2021-07-29/Topics/COHERENCEmodels6.state'\n",
      "WARNING:root:random_state not set so using default value\n",
      "WARNING:root:failed to load state from models/2021-07-29/Topics/COHERENCEmodels7.state: [Errno 2] No such file or directory: 'models/2021-07-29/Topics/COHERENCEmodels7.state'\n",
      "WARNING:root:random_state not set so using default value\n",
      "WARNING:root:failed to load state from models/2021-07-29/Topics/COHERENCEmodels8.state: [Errno 2] No such file or directory: 'models/2021-07-29/Topics/COHERENCEmodels8.state'\n",
      "WARNING:root:random_state not set so using default value\n",
      "WARNING:root:failed to load state from models/2021-07-29/Topics/COHERENCEmodels9.state: [Errno 2] No such file or directory: 'models/2021-07-29/Topics/COHERENCEmodels9.state'\n"
     ]
    },
    {
     "name": "stdout",
     "output_type": "stream",
     "text": [
      "Now loading 2021-07-30\n"
     ]
    },
    {
     "name": "stderr",
     "output_type": "stream",
     "text": [
      "WARNING:root:random_state not set so using default value\n",
      "WARNING:root:failed to load state from models/2021-07-30/Topics/COHERENCEmodels2.state: [Errno 2] No such file or directory: 'models/2021-07-30/Topics/COHERENCEmodels2.state'\n",
      "WARNING:root:random_state not set so using default value\n",
      "WARNING:root:failed to load state from models/2021-07-30/Topics/COHERENCEmodels3.state: [Errno 2] No such file or directory: 'models/2021-07-30/Topics/COHERENCEmodels3.state'\n",
      "WARNING:root:random_state not set so using default value\n",
      "WARNING:root:failed to load state from models/2021-07-30/Topics/COHERENCEmodels4.state: [Errno 2] No such file or directory: 'models/2021-07-30/Topics/COHERENCEmodels4.state'\n",
      "WARNING:root:random_state not set so using default value\n",
      "WARNING:root:failed to load state from models/2021-07-30/Topics/COHERENCEmodels5.state: [Errno 2] No such file or directory: 'models/2021-07-30/Topics/COHERENCEmodels5.state'\n",
      "WARNING:root:random_state not set so using default value\n",
      "WARNING:root:failed to load state from models/2021-07-30/Topics/COHERENCEmodels6.state: [Errno 2] No such file or directory: 'models/2021-07-30/Topics/COHERENCEmodels6.state'\n",
      "WARNING:root:random_state not set so using default value\n",
      "WARNING:root:failed to load state from models/2021-07-30/Topics/COHERENCEmodels7.state: [Errno 2] No such file or directory: 'models/2021-07-30/Topics/COHERENCEmodels7.state'\n",
      "WARNING:root:random_state not set so using default value\n",
      "WARNING:root:failed to load state from models/2021-07-30/Topics/COHERENCEmodels8.state: [Errno 2] No such file or directory: 'models/2021-07-30/Topics/COHERENCEmodels8.state'\n",
      "WARNING:root:random_state not set so using default value\n",
      "WARNING:root:failed to load state from models/2021-07-30/Topics/COHERENCEmodels9.state: [Errno 2] No such file or directory: 'models/2021-07-30/Topics/COHERENCEmodels9.state'\n",
      "WARNING:root:random_state not set so using default value\n",
      "WARNING:root:failed to load state from models/2021-07-31/Topics/COHERENCEmodels2.state: [Errno 2] No such file or directory: 'models/2021-07-31/Topics/COHERENCEmodels2.state'\n"
     ]
    },
    {
     "name": "stdout",
     "output_type": "stream",
     "text": [
      "Now loading 2021-07-31\n"
     ]
    },
    {
     "name": "stderr",
     "output_type": "stream",
     "text": [
      "WARNING:root:random_state not set so using default value\n",
      "WARNING:root:failed to load state from models/2021-07-31/Topics/COHERENCEmodels3.state: [Errno 2] No such file or directory: 'models/2021-07-31/Topics/COHERENCEmodels3.state'\n",
      "WARNING:root:random_state not set so using default value\n",
      "WARNING:root:failed to load state from models/2021-07-31/Topics/COHERENCEmodels4.state: [Errno 2] No such file or directory: 'models/2021-07-31/Topics/COHERENCEmodels4.state'\n",
      "WARNING:root:random_state not set so using default value\n",
      "WARNING:root:failed to load state from models/2021-07-31/Topics/COHERENCEmodels5.state: [Errno 2] No such file or directory: 'models/2021-07-31/Topics/COHERENCEmodels5.state'\n",
      "WARNING:root:random_state not set so using default value\n",
      "WARNING:root:failed to load state from models/2021-07-31/Topics/COHERENCEmodels6.state: [Errno 2] No such file or directory: 'models/2021-07-31/Topics/COHERENCEmodels6.state'\n",
      "WARNING:root:random_state not set so using default value\n",
      "WARNING:root:failed to load state from models/2021-07-31/Topics/COHERENCEmodels7.state: [Errno 2] No such file or directory: 'models/2021-07-31/Topics/COHERENCEmodels7.state'\n",
      "WARNING:root:random_state not set so using default value\n",
      "WARNING:root:failed to load state from models/2021-07-31/Topics/COHERENCEmodels8.state: [Errno 2] No such file or directory: 'models/2021-07-31/Topics/COHERENCEmodels8.state'\n",
      "WARNING:root:random_state not set so using default value\n",
      "WARNING:root:failed to load state from models/2021-07-31/Topics/COHERENCEmodels9.state: [Errno 2] No such file or directory: 'models/2021-07-31/Topics/COHERENCEmodels9.state'\n",
      "WARNING:root:random_state not set so using default value\n",
      "WARNING:root:failed to load state from models/2021-08-01/Topics/COHERENCEmodels2.state: [Errno 2] No such file or directory: 'models/2021-08-01/Topics/COHERENCEmodels2.state'\n"
     ]
    },
    {
     "name": "stdout",
     "output_type": "stream",
     "text": [
      "Now loading 2021-08-01\n"
     ]
    },
    {
     "name": "stderr",
     "output_type": "stream",
     "text": [
      "WARNING:root:random_state not set so using default value\n",
      "WARNING:root:failed to load state from models/2021-08-01/Topics/COHERENCEmodels3.state: [Errno 2] No such file or directory: 'models/2021-08-01/Topics/COHERENCEmodels3.state'\n",
      "WARNING:root:random_state not set so using default value\n",
      "WARNING:root:failed to load state from models/2021-08-01/Topics/COHERENCEmodels4.state: [Errno 2] No such file or directory: 'models/2021-08-01/Topics/COHERENCEmodels4.state'\n",
      "WARNING:root:random_state not set so using default value\n",
      "WARNING:root:failed to load state from models/2021-08-01/Topics/COHERENCEmodels5.state: [Errno 2] No such file or directory: 'models/2021-08-01/Topics/COHERENCEmodels5.state'\n",
      "WARNING:root:random_state not set so using default value\n",
      "WARNING:root:failed to load state from models/2021-08-01/Topics/COHERENCEmodels6.state: [Errno 2] No such file or directory: 'models/2021-08-01/Topics/COHERENCEmodels6.state'\n",
      "WARNING:root:random_state not set so using default value\n",
      "WARNING:root:failed to load state from models/2021-08-01/Topics/COHERENCEmodels7.state: [Errno 2] No such file or directory: 'models/2021-08-01/Topics/COHERENCEmodels7.state'\n",
      "WARNING:root:random_state not set so using default value\n",
      "WARNING:root:failed to load state from models/2021-08-01/Topics/COHERENCEmodels8.state: [Errno 2] No such file or directory: 'models/2021-08-01/Topics/COHERENCEmodels8.state'\n",
      "WARNING:root:random_state not set so using default value\n",
      "WARNING:root:failed to load state from models/2021-08-01/Topics/COHERENCEmodels9.state: [Errno 2] No such file or directory: 'models/2021-08-01/Topics/COHERENCEmodels9.state'\n",
      "WARNING:root:random_state not set so using default value\n",
      "WARNING:root:failed to load state from models/2021-08-02/Topics/COHERENCEmodels2.state: [Errno 2] No such file or directory: 'models/2021-08-02/Topics/COHERENCEmodels2.state'\n"
     ]
    },
    {
     "name": "stdout",
     "output_type": "stream",
     "text": [
      "Now loading 2021-08-02\n"
     ]
    },
    {
     "name": "stderr",
     "output_type": "stream",
     "text": [
      "WARNING:root:random_state not set so using default value\n",
      "WARNING:root:failed to load state from models/2021-08-02/Topics/COHERENCEmodels3.state: [Errno 2] No such file or directory: 'models/2021-08-02/Topics/COHERENCEmodels3.state'\n",
      "WARNING:root:random_state not set so using default value\n",
      "WARNING:root:failed to load state from models/2021-08-02/Topics/COHERENCEmodels4.state: [Errno 2] No such file or directory: 'models/2021-08-02/Topics/COHERENCEmodels4.state'\n",
      "WARNING:root:random_state not set so using default value\n",
      "WARNING:root:failed to load state from models/2021-08-02/Topics/COHERENCEmodels5.state: [Errno 2] No such file or directory: 'models/2021-08-02/Topics/COHERENCEmodels5.state'\n",
      "WARNING:root:random_state not set so using default value\n",
      "WARNING:root:failed to load state from models/2021-08-02/Topics/COHERENCEmodels6.state: [Errno 2] No such file or directory: 'models/2021-08-02/Topics/COHERENCEmodels6.state'\n",
      "WARNING:root:random_state not set so using default value\n",
      "WARNING:root:failed to load state from models/2021-08-02/Topics/COHERENCEmodels7.state: [Errno 2] No such file or directory: 'models/2021-08-02/Topics/COHERENCEmodels7.state'\n",
      "WARNING:root:random_state not set so using default value\n",
      "WARNING:root:failed to load state from models/2021-08-02/Topics/COHERENCEmodels8.state: [Errno 2] No such file or directory: 'models/2021-08-02/Topics/COHERENCEmodels8.state'\n",
      "WARNING:root:random_state not set so using default value\n",
      "WARNING:root:failed to load state from models/2021-08-02/Topics/COHERENCEmodels9.state: [Errno 2] No such file or directory: 'models/2021-08-02/Topics/COHERENCEmodels9.state'\n",
      "WARNING:root:random_state not set so using default value\n",
      "WARNING:root:failed to load state from models/2021-08-03/Topics/COHERENCEmodels2.state: [Errno 2] No such file or directory: 'models/2021-08-03/Topics/COHERENCEmodels2.state'\n"
     ]
    },
    {
     "name": "stdout",
     "output_type": "stream",
     "text": [
      "Now loading 2021-08-03\n"
     ]
    },
    {
     "name": "stderr",
     "output_type": "stream",
     "text": [
      "WARNING:root:random_state not set so using default value\n",
      "WARNING:root:failed to load state from models/2021-08-03/Topics/COHERENCEmodels3.state: [Errno 2] No such file or directory: 'models/2021-08-03/Topics/COHERENCEmodels3.state'\n",
      "WARNING:root:random_state not set so using default value\n",
      "WARNING:root:failed to load state from models/2021-08-03/Topics/COHERENCEmodels4.state: [Errno 2] No such file or directory: 'models/2021-08-03/Topics/COHERENCEmodels4.state'\n",
      "WARNING:root:random_state not set so using default value\n",
      "WARNING:root:failed to load state from models/2021-08-03/Topics/COHERENCEmodels5.state: [Errno 2] No such file or directory: 'models/2021-08-03/Topics/COHERENCEmodels5.state'\n",
      "WARNING:root:random_state not set so using default value\n",
      "WARNING:root:failed to load state from models/2021-08-03/Topics/COHERENCEmodels6.state: [Errno 2] No such file or directory: 'models/2021-08-03/Topics/COHERENCEmodels6.state'\n",
      "WARNING:root:random_state not set so using default value\n",
      "WARNING:root:failed to load state from models/2021-08-03/Topics/COHERENCEmodels7.state: [Errno 2] No such file or directory: 'models/2021-08-03/Topics/COHERENCEmodels7.state'\n",
      "WARNING:root:random_state not set so using default value\n",
      "WARNING:root:failed to load state from models/2021-08-03/Topics/COHERENCEmodels8.state: [Errno 2] No such file or directory: 'models/2021-08-03/Topics/COHERENCEmodels8.state'\n",
      "WARNING:root:random_state not set so using default value\n",
      "WARNING:root:failed to load state from models/2021-08-03/Topics/COHERENCEmodels9.state: [Errno 2] No such file or directory: 'models/2021-08-03/Topics/COHERENCEmodels9.state'\n",
      "WARNING:root:random_state not set so using default value\n",
      "WARNING:root:failed to load state from models/2021-08-04/Topics/COHERENCEmodels2.state: [Errno 2] No such file or directory: 'models/2021-08-04/Topics/COHERENCEmodels2.state'\n"
     ]
    },
    {
     "name": "stdout",
     "output_type": "stream",
     "text": [
      "Now loading 2021-08-04\n"
     ]
    },
    {
     "name": "stderr",
     "output_type": "stream",
     "text": [
      "WARNING:root:random_state not set so using default value\n",
      "WARNING:root:failed to load state from models/2021-08-04/Topics/COHERENCEmodels3.state: [Errno 2] No such file or directory: 'models/2021-08-04/Topics/COHERENCEmodels3.state'\n",
      "WARNING:root:random_state not set so using default value\n",
      "WARNING:root:failed to load state from models/2021-08-04/Topics/COHERENCEmodels4.state: [Errno 2] No such file or directory: 'models/2021-08-04/Topics/COHERENCEmodels4.state'\n",
      "WARNING:root:random_state not set so using default value\n",
      "WARNING:root:failed to load state from models/2021-08-04/Topics/COHERENCEmodels5.state: [Errno 2] No such file or directory: 'models/2021-08-04/Topics/COHERENCEmodels5.state'\n",
      "WARNING:root:random_state not set so using default value\n",
      "WARNING:root:failed to load state from models/2021-08-04/Topics/COHERENCEmodels6.state: [Errno 2] No such file or directory: 'models/2021-08-04/Topics/COHERENCEmodels6.state'\n",
      "WARNING:root:random_state not set so using default value\n",
      "WARNING:root:failed to load state from models/2021-08-04/Topics/COHERENCEmodels7.state: [Errno 2] No such file or directory: 'models/2021-08-04/Topics/COHERENCEmodels7.state'\n",
      "WARNING:root:random_state not set so using default value\n",
      "WARNING:root:failed to load state from models/2021-08-04/Topics/COHERENCEmodels8.state: [Errno 2] No such file or directory: 'models/2021-08-04/Topics/COHERENCEmodels8.state'\n",
      "WARNING:root:random_state not set so using default value\n",
      "WARNING:root:failed to load state from models/2021-08-04/Topics/COHERENCEmodels9.state: [Errno 2] No such file or directory: 'models/2021-08-04/Topics/COHERENCEmodels9.state'\n",
      "WARNING:root:random_state not set so using default value\n",
      "WARNING:root:failed to load state from models/2021-08-05/Topics/COHERENCEmodels2.state: [Errno 2] No such file or directory: 'models/2021-08-05/Topics/COHERENCEmodels2.state'\n"
     ]
    },
    {
     "name": "stdout",
     "output_type": "stream",
     "text": [
      "Now loading 2021-08-05\n"
     ]
    },
    {
     "name": "stderr",
     "output_type": "stream",
     "text": [
      "WARNING:root:random_state not set so using default value\n",
      "WARNING:root:failed to load state from models/2021-08-05/Topics/COHERENCEmodels3.state: [Errno 2] No such file or directory: 'models/2021-08-05/Topics/COHERENCEmodels3.state'\n",
      "WARNING:root:random_state not set so using default value\n",
      "WARNING:root:failed to load state from models/2021-08-05/Topics/COHERENCEmodels4.state: [Errno 2] No such file or directory: 'models/2021-08-05/Topics/COHERENCEmodels4.state'\n",
      "WARNING:root:random_state not set so using default value\n",
      "WARNING:root:failed to load state from models/2021-08-05/Topics/COHERENCEmodels5.state: [Errno 2] No such file or directory: 'models/2021-08-05/Topics/COHERENCEmodels5.state'\n",
      "WARNING:root:random_state not set so using default value\n",
      "WARNING:root:failed to load state from models/2021-08-05/Topics/COHERENCEmodels6.state: [Errno 2] No such file or directory: 'models/2021-08-05/Topics/COHERENCEmodels6.state'\n",
      "WARNING:root:random_state not set so using default value\n",
      "WARNING:root:failed to load state from models/2021-08-05/Topics/COHERENCEmodels7.state: [Errno 2] No such file or directory: 'models/2021-08-05/Topics/COHERENCEmodels7.state'\n",
      "WARNING:root:random_state not set so using default value\n",
      "WARNING:root:failed to load state from models/2021-08-05/Topics/COHERENCEmodels8.state: [Errno 2] No such file or directory: 'models/2021-08-05/Topics/COHERENCEmodels8.state'\n",
      "WARNING:root:random_state not set so using default value\n",
      "WARNING:root:failed to load state from models/2021-08-05/Topics/COHERENCEmodels9.state: [Errno 2] No such file or directory: 'models/2021-08-05/Topics/COHERENCEmodels9.state'\n",
      "WARNING:root:random_state not set so using default value\n",
      "WARNING:root:failed to load state from models/2021-08-06/Topics/COHERENCEmodels2.state: [Errno 2] No such file or directory: 'models/2021-08-06/Topics/COHERENCEmodels2.state'\n"
     ]
    },
    {
     "name": "stdout",
     "output_type": "stream",
     "text": [
      "Now loading 2021-08-06\n"
     ]
    },
    {
     "name": "stderr",
     "output_type": "stream",
     "text": [
      "WARNING:root:random_state not set so using default value\n",
      "WARNING:root:failed to load state from models/2021-08-06/Topics/COHERENCEmodels3.state: [Errno 2] No such file or directory: 'models/2021-08-06/Topics/COHERENCEmodels3.state'\n",
      "WARNING:root:random_state not set so using default value\n",
      "WARNING:root:failed to load state from models/2021-08-06/Topics/COHERENCEmodels4.state: [Errno 2] No such file or directory: 'models/2021-08-06/Topics/COHERENCEmodels4.state'\n",
      "WARNING:root:random_state not set so using default value\n",
      "WARNING:root:failed to load state from models/2021-08-06/Topics/COHERENCEmodels5.state: [Errno 2] No such file or directory: 'models/2021-08-06/Topics/COHERENCEmodels5.state'\n",
      "WARNING:root:random_state not set so using default value\n",
      "WARNING:root:failed to load state from models/2021-08-06/Topics/COHERENCEmodels6.state: [Errno 2] No such file or directory: 'models/2021-08-06/Topics/COHERENCEmodels6.state'\n",
      "WARNING:root:random_state not set so using default value\n",
      "WARNING:root:failed to load state from models/2021-08-06/Topics/COHERENCEmodels7.state: [Errno 2] No such file or directory: 'models/2021-08-06/Topics/COHERENCEmodels7.state'\n",
      "WARNING:root:random_state not set so using default value\n",
      "WARNING:root:failed to load state from models/2021-08-06/Topics/COHERENCEmodels8.state: [Errno 2] No such file or directory: 'models/2021-08-06/Topics/COHERENCEmodels8.state'\n",
      "WARNING:root:random_state not set so using default value\n",
      "WARNING:root:failed to load state from models/2021-08-06/Topics/COHERENCEmodels9.state: [Errno 2] No such file or directory: 'models/2021-08-06/Topics/COHERENCEmodels9.state'\n",
      "WARNING:root:random_state not set so using default value\n",
      "WARNING:root:failed to load state from models/2021-08-07/Topics/COHERENCEmodels2.state: [Errno 2] No such file or directory: 'models/2021-08-07/Topics/COHERENCEmodels2.state'\n"
     ]
    },
    {
     "name": "stdout",
     "output_type": "stream",
     "text": [
      "Now loading 2021-08-07\n"
     ]
    },
    {
     "name": "stderr",
     "output_type": "stream",
     "text": [
      "WARNING:root:random_state not set so using default value\n",
      "WARNING:root:failed to load state from models/2021-08-07/Topics/COHERENCEmodels3.state: [Errno 2] No such file or directory: 'models/2021-08-07/Topics/COHERENCEmodels3.state'\n",
      "WARNING:root:random_state not set so using default value\n",
      "WARNING:root:failed to load state from models/2021-08-07/Topics/COHERENCEmodels4.state: [Errno 2] No such file or directory: 'models/2021-08-07/Topics/COHERENCEmodels4.state'\n",
      "WARNING:root:random_state not set so using default value\n",
      "WARNING:root:failed to load state from models/2021-08-07/Topics/COHERENCEmodels5.state: [Errno 2] No such file or directory: 'models/2021-08-07/Topics/COHERENCEmodels5.state'\n",
      "WARNING:root:random_state not set so using default value\n",
      "WARNING:root:failed to load state from models/2021-08-07/Topics/COHERENCEmodels6.state: [Errno 2] No such file or directory: 'models/2021-08-07/Topics/COHERENCEmodels6.state'\n",
      "WARNING:root:random_state not set so using default value\n",
      "WARNING:root:failed to load state from models/2021-08-07/Topics/COHERENCEmodels7.state: [Errno 2] No such file or directory: 'models/2021-08-07/Topics/COHERENCEmodels7.state'\n",
      "WARNING:root:random_state not set so using default value\n",
      "WARNING:root:failed to load state from models/2021-08-07/Topics/COHERENCEmodels8.state: [Errno 2] No such file or directory: 'models/2021-08-07/Topics/COHERENCEmodels8.state'\n",
      "WARNING:root:random_state not set so using default value\n",
      "WARNING:root:failed to load state from models/2021-08-07/Topics/COHERENCEmodels9.state: [Errno 2] No such file or directory: 'models/2021-08-07/Topics/COHERENCEmodels9.state'\n",
      "WARNING:root:random_state not set so using default value\n",
      "WARNING:root:failed to load state from models/2021-08-08/Topics/COHERENCEmodels2.state: [Errno 2] No such file or directory: 'models/2021-08-08/Topics/COHERENCEmodels2.state'\n"
     ]
    },
    {
     "name": "stdout",
     "output_type": "stream",
     "text": [
      "Now loading 2021-08-08\n"
     ]
    },
    {
     "name": "stderr",
     "output_type": "stream",
     "text": [
      "WARNING:root:random_state not set so using default value\n",
      "WARNING:root:failed to load state from models/2021-08-08/Topics/COHERENCEmodels3.state: [Errno 2] No such file or directory: 'models/2021-08-08/Topics/COHERENCEmodels3.state'\n",
      "WARNING:root:random_state not set so using default value\n",
      "WARNING:root:failed to load state from models/2021-08-08/Topics/COHERENCEmodels4.state: [Errno 2] No such file or directory: 'models/2021-08-08/Topics/COHERENCEmodels4.state'\n",
      "WARNING:root:random_state not set so using default value\n",
      "WARNING:root:failed to load state from models/2021-08-08/Topics/COHERENCEmodels5.state: [Errno 2] No such file or directory: 'models/2021-08-08/Topics/COHERENCEmodels5.state'\n",
      "WARNING:root:random_state not set so using default value\n",
      "WARNING:root:failed to load state from models/2021-08-08/Topics/COHERENCEmodels6.state: [Errno 2] No such file or directory: 'models/2021-08-08/Topics/COHERENCEmodels6.state'\n",
      "WARNING:root:random_state not set so using default value\n",
      "WARNING:root:failed to load state from models/2021-08-08/Topics/COHERENCEmodels7.state: [Errno 2] No such file or directory: 'models/2021-08-08/Topics/COHERENCEmodels7.state'\n",
      "WARNING:root:random_state not set so using default value\n",
      "WARNING:root:failed to load state from models/2021-08-08/Topics/COHERENCEmodels8.state: [Errno 2] No such file or directory: 'models/2021-08-08/Topics/COHERENCEmodels8.state'\n",
      "WARNING:root:random_state not set so using default value\n",
      "WARNING:root:failed to load state from models/2021-08-08/Topics/COHERENCEmodels9.state: [Errno 2] No such file or directory: 'models/2021-08-08/Topics/COHERENCEmodels9.state'\n",
      "WARNING:root:random_state not set so using default value\n",
      "WARNING:root:failed to load state from models/2021-08-09/Topics/COHERENCEmodels2.state: [Errno 2] No such file or directory: 'models/2021-08-09/Topics/COHERENCEmodels2.state'\n"
     ]
    },
    {
     "name": "stdout",
     "output_type": "stream",
     "text": [
      "Now loading 2021-08-09\n"
     ]
    },
    {
     "name": "stderr",
     "output_type": "stream",
     "text": [
      "WARNING:root:random_state not set so using default value\n",
      "WARNING:root:failed to load state from models/2021-08-09/Topics/COHERENCEmodels3.state: [Errno 2] No such file or directory: 'models/2021-08-09/Topics/COHERENCEmodels3.state'\n",
      "WARNING:root:random_state not set so using default value\n",
      "WARNING:root:failed to load state from models/2021-08-09/Topics/COHERENCEmodels4.state: [Errno 2] No such file or directory: 'models/2021-08-09/Topics/COHERENCEmodels4.state'\n",
      "WARNING:root:random_state not set so using default value\n",
      "WARNING:root:failed to load state from models/2021-08-09/Topics/COHERENCEmodels5.state: [Errno 2] No such file or directory: 'models/2021-08-09/Topics/COHERENCEmodels5.state'\n",
      "WARNING:root:random_state not set so using default value\n",
      "WARNING:root:failed to load state from models/2021-08-09/Topics/COHERENCEmodels6.state: [Errno 2] No such file or directory: 'models/2021-08-09/Topics/COHERENCEmodels6.state'\n",
      "WARNING:root:random_state not set so using default value\n",
      "WARNING:root:failed to load state from models/2021-08-09/Topics/COHERENCEmodels7.state: [Errno 2] No such file or directory: 'models/2021-08-09/Topics/COHERENCEmodels7.state'\n",
      "WARNING:root:random_state not set so using default value\n",
      "WARNING:root:failed to load state from models/2021-08-09/Topics/COHERENCEmodels8.state: [Errno 2] No such file or directory: 'models/2021-08-09/Topics/COHERENCEmodels8.state'\n",
      "WARNING:root:random_state not set so using default value\n",
      "WARNING:root:failed to load state from models/2021-08-09/Topics/COHERENCEmodels9.state: [Errno 2] No such file or directory: 'models/2021-08-09/Topics/COHERENCEmodels9.state'\n",
      "WARNING:root:random_state not set so using default value\n",
      "WARNING:root:failed to load state from models/2021-08-10/Topics/COHERENCEmodels2.state: [Errno 2] No such file or directory: 'models/2021-08-10/Topics/COHERENCEmodels2.state'\n"
     ]
    },
    {
     "name": "stdout",
     "output_type": "stream",
     "text": [
      "Now loading 2021-08-10\n"
     ]
    },
    {
     "name": "stderr",
     "output_type": "stream",
     "text": [
      "WARNING:root:random_state not set so using default value\n",
      "WARNING:root:failed to load state from models/2021-08-10/Topics/COHERENCEmodels3.state: [Errno 2] No such file or directory: 'models/2021-08-10/Topics/COHERENCEmodels3.state'\n",
      "WARNING:root:random_state not set so using default value\n",
      "WARNING:root:failed to load state from models/2021-08-10/Topics/COHERENCEmodels4.state: [Errno 2] No such file or directory: 'models/2021-08-10/Topics/COHERENCEmodels4.state'\n",
      "WARNING:root:random_state not set so using default value\n",
      "WARNING:root:failed to load state from models/2021-08-10/Topics/COHERENCEmodels5.state: [Errno 2] No such file or directory: 'models/2021-08-10/Topics/COHERENCEmodels5.state'\n",
      "WARNING:root:random_state not set so using default value\n",
      "WARNING:root:failed to load state from models/2021-08-10/Topics/COHERENCEmodels6.state: [Errno 2] No such file or directory: 'models/2021-08-10/Topics/COHERENCEmodels6.state'\n",
      "WARNING:root:random_state not set so using default value\n",
      "WARNING:root:failed to load state from models/2021-08-10/Topics/COHERENCEmodels7.state: [Errno 2] No such file or directory: 'models/2021-08-10/Topics/COHERENCEmodels7.state'\n",
      "WARNING:root:random_state not set so using default value\n",
      "WARNING:root:failed to load state from models/2021-08-10/Topics/COHERENCEmodels8.state: [Errno 2] No such file or directory: 'models/2021-08-10/Topics/COHERENCEmodels8.state'\n",
      "WARNING:root:random_state not set so using default value\n",
      "WARNING:root:failed to load state from models/2021-08-10/Topics/COHERENCEmodels9.state: [Errno 2] No such file or directory: 'models/2021-08-10/Topics/COHERENCEmodels9.state'\n"
     ]
    },
    {
     "name": "stdout",
     "output_type": "stream",
     "text": [
      "Now loading 2021-08-11\n"
     ]
    }
   ],
   "source": [
    "model_list_dict = {}\n",
    "coherence_values_dict = {}\n",
    "for i in date_range:\n",
    "    date = i.strftime('%Y-%m-%d')\n",
    "    print(\"Now loading \"+date)\n",
    "    ldamodel_path = 'models/' + i.strftime(date) +'/LDAmodels'\n",
    "    if exists(ldamodel_path)==False:\n",
    "        continue\n",
    "    model_list, coherence_values = load_coherence_values(date=date,\n",
    "                                                            dictionary=dictionary_dict[date], \n",
    "                                                            corpus=corpus_vect_dict[date],\n",
    "                                                            texts=processed_tweets_dict[date],\n",
    "                                                            start=2,\n",
    "                                                            limit=10)\n",
    "    model_list_dict[date] = model_list\n",
    "    coherence_values_dict[date] = coherence_values"
   ]
  },
  {
   "cell_type": "code",
   "execution_count": 29,
   "id": "5ce03403",
   "metadata": {},
   "outputs": [
    {
     "data": {
      "text/plain": [
       "[0.4290642874804169,\n",
       " 0.4494247192258696,\n",
       " 0.42201354696571364,\n",
       " 0.40282619973407285,\n",
       " 0.3781367605557146,\n",
       " 0.3618345111448515,\n",
       " 0.36093638156941077,\n",
       " 0.38284051537271396]"
      ]
     },
     "execution_count": 29,
     "metadata": {},
     "output_type": "execute_result"
    }
   ],
   "source": [
    "coherence_values_dict[\"2021-07-21\"]"
   ]
  },
  {
   "cell_type": "code",
   "execution_count": 30,
   "id": "1b372d04",
   "metadata": {},
   "outputs": [
    {
     "data": {
      "image/png": "[encoded data removed]",
      "text/plain": [
       "<Figure size 432x288 with 1 Axes>"
      ]
     },
     "metadata": {
      "needs_background": "light"
     },
     "output_type": "display_data"
    }
   ],
   "source": [
    "# # # Show graph for example\n",
    "import matplotlib.pyplot as plt\n",
    "limit=10; start=2; step=1;\n",
    "x = range(start, limit, step)\n",
    "plt.plot(x, coherence_values_dict[\"2021-07-31\"])\n",
    "plt.xlabel(\"Num Topics\")\n",
    "plt.ylabel(\"Coherence score\")\n",
    "plt.legend((\"coherence_values\"), loc='best')\n",
    "plt.show()"
   ]
  },
  {
   "cell_type": "code",
   "execution_count": 31,
   "id": "a88993d8",
   "metadata": {},
   "outputs": [],
   "source": [
    "#save best topic number for each date\n",
    "def decide_best_topic_num(date):\n",
    "    best_coh = 0\n",
    "    for i in range(0, 8):\n",
    "        if best_coh < coherence_values_dict[date][i]:\n",
    "            best_num = i+2\n",
    "            best_coh = coherence_values_dict[date][i]\n",
    "    return best_num, best_coh"
   ]
  },
  {
   "cell_type": "code",
   "execution_count": 32,
   "id": "0e52d60f",
   "metadata": {},
   "outputs": [
    {
     "name": "stdout",
     "output_type": "stream",
     "text": [
      "(4, 0.4973773497848931)\n",
      "LdaModel(num_terms=105, num_topics=4, decay=0.5, chunksize=2000)\n"
     ]
    }
   ],
   "source": [
    "#pick best ldamodel with certain topic number\n",
    "best_ldamodel_dict = {}\n",
    "for i in date_range:\n",
    "    date = i.strftime('%Y-%m-%d')\n",
    "    ldamodel_path = 'models/' + i.strftime(date) +'/LDAmodels'\n",
    "    if exists(ldamodel_path)==False:\n",
    "        continue\n",
    "    best_topic_num, best_coh = decide_best_topic_num(date)\n",
    "    best_ldamodel_path = 'models/' + date +'/Topics/LDAmodels'+str(best_topic_num)\n",
    "    best_ldamodel_dict[date] = models.ldamodel.LdaModel.load(best_ldamodel_path)\n",
    "#example\n",
    "print(decide_best_topic_num(\"2021-07-31\"))\n",
    "print(best_ldamodel_dict[\"2021-07-31\"])"
   ]
  },
  {
   "cell_type": "markdown",
   "id": "17b2b866",
   "metadata": {},
   "source": [
    "### Visualize Topics"
   ]
  },
  {
   "cell_type": "code",
   "execution_count": 33,
   "id": "ba7562cf",
   "metadata": {},
   "outputs": [
    {
     "data": {
      "text/html": [
       "\n",
       "<link rel=\"stylesheet\" type=\"text/css\" href=\"https://cdn.jsdelivr.net/gh/bmabey/pyLDAvis@3.3.1/pyLDAvis/js/ldavis.v1.0.0.css\">\n",
       "\n",
       "\n",
       "<div id=\"ldavis_el8895476456474181924578597674\"></div>\n",
       "<script type=\"text/javascript\">\n",
       "\n",
       "var ldavis_el8895476456474181924578597674_data = {\"mdsDat\": {\"x\": [-0.1387311533988942, -0.24168933885862184, -0.26042399310107894, 0.1942117900311827, 0.2284566742840448, 0.15283924692699366, 0.06533677411637384], \"y\": [0.00980886279992144, 0.03711503645781794, -0.08263509592714939, -0.15991678291671343, 0.18334302150444912, -0.26079182972443055, 0.2730767878061049], \"topics\": [1, 2, 3, 4, 5, 6, 7], \"cluster\": [1, 1, 1, 1, 1, 1, 1], \"Freq\": [18.366332579391035, 15.612405110413668, 14.95261559075688, 13.287236285850993, 12.861070296470542, 12.669082086060937, 12.251258051055945]}, \"tinfo\": {\"Term\": [\"game\", \"usa\", \"see\", \"sport\", \"medal\", \"gold\", \"year\", \"woman\", \"let\", \"time\", \"team\", \"watch\", \"race\", \"win\", \"good\", \"congratulation\", \"event\", \"best\", \"watching\", \"walking\", \"athlete\", \"proud\", \"thing\", \"great\", \"still\", \"men\", \"congrats\", \"look\", \"take\", \"back\", \"congratulation\", \"new\", \"feel\", \"put\", \"@nbcolympics\", \"4x100\", \"live\", \"skateboarding\", \"relay\", \"usa\", \"give\", \"make\", \"athletics\", \"player\", \"men\", \"shot\", \"team\", \"final\", \"basketball\", \"watching\", \"teamusa\", \"match\", \"@usabasketball\", \"stop\", \"second\", \"bad\", \"yes\", \"tokyoolympics2020\", \"tonight\", \"hockey\", \"silver\", \"athlete\", \"olympicgames\", \"play\", \"end\", \"much\", \"love\", \"right\", \"let\", \"proud\", \"back\", \"home\", \"made\", \"think\", \"getting\", \"tonight\", \"match\", \"silver\", \"really\", \"medal\", \"stop\", \"gold\", \"watching\", \"bronze\", \"@usabasketball\", \"give\", \"olympicgames\", \"teamusa\", \"second\", \"bad\", \"yes\", \"tokyoolympics2020\", \"athletics\", \"skateboarding\", \"live\", \"hockey\", \"field\", \"end\", \"someone\", \"player\", \"usa\", \"congrats\", \"uswnt\", \"shot\", \"game\", \"final\", \"today\", \"woman\", \"win\", \"good\", \"take\", \"today\", \"australia\", \"week\", \"america\", \"hockey\", \"someone\", \"first\", \"thought\", \"bronze\", \"team\", \"wrestling\", \"gold\", \"medal\", \"usa\", \"silver\", \"uswnt\", \"teamusa\", \"men\", \"match\", \"stop\", \"@usabasketball\", \"second\", \"bad\", \"yes\", \"tokyoolympics2020\", \"athletics\", \"basketball\", \"field\", \"athlete\", \"year\", \"made\", \"play\", \"show\", \"game\", \"year\", \"still\", \"right\", \"big\", \"fun\", \"guy\", \"france\", \"well\", \"come\", \"olympicgames\", \"@usabasketball\", \"basketball\", \"love\", \"shot\", \"thought\", \"play\", \"match\", \"stop\", \"second\", \"yes\", \"bad\", \"tokyoolympics2020\", \"athletics\", \"skateboarding\", \"live\", \"tonight\", \"hockey\", \"silver\", \"field\", \"getting\", \"men\", \"end\", \"watching\", \"first\", \"back\", \"medal\", \"great\", \"australia\", \"teamusa\", \"today\", \"really\", \"usa\", \"sport\", \"watch\", \"best\", \"world\", \"run\", \"much\", \"job\", \"always\", \"favorite\", \"amazing\", \"lol\", \"tokyoolympics2020\", \"athlete\", \"final\", \"wrestling\", \"even\", \"show\", \"love\", \"end\", \"stop\", \"match\", \"@usabasketball\", \"second\", \"bad\", \"yes\", \"athletics\", \"skateboarding\", \"live\", \"tonight\", \"hockey\", \"teamusa\", \"@nbcolympics\", \"ever\", \"someone\", \"new\", \"damn\", \"watching\", \"fun\", \"olympicgames\", \"see\", \"time\", \"congrats\", \"man\", \"american\", \"every\", \"half\", \"damn\", \"yes\", \"bad\", \"second\", \"uswnt\", \"end\", \"never\", \"teamusa\", \"love\", \"someone\", \"first\", \"relay\", \"match\", \"@usabasketball\", \"stop\", \"tokyoolympics2020\", \"athletics\", \"skateboarding\", \"year\", \"live\", \"tonight\", \"hockey\", \"silver\", \"medal\", \"new\", \"right\", \"make\", \"athlete\", \"bronze\", \"really\", \"team\", \"basketball\", \"race\", \"event\", \"walking\", \"thing\", \"great\", \"look\", \"track\", \"shit\", \"ever\", \"wow\", \"field\", \"play\", \"show\", \"even\", \"never\", \"athlete\", \"player\", \"make\", \"really\", \"olympicgames\", \"athletics\", \"watching\", \"men\", \"thought\", \"first\", \"match\", \"@usabasketball\", \"stop\", \"second\", \"bad\", \"take\", \"good\", \"feel\", \"much\", \"run\"], \"Freq\": [118.0, 191.0, 84.0, 83.0, 122.0, 122.0, 76.0, 71.0, 72.0, 63.0, 114.0, 55.0, 52.0, 57.0, 56.0, 61.0, 48.0, 48.0, 110.0, 46.0, 60.0, 50.0, 43.0, 42.0, 43.0, 84.0, 40.0, 39.0, 42.0, 43.0, 60.61201813216863, 43.63671618895814, 34.647922374539334, 31.505650083727698, 26.496799220145363, 24.193419459688574, 17.968336324910442, 17.04699518482349, 30.181992136803956, 160.64506416835997, 19.221681452772582, 30.630360363614084, 14.261305385318094, 18.432977246222663, 65.7236719287304, 22.62088252722586, 57.38483167185184, 21.061626161564263, 22.54496219611406, 35.24302559112269, 14.04300661400255, 0.15649717914083514, 0.156841932490922, 0.15636410527955955, 0.15647139394944024, 0.1566173888167167, 0.1564723258073928, 0.15653781723886429, 0.15653010100045214, 0.1563892768084003, 0.15711939887836046, 0.1581560908505948, 0.15684092108411982, 0.15670377886739276, 0.15667963010947555, 0.15665312897843417, 0.1566513561755, 0.15662420728954038, 71.96462236168502, 49.29665283691618, 42.706601559689126, 35.627560082369214, 25.216457396894224, 24.388350371207455, 18.721613944973015, 18.13783261919155, 13.563791401123876, 16.260823413064152, 35.3373764041123, 95.20729113897535, 12.15741040898851, 93.60454323433582, 61.80776084860977, 25.493546567891354, 4.7542365995806115, 3.174605631718729, 3.488197751010753, 1.261566360263405, 0.14050234725737196, 0.14061361270134784, 0.1405872984914685, 0.14076394373443976, 0.14050754441042448, 0.1405188854098365, 0.14051343709325356, 0.14046504947310465, 0.14047177292761126, 0.14052089471807985, 0.1411238610735311, 0.14074199590593542, 0.14123381273904015, 0.14086684350082554, 0.140781351299125, 0.14077193266673427, 0.14074863241921995, 0.14073421949662818, 0.1407334273654938, 70.78171498033076, 56.42400437670055, 55.962486217655844, 41.68324350658919, 36.79936445137725, 29.912953040250375, 28.330573261019072, 21.71409329509849, 18.48850631687079, 17.901760459378536, 25.610863788646316, 16.663998732360863, 29.233096134572033, 56.82341139736353, 11.132925357416784, 28.28182274388548, 27.04927523556623, 29.906586553826866, 2.6045007595584884, 4.6888189588065305, 4.915676552182633, 8.216869701537439, 0.1554349801000492, 0.15566744315616243, 0.15533221007587877, 0.1554688975387068, 0.15531829522925, 0.15526398661906993, 0.1553712345593097, 0.15559664767318152, 0.22595172205754258, 0.15557150102880854, 0.1562112509055943, 0.15569085044470685, 0.15568069186651642, 0.15562273801061047, 0.1555880249091802, 117.93023368284037, 75.24718875116368, 42.24287858012398, 35.70660104912805, 30.8698834729399, 30.322462142449435, 29.980069143458604, 26.66073590959953, 26.21569720176266, 24.333483869950673, 20.11630902070629, 10.24722087638449, 37.67537815701403, 30.321251945964168, 5.958584977029858, 3.7304903864013537, 4.410211712092175, 0.1511233354263834, 0.1510071171008689, 0.1512108773569209, 0.15107668695588472, 0.1510495726351754, 0.1509934859475226, 0.1510080050167684, 0.15100399295233355, 0.15109714190734766, 0.15111613344186509, 0.15102558246300143, 0.15127329455607952, 0.1510752235389392, 0.15110588952324658, 0.16046429290373299, 0.15129212166172668, 0.15145025290627578, 0.15133160103348112, 0.15132055141339823, 0.15128052942637188, 0.15126910161988735, 0.15126347815252375, 0.1512581177713526, 0.15124642687867562, 0.1512346373286765, 0.15123064170712866, 82.4870354649312, 54.63228136827097, 47.54909869479009, 33.00374357581472, 31.47795710671464, 26.175221266136198, 25.121252983664903, 24.323167376071286, 23.76039294795772, 23.75995902752598, 23.197504437477118, 16.69659510953885, 47.728790645972836, 26.873680372350755, 14.50784442925894, 7.657267044115121, 5.068172308039468, 14.527229264320948, 4.096564109767638, 2.853778559991913, 0.13547877916373072, 0.13554852092326264, 0.135849753758192, 0.13568585584863938, 0.13558452180415292, 0.13555622402951856, 0.13555910473661012, 0.13561641648377454, 0.13571319869274615, 0.1355145890585155, 0.2356382909322734, 0.1359660961274705, 0.13586331377168384, 0.1358321193744491, 0.13580313723293666, 0.1357811897463108, 0.1357691735371719, 0.13575335352143145, 0.1357471464730021, 83.14290760429445, 62.687708474130076, 40.0923728313142, 37.62461837051536, 36.68950568711134, 33.391562738153276, 25.964785981066427, 24.490729973127024, 16.50349225387426, 16.503112973528058, 16.046627002354267, 33.560761908046544, 16.10571346200216, 18.447493668341895, 28.63214826300736, 21.640474293343114, 4.680011432297136, 6.488275133552395, 2.482884786620255, 0.15494817181563872, 0.15522085795409452, 0.1547903891848436, 0.15487196142530732, 0.15488861138098145, 0.15482757722143403, 0.6548328482151639, 0.15486600381404916, 0.15496400651924594, 0.15486387161633572, 0.1550317351524966, 0.15599446945389117, 0.15540524602253464, 0.15509323964977495, 0.15508836381529786, 0.15508054053104045, 0.1550549384805547, 0.1550530884854798, 0.15505164611643837, 0.1550412046188122, 51.709740023449264, 47.53726310189554, 45.16702881250149, 42.832905045359034, 41.92225930735256, 38.19661516801947, 28.100337866944056, 24.974518843949753, 23.377086213855453, 20.270248114020156, 18.672896988758968, 24.55363952930182, 15.295977099673634, 17.329452824557418, 6.417709480082318, 12.02693661957841, 4.45158100474068, 6.236701800172834, 7.090238363001349, 4.601978283190256, 2.6333052075529166, 12.921929548444659, 9.750075819471627, 2.390524141361021, 2.4534482982633365, 0.12817047382662713, 0.1281378931185989, 0.12809996062372375, 0.1281214132537191, 0.1281230203058601, 0.13436614497797092, 0.13119588592986955, 0.12849907050685241, 0.12845981901635214, 0.12841544315204378], \"Total\": [118.0, 191.0, 84.0, 83.0, 122.0, 122.0, 76.0, 71.0, 72.0, 63.0, 114.0, 55.0, 52.0, 57.0, 56.0, 61.0, 48.0, 48.0, 110.0, 46.0, 60.0, 50.0, 43.0, 42.0, 43.0, 84.0, 40.0, 39.0, 42.0, 43.0, 61.47795434757544, 44.5033247098489, 35.51382807428344, 32.37130882931684, 27.36271454140355, 25.05883734466639, 18.833976515110045, 17.912408653289727, 33.375326477770145, 191.26295794095486, 23.121551987241066, 37.60476890823546, 17.632167625381882, 23.62230943112111, 84.2823434885516, 29.29425707419822, 114.91912649477354, 48.66566178363727, 61.00569832139975, 110.57034451773103, 49.36745328617339, 14.445444320597138, 15.73253889052786, 15.757117984325578, 16.914251685468617, 17.37052071906505, 17.370576852245524, 17.583233315976717, 19.01972644695687, 19.355009205802215, 19.592405728701788, 60.516785181505725, 28.80918705158523, 29.707502790570906, 20.934426170775623, 27.062262640101938, 67.06977528710162, 36.577789251600855, 72.84598513957238, 50.17804809576589, 43.588072952328496, 36.50939383890309, 26.09837276639955, 25.27035251094246, 19.60339053648673, 19.01972644695687, 14.445444320597138, 19.592405728701788, 43.18145787293508, 122.98414291568484, 15.757117984325578, 122.61281280366043, 110.57034451773103, 55.452969447030256, 15.73253889052786, 23.121551987241066, 28.80918705158523, 49.36745328617339, 16.914251685468617, 17.37052071906505, 17.370576852245524, 17.583233315976717, 17.632167625381882, 17.912408653289727, 18.833976515110045, 19.355009205802215, 19.56679613996483, 20.934426170775623, 23.294454441963573, 23.62230943112111, 191.26295794095486, 40.95988632488679, 38.9614971562053, 29.29425707419822, 118.80157364256046, 48.66566178363727, 37.666328864150785, 71.64865142670699, 57.290628435698316, 56.83230067927786, 42.55611077251806, 37.666328864150785, 30.77989320375736, 29.197100703151374, 22.58063302404758, 19.355009205802215, 23.294454441963573, 35.13657827853178, 23.372566531619228, 55.452969447030256, 114.91912649477354, 26.371946658778725, 122.61281280366043, 122.98414291568484, 191.26295794095486, 19.592405728701788, 38.9614971562053, 49.36745328617339, 84.2823434885516, 14.445444320597138, 15.757117984325578, 15.73253889052786, 16.914251685468617, 17.37052071906505, 17.370576852245524, 17.583233315976717, 17.632167625381882, 61.00569832139975, 19.56679613996483, 60.516785181505725, 76.61861013582808, 26.09837276639955, 29.707502790570906, 21.122625550565, 118.80157364256046, 76.61861013582808, 43.11417521111149, 36.577789251600855, 31.741030350229543, 31.19381600041306, 30.85103264185318, 27.531795305310055, 27.086688060067647, 25.204537918312962, 28.80918705158523, 15.73253889052786, 61.00569832139975, 67.06977528710162, 29.29425707419822, 23.372566531619228, 29.707502790570906, 14.445444320597138, 15.757117984325578, 16.914251685468617, 17.370576852245524, 17.37052071906505, 17.583233315976717, 17.632167625381882, 17.912408653289727, 18.833976515110045, 19.01972644695687, 19.355009205802215, 19.592405728701788, 19.56679613996483, 19.60339053648673, 84.2823434885516, 20.934426170775623, 110.57034451773103, 35.13657827853178, 43.588072952328496, 122.98414291568484, 42.81678236323863, 30.77989320375736, 49.36745328617339, 37.666328864150785, 43.18145787293508, 191.26295794095486, 83.37350062556112, 55.51894997947973, 48.4358881946367, 33.89007706780635, 32.36473910485864, 27.062262640101938, 26.00828995045148, 25.20969102567567, 24.646730112014964, 24.64671038127557, 24.083753862204777, 17.583233315976717, 60.516785181505725, 48.66566178363727, 26.371946658778725, 25.74513190611802, 21.122625550565, 67.06977528710162, 20.934426170775623, 15.757117984325578, 14.445444320597138, 15.73253889052786, 16.914251685468617, 17.37052071906505, 17.370576852245524, 17.632167625381882, 17.912408653289727, 18.833976515110045, 19.01972644695687, 19.355009205802215, 49.36745328617339, 27.36271454140355, 24.271242275566777, 23.294454441963573, 44.5033247098489, 25.358314621820313, 110.57034451773103, 31.19381600041306, 28.80918705158523, 84.01021181007073, 63.554672237255765, 40.95988632488679, 38.49180476529048, 37.55691701668719, 34.25862771391496, 26.831825033338074, 25.358314621820313, 17.370576852245524, 17.37052071906505, 16.914251685468617, 38.9614971562053, 20.934426170775623, 25.604151866298054, 49.36745328617339, 67.06977528710162, 23.294454441963573, 35.13657827853178, 33.375326477770145, 14.445444320597138, 15.73253889052786, 15.757117984325578, 17.583233315976717, 17.632167625381882, 17.912408653289727, 76.61861013582808, 18.833976515110045, 19.01972644695687, 19.355009205802215, 19.592405728701788, 122.98414291568484, 44.5033247098489, 36.577789251600855, 37.60476890823546, 60.516785181505725, 55.452969447030256, 43.18145787293508, 114.91912649477354, 61.00569832139975, 52.60338954965015, 48.43121817039047, 46.060466332649604, 43.72676008231165, 42.81678236323863, 39.09035337732735, 28.99429005694341, 25.86830267815579, 24.271242275566777, 21.16378738480614, 19.56679613996483, 29.707502790570906, 21.122625550565, 25.74513190611802, 25.604151866298054, 60.516785181505725, 23.62230943112111, 37.60476890823546, 43.18145787293508, 28.80918705158523, 17.632167625381882, 110.57034451773103, 84.2823434885516, 23.372566531619228, 35.13657827853178, 14.445444320597138, 15.73253889052786, 15.757117984325578, 16.914251685468617, 17.37052071906505, 42.55611077251806, 56.83230067927786, 35.51382807428344, 27.062262640101938, 32.36473910485864], \"Category\": [\"Default\", \"Default\", \"Default\", \"Default\", \"Default\", \"Default\", \"Default\", \"Default\", \"Default\", \"Default\", \"Default\", \"Default\", \"Default\", \"Default\", \"Default\", \"Default\", \"Default\", \"Default\", \"Default\", \"Default\", \"Default\", \"Default\", \"Default\", \"Default\", \"Default\", \"Default\", \"Default\", \"Default\", \"Default\", \"Default\", \"Topic1\", \"Topic1\", \"Topic1\", \"Topic1\", \"Topic1\", \"Topic1\", \"Topic1\", \"Topic1\", \"Topic1\", \"Topic1\", \"Topic1\", \"Topic1\", \"Topic1\", \"Topic1\", \"Topic1\", \"Topic1\", \"Topic1\", \"Topic1\", \"Topic1\", \"Topic1\", \"Topic1\", \"Topic1\", \"Topic1\", \"Topic1\", \"Topic1\", \"Topic1\", \"Topic1\", \"Topic1\", \"Topic1\", \"Topic1\", \"Topic1\", \"Topic1\", \"Topic1\", \"Topic1\", \"Topic1\", \"Topic1\", \"Topic1\", \"Topic1\", \"Topic2\", \"Topic2\", \"Topic2\", \"Topic2\", \"Topic2\", \"Topic2\", \"Topic2\", \"Topic2\", \"Topic2\", \"Topic2\", \"Topic2\", \"Topic2\", \"Topic2\", \"Topic2\", \"Topic2\", \"Topic2\", \"Topic2\", \"Topic2\", \"Topic2\", \"Topic2\", \"Topic2\", \"Topic2\", \"Topic2\", \"Topic2\", \"Topic2\", \"Topic2\", \"Topic2\", \"Topic2\", \"Topic2\", \"Topic2\", \"Topic2\", \"Topic2\", \"Topic2\", \"Topic2\", \"Topic2\", \"Topic2\", \"Topic2\", \"Topic2\", \"Topic2\", \"Topic3\", \"Topic3\", \"Topic3\", \"Topic3\", \"Topic3\", \"Topic3\", \"Topic3\", \"Topic3\", \"Topic3\", \"Topic3\", \"Topic3\", \"Topic3\", \"Topic3\", \"Topic3\", \"Topic3\", \"Topic3\", \"Topic3\", \"Topic3\", \"Topic3\", \"Topic3\", \"Topic3\", \"Topic3\", \"Topic3\", \"Topic3\", \"Topic3\", \"Topic3\", \"Topic3\", \"Topic3\", \"Topic3\", \"Topic3\", \"Topic3\", \"Topic3\", \"Topic3\", \"Topic3\", \"Topic3\", \"Topic3\", \"Topic3\", \"Topic4\", \"Topic4\", \"Topic4\", \"Topic4\", \"Topic4\", \"Topic4\", \"Topic4\", \"Topic4\", \"Topic4\", \"Topic4\", \"Topic4\", \"Topic4\", \"Topic4\", \"Topic4\", \"Topic4\", \"Topic4\", \"Topic4\", \"Topic4\", \"Topic4\", \"Topic4\", \"Topic4\", \"Topic4\", \"Topic4\", \"Topic4\", \"Topic4\", \"Topic4\", \"Topic4\", \"Topic4\", \"Topic4\", \"Topic4\", \"Topic4\", \"Topic4\", \"Topic4\", \"Topic4\", \"Topic4\", \"Topic4\", \"Topic4\", \"Topic4\", \"Topic4\", \"Topic4\", \"Topic4\", \"Topic4\", \"Topic4\", \"Topic5\", \"Topic5\", \"Topic5\", \"Topic5\", \"Topic5\", \"Topic5\", \"Topic5\", \"Topic5\", \"Topic5\", \"Topic5\", \"Topic5\", \"Topic5\", \"Topic5\", \"Topic5\", \"Topic5\", \"Topic5\", \"Topic5\", \"Topic5\", \"Topic5\", \"Topic5\", \"Topic5\", \"Topic5\", \"Topic5\", \"Topic5\", \"Topic5\", \"Topic5\", \"Topic5\", \"Topic5\", \"Topic5\", \"Topic5\", \"Topic5\", \"Topic5\", \"Topic5\", \"Topic5\", \"Topic5\", \"Topic5\", \"Topic5\", \"Topic5\", \"Topic5\", \"Topic6\", \"Topic6\", \"Topic6\", \"Topic6\", \"Topic6\", \"Topic6\", \"Topic6\", \"Topic6\", \"Topic6\", \"Topic6\", \"Topic6\", \"Topic6\", \"Topic6\", \"Topic6\", \"Topic6\", \"Topic6\", \"Topic6\", \"Topic6\", \"Topic6\", \"Topic6\", \"Topic6\", \"Topic6\", \"Topic6\", \"Topic6\", \"Topic6\", \"Topic6\", \"Topic6\", \"Topic6\", \"Topic6\", \"Topic6\", \"Topic6\", \"Topic6\", \"Topic6\", \"Topic6\", \"Topic6\", \"Topic6\", \"Topic6\", \"Topic6\", \"Topic6\", \"Topic7\", \"Topic7\", \"Topic7\", \"Topic7\", \"Topic7\", \"Topic7\", \"Topic7\", \"Topic7\", \"Topic7\", \"Topic7\", \"Topic7\", \"Topic7\", \"Topic7\", \"Topic7\", \"Topic7\", \"Topic7\", \"Topic7\", \"Topic7\", \"Topic7\", \"Topic7\", \"Topic7\", \"Topic7\", \"Topic7\", \"Topic7\", \"Topic7\", \"Topic7\", \"Topic7\", \"Topic7\", \"Topic7\", \"Topic7\", \"Topic7\", \"Topic7\", \"Topic7\", \"Topic7\", \"Topic7\"], \"logprob\": [30.0, 29.0, 28.0, 27.0, 26.0, 25.0, 24.0, 23.0, 22.0, 21.0, 20.0, 19.0, 18.0, 17.0, 16.0, 15.0, 14.0, 13.0, 12.0, 11.0, 10.0, 9.0, 8.0, 7.0, 6.0, 5.0, 4.0, 3.0, 2.0, 1.0, -2.556, -2.8846, -3.1153, -3.2103, -3.3835, -3.4744, -3.7719, -3.8245, -3.2532, -1.5813, -3.7045, -3.2385, -4.0029, -3.7464, -2.475, -3.5416, -2.6107, -3.613, -3.545, -3.0982, -4.0184, -8.5152, -8.513, -8.5161, -8.5154, -8.5144, -8.5154, -8.515, -8.515, -8.5159, -8.5112, -8.5047, -8.513, -8.5139, -8.514, -8.5142, -8.5142, -8.5144, -2.2219, -2.6002, -2.7437, -2.9249, -3.2705, -3.3039, -3.5684, -3.6, -3.8906, -3.7093, -2.9331, -1.942, -4.0001, -1.959, -2.374, -3.2596, -4.939, -5.3429, -5.2487, -6.2657, -8.4606, -8.4598, -8.46, -8.4587, -8.4605, -8.4605, -8.4605, -8.4608, -8.4608, -8.4604, -8.4562, -8.4589, -8.4554, -8.458, -8.4586, -8.4587, -8.4588, -8.4589, -8.4589, -2.1953, -2.422, -2.4302, -2.7248, -2.8494, -3.0566, -3.1109, -3.3769, -3.5377, -3.57, -3.2118, -3.6416, -3.0796, -2.4149, -4.045, -3.1126, -3.1572, -3.0568, -5.4976, -4.9097, -4.8624, -4.3487, -8.3164, -8.3149, -8.317, -8.3162, -8.3171, -8.3175, -8.3168, -8.3153, -7.9423, -8.3155, -8.3114, -8.3147, -8.3148, -8.3152, -8.3154, -1.5667, -2.016, -2.5933, -2.7614, -2.907, -2.9249, -2.9362, -3.0536, -3.0704, -3.1449, -3.3352, -4.0098, -2.7078, -2.9249, -4.5519, -5.0202, -4.8529, -8.2264, -8.2272, -8.2259, -8.2267, -8.2269, -8.2273, -8.2272, -8.2272, -8.2266, -8.2265, -8.2271, -8.2254, -8.2268, -8.2266, -8.1665, -8.2253, -8.2243, -8.2251, -8.2251, -8.2254, -8.2255, -8.2255, -8.2255, -8.2256, -8.2257, -8.2257, -1.8915, -2.3036, -2.4424, -2.8076, -2.8549, -3.0394, -3.0805, -3.1128, -3.1362, -3.1362, -3.1601, -3.489, -2.4386, -3.013, -3.6295, -4.2685, -4.6812, -3.6282, -4.894, -5.2555, -8.3031, -8.3026, -8.3004, -8.3016, -8.3023, -8.3025, -8.3025, -8.3021, -8.3014, -8.3029, -7.7496, -8.2995, -8.3003, -8.3005, -8.3007, -8.3009, -8.301, -8.3011, -8.3011, -1.8686, -2.151, -2.598, -2.6615, -2.6866, -2.7808, -3.0324, -3.0908, -3.4856, -3.4856, -3.5136, -2.7758, -3.51, -3.3742, -2.9346, -3.2146, -4.7458, -4.4191, -5.3797, -8.1538, -8.152, -8.1548, -8.1543, -8.1542, -8.1546, -6.7125, -8.1543, -8.1537, -8.1543, -8.1533, -8.1471, -8.1509, -8.1529, -8.1529, -8.1529, -8.1531, -8.1531, -8.1531, -8.1532, -2.31, -2.3941, -2.4452, -2.4983, -2.5198, -2.6129, -2.9198, -3.0377, -3.1038, -3.2464, -3.3285, -3.0547, -3.528, -3.4032, -4.3965, -3.7685, -4.7623, -4.4252, -4.2969, -4.7291, -5.2874, -3.6967, -3.9783, -5.3841, -5.3581, -8.31, -8.3103, -8.3105, -8.3104, -8.3104, -8.2628, -8.2867, -8.3074, -8.3077, -8.3081], \"loglift\": [30.0, 29.0, 28.0, 27.0, 26.0, 25.0, 24.0, 23.0, 22.0, 21.0, 20.0, 19.0, 18.0, 17.0, 16.0, 15.0, 14.0, 13.0, 12.0, 11.0, 10.0, 9.0, 8.0, 7.0, 6.0, 5.0, 4.0, 3.0, 2.0, 1.0, 1.6805, 1.675, 1.67, 1.6675, 1.6625, 1.6595, 1.6476, 1.6451, 1.5941, 1.5202, 1.5099, 1.4895, 1.4825, 1.4466, 1.4459, 1.4361, 1.0002, 0.8571, 0.6992, 0.5513, 0.4375, -2.8304, -2.9136, -2.9182, -2.9884, -3.0141, -3.015, -3.0268, -3.1053, -3.1237, -3.1312, -4.2524, -3.5186, -3.5501, -3.2003, -3.4572, -4.3648, -3.7587, 1.8449, 1.8394, 1.8367, 1.8327, 1.8227, 1.8216, 1.8111, 1.8096, 1.7941, 1.6707, 1.6566, 1.6011, 1.5978, 1.5872, 1.2755, 1.08, 0.6604, -0.1285, -0.2542, -1.8098, -2.9336, -2.9594, -2.9596, -2.9705, -2.9751, -2.9908, -3.041, -3.0686, -3.0795, -3.1467, -3.2492, -3.2659, -5.3539, -3.8154, -3.766, -3.4809, -4.8811, -3.9888, -3.7326, 1.8881, 1.885, 1.8849, 1.8796, 1.877, 1.8717, 1.8702, 1.8612, 1.8545, 1.637, 1.5841, 1.562, 1.2601, 1.196, 1.0379, 0.4335, 0.3859, 0.0447, -0.1176, -0.2171, -0.4066, -0.4277, -2.6316, -2.717, -2.7176, -2.7892, -2.8168, -2.8171, -2.8286, -2.8299, -3.6981, -2.9342, -4.0592, -4.2984, -3.2215, -3.3514, -3.0106, 2.011, 2.0003, 1.998, 1.9943, 1.9905, 1.99, 1.9897, 1.9862, 1.9857, 1.9832, 1.6592, 1.5896, 1.5364, 1.2245, 0.4258, 0.1833, 0.1109, -2.5417, -2.6294, -2.6989, -2.7264, -2.7266, -2.7391, -2.7418, -2.7576, -2.8071, -2.8168, -2.8349, -2.8454, -2.8454, -2.8471, -4.2455, -2.9116, -4.5748, -3.4292, -3.6448, -4.6823, -3.6273, -3.2972, -3.7697, -3.4992, -3.636, -5.1242, 2.0403, 2.0349, 2.0325, 2.0245, 2.0232, 2.0176, 2.0163, 2.0152, 2.0143, 2.0143, 2.0135, 1.9992, 1.8136, 1.4571, 1.4534, 0.8384, 0.6236, 0.5213, 0.4197, 0.3423, -2.6184, -2.7032, -2.7734, -2.8012, -2.802, -2.8171, -2.8329, -2.8826, -2.8917, -2.9107, -3.2938, -3.2536, -3.1344, -3.0936, -3.7411, -3.1789, -4.6515, -3.3862, -3.3067, 2.0556, 2.0523, 2.0446, 2.0432, 2.0426, 2.0404, 2.0332, 2.0312, 2.0148, 2.0148, 2.0133, 1.9168, 1.8038, 1.7382, 1.5212, 0.9348, 0.4611, 0.3768, -0.5324, -2.469, -2.5526, -2.557, -2.6661, -2.6688, -2.6849, -2.6962, -2.7349, -2.744, -2.7622, -2.7733, -4.604, -3.5913, -3.3972, -3.4249, -3.9007, -3.8135, -3.5634, -4.5422, -3.909, 2.0824, 2.0809, 2.08, 2.0789, 2.0784, 2.0764, 2.0682, 2.0644, 2.062, 2.0564, 2.0528, 1.909, 1.7768, 1.7037, 0.7158, 0.4838, 0.4306, 0.3029, 0.2928, 0.2653, 0.1981, -0.0472, -0.0574, -0.1805, -0.5622, -2.6252, -2.7108, -2.7127, -2.7834, -2.81, -3.6585, -3.9716, -3.5222, -3.2507, -3.43]}, \"token.table\": {\"Topic\": [1, 1, 2, 4, 5, 5, 3, 6, 5, 7, 1, 7, 3, 2, 6, 1, 4, 5, 4, 2, 3, 4, 6, 1, 6, 5, 6, 5, 7, 7, 7, 6, 5, 1, 7, 1, 5, 3, 6, 7, 4, 4, 4, 2, 1, 2, 2, 3, 3, 7, 4, 6, 3, 2, 5, 2, 1, 5, 7, 4, 5, 6, 2, 1, 7, 6, 2, 2, 3, 1, 3, 7, 5, 6, 7, 1, 2, 4, 7, 4, 7, 1, 7, 2, 1, 7, 2, 7, 1, 6, 4, 5, 6, 6, 7, 1, 4, 5, 7, 2, 3, 1, 3, 6, 5, 4, 2, 5, 3, 1, 3, 1, 2, 3, 6, 7, 2, 3, 4, 7, 6, 3, 5, 2, 7, 1, 3, 3, 6, 7, 5, 1, 2, 7, 3, 4, 3, 3, 5, 7, 3, 5, 4, 6, 6], \"Freq\": [0.9577459508554671, 0.9501981230940528, 0.3178126578800556, 0.6356253157601112, 0.9520148412591166, 0.9737607830306276, 0.9742862379708653, 0.9851713862338664, 0.793168372312498, 0.1982920930781245, 0.7940033407943956, 0.1701435730273705, 0.9746622511457526, 0.9865083975386647, 0.978669567535855, 0.3770139615290986, 0.6228926320915542, 0.9910007184572499, 0.9766538659251751, 0.4508324847036457, 0.522965682256229, 0.9522094821886111, 0.9765652102334187, 0.9922255977342179, 0.9464351380571834, 0.19107282747420057, 0.7642913098968023, 0.31073835741734523, 0.6603190095118586, 0.991096276602555, 0.9476235183542087, 0.9632610002821642, 0.9737600034943503, 0.9855316055140922, 0.9710327569260478, 0.4315157593739078, 0.5548059763378814, 0.7399696064282341, 0.170762216868054, 0.056920738956018006, 0.9806843215484938, 0.9617290811615593, 0.9932528364904311, 0.9692200930566743, 0.8217441463481595, 0.12974907573918307, 0.7666409231678091, 0.2283611260499857, 0.9853551471728237, 0.9809237799256046, 0.9724147761362564, 0.9689985667279604, 0.929991807733369, 0.9860475952805249, 0.9612319782510739, 0.9883866607342673, 0.955719573376288, 0.9550006253840047, 0.9721068426575095, 0.4472953707028356, 0.2236476853514178, 0.3280166051820794, 0.9579141283546362, 0.8243635288823964, 0.15955423139659283, 0.9872231305263722, 0.9691636815932343, 0.7724573082981101, 0.21954049814788393, 0.7830821648779265, 0.09491905028823351, 0.11864881286029189, 0.9607474565512555, 0.703010984077658, 0.23433699469255267, 0.9886901773489856, 0.10413344863318261, 0.6942229908878841, 0.17355574772197102, 0.1346461204833949, 0.841538253021218, 0.7619915424647675, 0.16933145388105944, 0.9765226400692678, 0.9885296936470926, 0.988529454949274, 0.8105330788735833, 0.16210661577471666, 0.8988676116765988, 0.059924507445106585, 0.9842038224993171, 0.9578325318663309, 0.9459478490405775, 0.9879751307810698, 0.9664337204895542, 0.7851368253423954, 0.20481830226323358, 0.23671299706708368, 0.710138991201251, 0.8166429493934422, 0.1531205530112704, 0.9490627602937053, 0.7727161005142096, 0.2146433612539471, 0.9835259331171705, 0.9741575663768157, 0.7615605856310159, 0.19039014640775398, 0.9869322933317208, 0.4960009855504108, 0.4960009855504108, 0.2835876487054084, 0.02025626062181489, 0.10128130310907445, 0.5874315580326318, 0.9833795122038864, 0.94972952947956, 0.7273484483187502, 0.1711408113691177, 0.08557040568455886, 0.9912725183258735, 0.9823096945137925, 0.9668301440641881, 0.9463858510373042, 0.965707383936952, 0.8417730319202875, 0.1568521177491219, 0.12833182410711502, 0.8726564039283821, 0.97697664793511, 0.9906527414572586, 0.3165405710966869, 0.5607290116569882, 0.11757221212162655, 0.9589993295799344, 0.9598811025675121, 0.977472259059841, 0.990946774101247, 0.9737363516162707, 0.9450104386494808, 0.4171098987240787, 0.5687862255328346, 0.9788744518732637, 0.013051659358310184, 0.9786664049560554], \"Term\": [\"4x100\", \"@nbcolympics\", \"@usabasketball\", \"@usabasketball\", \"always\", \"amazing\", \"america\", \"american\", \"athlete\", \"athlete\", \"athletics\", \"athletics\", \"australia\", \"back\", \"bad\", \"basketball\", \"basketball\", \"best\", \"big\", \"bronze\", \"bronze\", \"come\", \"congrats\", \"congratulation\", \"damn\", \"end\", \"end\", \"even\", \"even\", \"event\", \"ever\", \"every\", \"favorite\", \"feel\", \"field\", \"final\", \"final\", \"first\", \"first\", \"first\", \"france\", \"fun\", \"game\", \"getting\", \"give\", \"give\", \"gold\", \"gold\", \"good\", \"great\", \"guy\", \"half\", \"hockey\", \"home\", \"job\", \"let\", \"live\", \"lol\", \"look\", \"love\", \"love\", \"love\", \"made\", \"make\", \"make\", \"man\", \"match\", \"medal\", \"medal\", \"men\", \"men\", \"men\", \"much\", \"never\", \"never\", \"new\", \"olympicgames\", \"olympicgames\", \"olympicgames\", \"play\", \"play\", \"player\", \"player\", \"proud\", \"put\", \"race\", \"really\", \"really\", \"relay\", \"relay\", \"right\", \"run\", \"second\", \"see\", \"shit\", \"shot\", \"shot\", \"show\", \"show\", \"silver\", \"silver\", \"skateboarding\", \"someone\", \"someone\", \"sport\", \"still\", \"stop\", \"stop\", \"take\", \"team\", \"team\", \"teamusa\", \"teamusa\", \"teamusa\", \"teamusa\", \"thing\", \"think\", \"thought\", \"thought\", \"thought\", \"time\", \"today\", \"tokyoolympics2020\", \"tonight\", \"track\", \"usa\", \"usa\", \"uswnt\", \"uswnt\", \"walking\", \"watch\", \"watching\", \"watching\", \"watching\", \"week\", \"well\", \"win\", \"woman\", \"world\", \"wow\", \"wrestling\", \"wrestling\", \"year\", \"year\", \"yes\"]}, \"R\": 30, \"lambda.step\": 0.01, \"plot.opts\": {\"xlab\": \"PC1\", \"ylab\": \"PC2\"}, \"topic.order\": [7, 5, 1, 4, 3, 6, 2]};\n",
       "\n",
       "function LDAvis_load_lib(url, callback){\n",
       "  var s = document.createElement('script');\n",
       "  s.src = url;\n",
       "  s.async = true;\n",
       "  s.onreadystatechange = s.onload = callback;\n",
       "  s.onerror = function(){console.warn(\"failed to load library \" + url);};\n",
       "  document.getElementsByTagName(\"head\")[0].appendChild(s);\n",
       "}\n",
       "\n",
       "if(typeof(LDAvis) !== \"undefined\"){\n",
       "   // already loaded: just create the visualization\n",
       "   !function(LDAvis){\n",
       "       new LDAvis(\"#\" + \"ldavis_el8895476456474181924578597674\", ldavis_el8895476456474181924578597674_data);\n",
       "   }(LDAvis);\n",
       "}else if(typeof define === \"function\" && define.amd){\n",
       "   // require.js is available: use it to load d3/LDAvis\n",
       "   require.config({paths: {d3: \"https://d3js.org/d3.v5\"}});\n",
       "   require([\"d3\"], function(d3){\n",
       "      window.d3 = d3;\n",
       "      LDAvis_load_lib(\"https://cdn.jsdelivr.net/gh/bmabey/pyLDAvis@3.3.1/pyLDAvis/js/ldavis.v3.0.0.js\", function(){\n",
       "        new LDAvis(\"#\" + \"ldavis_el8895476456474181924578597674\", ldavis_el8895476456474181924578597674_data);\n",
       "      });\n",
       "    });\n",
       "}else{\n",
       "    // require.js not available: dynamically load d3 & LDAvis\n",
       "    LDAvis_load_lib(\"https://d3js.org/d3.v5.js\", function(){\n",
       "         LDAvis_load_lib(\"https://cdn.jsdelivr.net/gh/bmabey/pyLDAvis@3.3.1/pyLDAvis/js/ldavis.v3.0.0.js\", function(){\n",
       "                 new LDAvis(\"#\" + \"ldavis_el8895476456474181924578597674\", ldavis_el8895476456474181924578597674_data);\n",
       "            })\n",
       "         });\n",
       "}\n",
       "</script>"
      ],
      "text/plain": [
       "PreparedData(topic_coordinates=              x         y  topics  cluster       Freq\n",
       "topic                                                \n",
       "6     -0.138731  0.009809       1        1  18.366333\n",
       "4     -0.241689  0.037115       2        1  15.612405\n",
       "0     -0.260424 -0.082635       3        1  14.952616\n",
       "3      0.194212 -0.159917       4        1  13.287236\n",
       "2      0.228457  0.183343       5        1  12.861070\n",
       "5      0.152839 -0.260792       6        1  12.669082\n",
       "1      0.065337  0.273077       7        1  12.251258, topic_info=     Term        Freq       Total Category  logprob  loglift\n",
       "23   game  118.000000  118.000000  Default  30.0000  30.0000\n",
       "37    usa  191.000000  191.000000  Default  29.0000  29.0000\n",
       "39    see   84.000000   84.000000  Default  28.0000  28.0000\n",
       "15  sport   83.000000   83.000000  Default  27.0000  27.0000\n",
       "45  medal  122.000000  122.000000  Default  26.0000  26.0000\n",
       "..    ...         ...         ...      ...      ...      ...\n",
       "44   take    0.134366   42.556111   Topic7  -8.2628  -3.6585\n",
       "25   good    0.131196   56.832301   Topic7  -8.2867  -3.9716\n",
       "24   feel    0.128499   35.513828   Topic7  -8.3074  -3.5222\n",
       "9    much    0.128460   27.062263   Topic7  -8.3077  -3.2507\n",
       "64    run    0.128415   32.364739   Topic7  -8.3081  -3.4300\n",
       "\n",
       "[300 rows x 6 columns], token_table=      Topic      Freq            Term\n",
       "term                                 \n",
       "67        1  0.957746           4x100\n",
       "34        1  0.950198    @nbcolympics\n",
       "92        2  0.317813  @usabasketball\n",
       "92        4  0.635625  @usabasketball\n",
       "41        5  0.952015          always\n",
       "...     ...       ...             ...\n",
       "17        3  0.417110       wrestling\n",
       "17        5  0.568786       wrestling\n",
       "74        4  0.978874            year\n",
       "74        6  0.013052            year\n",
       "43        6  0.978666             yes\n",
       "\n",
       "[145 rows x 3 columns], R=30, lambda_step=0.01, plot_opts={'xlab': 'PC1', 'ylab': 'PC2'}, topic_order=[7, 5, 1, 4, 3, 6, 2])"
      ]
     },
     "execution_count": 33,
     "metadata": {},
     "output_type": "execute_result"
    }
   ],
   "source": [
    "#!pip install pyLDAvis\n",
    "import gensim\n",
    "import pickle \n",
    "import pyLDAvis\n",
    "import pyLDAvis.gensim_models\n",
    "\n",
    "# Visualize the topics\n",
    "pyLDAvis.enable_notebook()\n",
    "date = \"2021-08-05\"\n",
    "LDAvis_prepared = pyLDAvis.gensim_models.prepare(best_ldamodel_dict[date], corpus_vect_dict[date], dictionary_dict[date])\n",
    "LDAvis_prepared"
   ]
  },
  {
   "cell_type": "markdown",
   "id": "cdaa52aa",
   "metadata": {},
   "source": [
    "### General Word Cloud"
   ]
  },
  {
   "cell_type": "code",
   "execution_count": 34,
   "id": "de4de8b8",
   "metadata": {},
   "outputs": [
    {
     "data": {
      "image/png": "[encoded data removed]",
      "text/plain": [
       "<PIL.Image.Image image mode=RGB size=400x200 at 0x2B555CFD4610>"
      ]
     },
     "execution_count": 34,
     "metadata": {},
     "output_type": "execute_result"
    }
   ],
   "source": [
    "# Import the wordcloud library\n",
    "#!pip install WordCloud\n",
    "from wordcloud import WordCloud\n",
    "# Join the different processed titles together.\n",
    "long_string = (',').join(map(str, processed_tweets_dict[\"2021-07-31\"]))\n",
    "# Create a WordCloud object\n",
    "wordcloud = WordCloud(background_color=\"white\", max_words=5000, contour_width=3, contour_color='steelblue')\n",
    "# Generate a word cloud\n",
    "wordcloud.generate(long_string)\n",
    "# Visualize the word cloud\n",
    "wordcloud.to_image()"
   ]
  },
  {
   "cell_type": "code",
   "execution_count": null,
   "id": "262434a0",
   "metadata": {},
   "outputs": [],
   "source": []
  }
 ],
 "metadata": {
  "kernelspec": {
   "display_name": "Python 3 (ipykernel)",
   "language": "python",
   "name": "python3"
  },
  "language_info": {
   "codemirror_mode": {
    "name": "ipython",
    "version": 3
   },
   "file_extension": ".py",
   "mimetype": "text/x-python",
   "name": "python",
   "nbconvert_exporter": "python",
   "pygments_lexer": "ipython3",
   "version": "3.8.2"
  }
 },
 "nbformat": 4,
 "nbformat_minor": 5
}
