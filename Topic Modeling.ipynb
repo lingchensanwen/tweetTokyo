{
 "cells": [
  {
   "cell_type": "code",
   "execution_count": 1,
   "id": "063881bb",
   "metadata": {},
   "outputs": [],
   "source": [
    "import tweepy\n",
    "import pandas as pd\n",
    "import ast\n",
    "import warnings;\n",
    "warnings.filterwarnings('ignore');"
   ]
  },
  {
   "cell_type": "code",
   "execution_count": 2,
   "id": "31d1fa08",
   "metadata": {},
   "outputs": [],
   "source": [
    "#Read dataframes by date\n",
    "from pathlib import Path  \n",
    "date_range = pd.date_range(start='2021-07-19', end='2021-08-11')\n",
    "\n",
    "df_dict = {}\n",
    "for i in date_range:\n",
    "    date = i.strftime('%Y-%m-%d')\n",
    "    filepath = Path('dataframes_by_date/'+date+\".csv\")\n",
    "    df_dict[date] = pd.read_csv(filepath, encoding = \"utf-8\")"
   ]
  },
  {
   "cell_type": "code",
   "execution_count": 3,
   "id": "b6fe12ea",
   "metadata": {},
   "outputs": [
    {
     "data": {
      "text/html": [
       "<div>\n",
       "<style scoped>\n",
       "    .dataframe tbody tr th:only-of-type {\n",
       "        vertical-align: middle;\n",
       "    }\n",
       "\n",
       "    .dataframe tbody tr th {\n",
       "        vertical-align: top;\n",
       "    }\n",
       "\n",
       "    .dataframe thead th {\n",
       "        text-align: right;\n",
       "    }\n",
       "</style>\n",
       "<table border=\"1\" class=\"dataframe\">\n",
       "  <thead>\n",
       "    <tr style=\"text-align: right;\">\n",
       "      <th></th>\n",
       "      <th>Unnamed: 0</th>\n",
       "      <th>id</th>\n",
       "      <th>time</th>\n",
       "      <th>text</th>\n",
       "      <th>city_name</th>\n",
       "      <th>coordinates</th>\n",
       "      <th>place</th>\n",
       "    </tr>\n",
       "  </thead>\n",
       "  <tbody>\n",
       "    <tr>\n",
       "      <th>0</th>\n",
       "      <td>5753</td>\n",
       "      <td>1417635474898923529</td>\n",
       "      <td>2021-07-21 00:00:10+00:00</td>\n",
       "      <td>@KathrynTappen @NBCSports @NBCOlympics Stay sa...</td>\n",
       "      <td>Michigan, USA</td>\n",
       "      <td>[[[-90.4181075, 41.696088], [-82.122971, 41.69...</td>\n",
       "      <td>Place(_api=&lt;tweepy.api.API object at 0x2b23538...</td>\n",
       "    </tr>\n",
       "    <tr>\n",
       "      <th>1</th>\n",
       "      <td>7078</td>\n",
       "      <td>1417635772790939650</td>\n",
       "      <td>2021-07-21 00:01:21+00:00</td>\n",
       "      <td>The Olympics are back, y’all. Let’s play some ...</td>\n",
       "      <td>Orange City, FL</td>\n",
       "      <td>[[[-81.3155653, 28.897085], [-81.26003, 28.897...</td>\n",
       "      <td>Place(_api=&lt;tweepy.api.API object at 0x2b23538...</td>\n",
       "    </tr>\n",
       "    <tr>\n",
       "      <th>2</th>\n",
       "      <td>5761</td>\n",
       "      <td>1417635990026530824</td>\n",
       "      <td>2021-07-21 00:02:13+00:00</td>\n",
       "      <td>man kobe know who that is !!!! https://t.co/56...</td>\n",
       "      <td>Terrytown, LA</td>\n",
       "      <td>[[[-90.043765, 29.878501], [-90.008313, 29.878...</td>\n",
       "      <td>Place(_api=&lt;tweepy.api.API object at 0x2b23538...</td>\n",
       "    </tr>\n",
       "    <tr>\n",
       "      <th>3</th>\n",
       "      <td>2281</td>\n",
       "      <td>1417636084733956101</td>\n",
       "      <td>2021-07-21 00:02:35+00:00</td>\n",
       "      <td>SO FREAKIN EXCITING!!!! https://t.co/IAkMrJcnrZ</td>\n",
       "      <td>Auburn, AL</td>\n",
       "      <td>[[[-85.569969, 32.532449], [-85.413112, 32.532...</td>\n",
       "      <td>Place(_api=&lt;tweepy.api.API object at 0x2b23538...</td>\n",
       "    </tr>\n",
       "    <tr>\n",
       "      <th>4</th>\n",
       "      <td>4224</td>\n",
       "      <td>1417636088890408969</td>\n",
       "      <td>2021-07-21 00:02:36+00:00</td>\n",
       "      <td>First event of #TokyoOlympics 🙌🏻 https://t.co/...</td>\n",
       "      <td>Chicago, IL</td>\n",
       "      <td>[[[-87.940033, 41.644102], [-87.523993, 41.644...</td>\n",
       "      <td>Place(_api=&lt;tweepy.api.API object at 0x2b23538...</td>\n",
       "    </tr>\n",
       "    <tr>\n",
       "      <th>...</th>\n",
       "      <td>...</td>\n",
       "      <td>...</td>\n",
       "      <td>...</td>\n",
       "      <td>...</td>\n",
       "      <td>...</td>\n",
       "      <td>...</td>\n",
       "      <td>...</td>\n",
       "    </tr>\n",
       "    <tr>\n",
       "      <th>1666</th>\n",
       "      <td>29023</td>\n",
       "      <td>1417996975736250371</td>\n",
       "      <td>2021-07-21 23:56:38+00:00</td>\n",
       "      <td>If an athlete from china or Russia turned thei...</td>\n",
       "      <td>Barling, AR</td>\n",
       "      <td>[[[-94.323756, 35.320062], [-94.296113, 35.320...</td>\n",
       "      <td>Place(_api=&lt;tweepy.api.API object at 0x2b23538...</td>\n",
       "    </tr>\n",
       "    <tr>\n",
       "      <th>1667</th>\n",
       "      <td>13522</td>\n",
       "      <td>1417996982765957120</td>\n",
       "      <td>2021-07-21 23:56:40+00:00</td>\n",
       "      <td>See now this suspension makes sense because no...</td>\n",
       "      <td>Pittsburgh, PA</td>\n",
       "      <td>[[[-80.095586, 40.3615796], [-79.8657933, 40.3...</td>\n",
       "      <td>Place(_api=&lt;tweepy.api.API object at 0x2b23538...</td>\n",
       "    </tr>\n",
       "    <tr>\n",
       "      <th>1668</th>\n",
       "      <td>57501</td>\n",
       "      <td>1417997212769001474</td>\n",
       "      <td>2021-07-21 23:57:35+00:00</td>\n",
       "      <td>USA v Canada 🥎 lets goooo!! #olympics #usa htt...</td>\n",
       "      <td>Fairview Park, OH</td>\n",
       "      <td>[[[-81.875476, 41.417577], [-81.815851, 41.417...</td>\n",
       "      <td>Place(_api=&lt;tweepy.api.API object at 0x2b23538...</td>\n",
       "    </tr>\n",
       "    <tr>\n",
       "      <th>1669</th>\n",
       "      <td>59805</td>\n",
       "      <td>1417997419585937409</td>\n",
       "      <td>2021-07-21 23:58:24+00:00</td>\n",
       "      <td>Night two of the Olympics will get underway in...</td>\n",
       "      <td>Catonsville, MD</td>\n",
       "      <td>[[[-76.794408, 39.22709], [-76.688592, 39.2270...</td>\n",
       "      <td>Place(_api=&lt;tweepy.api.API object at 0x2b23538...</td>\n",
       "    </tr>\n",
       "    <tr>\n",
       "      <th>1670</th>\n",
       "      <td>60413</td>\n",
       "      <td>1417997529598337024</td>\n",
       "      <td>2021-07-21 23:58:50+00:00</td>\n",
       "      <td>@soledadobrien \\nHope the horse wasn't doing l...</td>\n",
       "      <td>Haverhill, MA</td>\n",
       "      <td>[[[-71.1823619, 42.734289], [-71.000439, 42.73...</td>\n",
       "      <td>Place(_api=&lt;tweepy.api.API object at 0x2b23538...</td>\n",
       "    </tr>\n",
       "  </tbody>\n",
       "</table>\n",
       "<p>1671 rows × 7 columns</p>\n",
       "</div>"
      ],
      "text/plain": [
       "      Unnamed: 0                   id                       time  \\\n",
       "0           5753  1417635474898923529  2021-07-21 00:00:10+00:00   \n",
       "1           7078  1417635772790939650  2021-07-21 00:01:21+00:00   \n",
       "2           5761  1417635990026530824  2021-07-21 00:02:13+00:00   \n",
       "3           2281  1417636084733956101  2021-07-21 00:02:35+00:00   \n",
       "4           4224  1417636088890408969  2021-07-21 00:02:36+00:00   \n",
       "...          ...                  ...                        ...   \n",
       "1666       29023  1417996975736250371  2021-07-21 23:56:38+00:00   \n",
       "1667       13522  1417996982765957120  2021-07-21 23:56:40+00:00   \n",
       "1668       57501  1417997212769001474  2021-07-21 23:57:35+00:00   \n",
       "1669       59805  1417997419585937409  2021-07-21 23:58:24+00:00   \n",
       "1670       60413  1417997529598337024  2021-07-21 23:58:50+00:00   \n",
       "\n",
       "                                                   text          city_name  \\\n",
       "0     @KathrynTappen @NBCSports @NBCOlympics Stay sa...      Michigan, USA   \n",
       "1     The Olympics are back, y’all. Let’s play some ...    Orange City, FL   \n",
       "2     man kobe know who that is !!!! https://t.co/56...      Terrytown, LA   \n",
       "3       SO FREAKIN EXCITING!!!! https://t.co/IAkMrJcnrZ         Auburn, AL   \n",
       "4     First event of #TokyoOlympics 🙌🏻 https://t.co/...        Chicago, IL   \n",
       "...                                                 ...                ...   \n",
       "1666  If an athlete from china or Russia turned thei...        Barling, AR   \n",
       "1667  See now this suspension makes sense because no...     Pittsburgh, PA   \n",
       "1668  USA v Canada 🥎 lets goooo!! #olympics #usa htt...  Fairview Park, OH   \n",
       "1669  Night two of the Olympics will get underway in...    Catonsville, MD   \n",
       "1670  @soledadobrien \\nHope the horse wasn't doing l...      Haverhill, MA   \n",
       "\n",
       "                                            coordinates  \\\n",
       "0     [[[-90.4181075, 41.696088], [-82.122971, 41.69...   \n",
       "1     [[[-81.3155653, 28.897085], [-81.26003, 28.897...   \n",
       "2     [[[-90.043765, 29.878501], [-90.008313, 29.878...   \n",
       "3     [[[-85.569969, 32.532449], [-85.413112, 32.532...   \n",
       "4     [[[-87.940033, 41.644102], [-87.523993, 41.644...   \n",
       "...                                                 ...   \n",
       "1666  [[[-94.323756, 35.320062], [-94.296113, 35.320...   \n",
       "1667  [[[-80.095586, 40.3615796], [-79.8657933, 40.3...   \n",
       "1668  [[[-81.875476, 41.417577], [-81.815851, 41.417...   \n",
       "1669  [[[-76.794408, 39.22709], [-76.688592, 39.2270...   \n",
       "1670  [[[-71.1823619, 42.734289], [-71.000439, 42.73...   \n",
       "\n",
       "                                                  place  \n",
       "0     Place(_api=<tweepy.api.API object at 0x2b23538...  \n",
       "1     Place(_api=<tweepy.api.API object at 0x2b23538...  \n",
       "2     Place(_api=<tweepy.api.API object at 0x2b23538...  \n",
       "3     Place(_api=<tweepy.api.API object at 0x2b23538...  \n",
       "4     Place(_api=<tweepy.api.API object at 0x2b23538...  \n",
       "...                                                 ...  \n",
       "1666  Place(_api=<tweepy.api.API object at 0x2b23538...  \n",
       "1667  Place(_api=<tweepy.api.API object at 0x2b23538...  \n",
       "1668  Place(_api=<tweepy.api.API object at 0x2b23538...  \n",
       "1669  Place(_api=<tweepy.api.API object at 0x2b23538...  \n",
       "1670  Place(_api=<tweepy.api.API object at 0x2b23538...  \n",
       "\n",
       "[1671 rows x 7 columns]"
      ]
     },
     "execution_count": 3,
     "metadata": {},
     "output_type": "execute_result"
    }
   ],
   "source": [
    "df_dict['2021-07-21']"
   ]
  },
  {
   "cell_type": "code",
   "execution_count": 4,
   "id": "e81bd8d2",
   "metadata": {},
   "outputs": [],
   "source": [
    "# Get all tweets(string) in a list for each date\n",
    "tweets_dict = {}\n",
    "for i in date_range:\n",
    "    tweets_dict[i.strftime('%Y-%m-%d')] =  df_dict[i.strftime('%Y-%m-%d')]['text'].tolist()"
   ]
  },
  {
   "cell_type": "code",
   "execution_count": 5,
   "id": "81edcc8d",
   "metadata": {},
   "outputs": [
    {
     "name": "stdout",
     "output_type": "stream",
     "text": [
      "Total number of tweets: \n",
      "2638 \n",
      "\n",
      "Sample tweets: \n",
      "['Hey @marczumoff on the opening of the Olympics….', \"He looks kinda happy, doesn't he? #TokyoOlympics #marathon #kipchoge 🏃🏽I need those shoes! 👟 #running\", 'Texas boys dominating the AAU Junior Olympics in the 17-18yr old boys 3000 https://t.co/TlP2Ox71eb']\n"
     ]
    }
   ],
   "source": [
    "#example\n",
    "print(\"Total number of tweets: \\n{} \\n\".format(len(tweets_dict['2021-08-08'])))\n",
    "print(\"Sample tweets: \\n{}\".format(tweets_dict['2021-08-08'][:3]))"
   ]
  },
  {
   "cell_type": "markdown",
   "id": "fe7ca80c",
   "metadata": {},
   "source": [
    "### Tokenisation and Stop Words Removal"
   ]
  },
  {
   "cell_type": "code",
   "execution_count": 33,
   "id": "c2f802e0",
   "metadata": {},
   "outputs": [
    {
     "name": "stderr",
     "output_type": "stream",
     "text": [
      "[nltk_data] Downloading package stopwords to\n",
      "[nltk_data]     /home1/07144/yw23374/nltk_data...\n",
      "[nltk_data]   Package stopwords is already up-to-date!\n",
      "[nltk_data] Downloading package wordnet to\n",
      "[nltk_data]     /home1/07144/yw23374/nltk_data...\n",
      "[nltk_data]   Package wordnet is already up-to-date!\n"
     ]
    }
   ],
   "source": [
    "import nltk\n",
    "import gensim\n",
    "from nltk.tokenize import RegexpTokenizer\n",
    "#splits string into substrings using a regular expression\n",
    "#tokenises words that contain 1 or more (+) alphanumeric characters (\\w) or '@'\n",
    "retokenizer = RegexpTokenizer(r'[\\w@]+')\n",
    "# create stop words list\n",
    "from nltk.corpus import stopwords\n",
    "nltk.download('stopwords')\n",
    "nltk.download('wordnet')\n",
    "stop_words = stopwords.words('english')\n",
    "# add twitter specific stop words\n",
    "stop_words += [\"rt\", \"got\", \"thats\", \"would\", \"going\", \"u\", \n",
    "               \"get\", \"also\", \"one\", \"could\", \"said\", \"like\",\n",
    "               \"via\", \"say\", \"amp\", \"many\", \"need\", \"day\", \"want\", \n",
    "               \"last\", \"people\", \"done\", \"two\",\n",
    "               \"outbreak\", \"know\", \"upon\", \"may\", \"way\",\n",
    "               \"saw\", \"gtgt\", \"olympics\", \"tokyo2020\", \"tokyo\", \"olympics2021\", \"usa\"\n",
    "               \"olympics2020\", \"@olympics\", \"tokyoolympics\", \"olympic\", \"http\"]\n",
    "# create lemmatizer\n",
    "wnl = nltk.stem.wordnet.WordNetLemmatizer()"
   ]
  },
  {
   "cell_type": "code",
   "execution_count": 34,
   "id": "9d54e27d",
   "metadata": {},
   "outputs": [],
   "source": [
    "def process_text(documents, stop_words):\n",
    "    processed_docs = []\n",
    "    doc_tokens = []\n",
    "    for doc in documents:\n",
    "        doc = str(doc).lower()\n",
    "        doc_tokens = retokenizer.tokenize(doc)\n",
    "        doc_tokens = [token for token in doc_tokens if token not in stop_words]\n",
    "        doc_tokens = [token for token in doc_tokens if len(token)>2]\n",
    "        doc_tokens = [wnl.lemmatize(token) for token in doc_tokens]    \n",
    "        processed_docs.append(doc_tokens)\n",
    "    return processed_docs"
   ]
  },
  {
   "cell_type": "code",
   "execution_count": 35,
   "id": "7b85c30f",
   "metadata": {},
   "outputs": [
    {
     "name": "stdout",
     "output_type": "stream",
     "text": [
      "4120\n"
     ]
    }
   ],
   "source": [
    "# Gets a list of list of tokens (each nested list is from one tweet)\n",
    "processed_tweets_dict = {}\n",
    "for i in date_range:\n",
    "    processed_tweets_dict[i.strftime('%Y-%m-%d')] =  process_text(tweets_dict[i.strftime('%Y-%m-%d')], stop_words)\n",
    "    \n",
    "#example    \n",
    "processed_tweets_dict['2021-07-24'] = process_text(tweets_dict['2021-07-24'], stop_words)\n",
    "print(len(processed_tweets_dict['2021-07-24']))"
   ]
  },
  {
   "cell_type": "markdown",
   "id": "c00385d2",
   "metadata": {},
   "source": [
    "### Create a dictionary representaion\n",
    "\n",
    "<code>gensim</code> dictionary assigns an integer id to each unique word in the corpus"
   ]
  },
  {
   "cell_type": "code",
   "execution_count": 36,
   "id": "a200b543",
   "metadata": {},
   "outputs": [
    {
     "name": "stdout",
     "output_type": "stream",
     "text": [
      "Sample word to id mappings:\n",
      " [(0, '@kathryntappen'), (1, '@nbcolympics'), (2, '@nbcsports'), (3, 'bad'), (4, 'fqfc3xlko5'), (5, 'hope'), (6, 'http'), (7, 'love'), (8, 'man'), (9, 'safe'), (10, 'stay'), (11, 'watching'), (12, 'wrong'), (13, 'back'), (14, 'let'), (15, 'play'), (16, 'softball'), (17, '56bli2z8iz'), (18, 'kobe'), (19, 'exciting'), (20, 'freakin'), (21, 'iakmrjcnrz'), (22, 'event'), (23, 'first'), (24, 'mrahgqeppe'), (25, '@boxingrich'), (26, 'aaid'), (27, 'consider'), (28, 'decline'), (29, 'even'), (30, 'golf'), (31, 'long'), (32, 'olympi'), (33, 'real'), (34, 'shouldnt'), (35, 'uhvuu6cpmf'), (36, 'underway'), (37, '6mc5zjldls'), (38, 'arnaud'), (39, 'bugle'), (40, 'dominating'), (41, 'fanfare'), (42, 'john'), (43, 'leo'), (44, 'shout'), (45, 'williams'), (46, '2008'), (47, '9ohxjtm1a0'), (48, 'beat'), (49, 'gold'), (50, 'japan'), (51, 'medal'), (52, 'played'), (53, 'sport'), (54, 'team'), (55, 'usa'), (56, 'australia'), (57, 'baseball'), (58, 'converted'), (59, 'field'), (60, 'game'), (61, 'mghsafzjup'), (62, 'playing'), (63, 'wait'), (64, 'iz5jfs61pd'), (65, 'pitch'), (66, 'throw'), (67, '7lionvwswf'), (68, 'better'), (69, 'ceremony'), (70, 'move'), (71, 'opening'), (72, 'start'), (73, 'fight'), (74, 'finally')]\n",
      "Total Vocabulary Size: 4903\n"
     ]
    }
   ],
   "source": [
    "dictionary_dict = {}\n",
    "for i in date_range:\n",
    "    dictionary_dict[i.strftime('%Y-%m-%d')] =  gensim.corpora.Dictionary(processed_tweets_dict[i.strftime('%Y-%m-%d')])\n",
    "\n",
    "#example    \n",
    "print('Sample word to id mappings:\\n', list(dictionary_dict['2021-07-21'].items())[:75])\n",
    "print('Total Vocabulary Size:', len(dictionary_dict['2021-07-21']))"
   ]
  },
  {
   "cell_type": "markdown",
   "id": "4a81c7f4",
   "metadata": {},
   "source": [
    "### Set parameters\n",
    "Filter the vocabulary based on frequency, so as not to use less important words or words that do not help differentiate the topics."
   ]
  },
  {
   "cell_type": "code",
   "execution_count": 37,
   "id": "0453c0ac",
   "metadata": {},
   "outputs": [
    {
     "name": "stdout",
     "output_type": "stream",
     "text": [
      "Total Vocabulary Size: 147\n"
     ]
    }
   ],
   "source": [
    "# Filter out words that occur in less than 20 documents, or more than 50% of the documents.\n",
    "for i in date_range:\n",
    "    dictionary_dict[i.strftime('%Y-%m-%d')].filter_extremes(no_below=20, no_above=0.5)\n",
    "#example\n",
    "print('Total Vocabulary Size:', len(dictionary_dict['2021-08-01']))"
   ]
  },
  {
   "cell_type": "markdown",
   "id": "2d8d1c63",
   "metadata": {},
   "source": [
    "### Create the vector space model (bag of words model in gensim)\n",
    "The function doc2bow() counts the number of occurrences of each unique word, converts the word to its integer word id and returns the result as a sparse vector(words from the dictionary not present in the document are not stored in the document vector)"
   ]
  },
  {
   "cell_type": "code",
   "execution_count": 38,
   "id": "fe5f6b3d",
   "metadata": {},
   "outputs": [],
   "source": [
    "# Transforming corpus into bag of words vectors\n",
    "corpus_vect_dict = {}\n",
    "for i in date_range:\n",
    "    corpus_vect_dict[i.strftime('%Y-%m-%d')] = [dictionary_dict[i.strftime('%Y-%m-%d')].doc2bow(text) for text in processed_tweets_dict[i.strftime('%Y-%m-%d')]]"
   ]
  },
  {
   "cell_type": "code",
   "execution_count": 39,
   "id": "98fc06d2",
   "metadata": {},
   "outputs": [
    {
     "name": "stdout",
     "output_type": "stream",
     "text": [
      "[(2, 1), (3, 1), (4, 1), (5, 1)]\n",
      "\n",
      "\n",
      "['back', 'let', 'play', 'softball']\n"
     ]
    }
   ],
   "source": [
    "#Check how the vector looks for the second tweet document\n",
    "print(corpus_vect_dict['2021-07-21'][1])\n",
    "print(\"\\n\", )\n",
    "print(processed_tweets_dict['2021-07-21'][1])"
   ]
  },
  {
   "cell_type": "code",
   "execution_count": 40,
   "id": "b68fc6ad",
   "metadata": {},
   "outputs": [
    {
     "name": "stdout",
     "output_type": "stream",
     "text": [
      "1671\n"
     ]
    }
   ],
   "source": [
    "print(len(corpus_vect_dict['2021-07-21']))"
   ]
  },
  {
   "cell_type": "code",
   "execution_count": 41,
   "id": "9b48d84c",
   "metadata": {},
   "outputs": [
    {
     "name": "stdout",
     "output_type": "stream",
     "text": [
      "[('back', 1), ('let', 1), ('play', 1), ('softball', 1)]\n"
     ]
    }
   ],
   "source": [
    "#Viewing them as terms and their document frequencies, index into the dictionary\n",
    "\n",
    "print([(dictionary_dict['2021-07-21'][id] , freq) for id, freq in corpus_vect_dict['2021-07-21'][1][:20]])"
   ]
  },
  {
   "cell_type": "code",
   "execution_count": 42,
   "id": "b218cd0c",
   "metadata": {},
   "outputs": [],
   "source": [
    "#build model folders for later saving lda models\n",
    "# import os\n",
    "# for i in date_range:\n",
    "#     os.mkdir('models/'+i.strftime('%Y-%m-%d')+\"/Topics\")"
   ]
  },
  {
   "cell_type": "markdown",
   "id": "1912df1f",
   "metadata": {},
   "source": [
    "## Build the LDA model"
   ]
  },
  {
   "cell_type": "code",
   "execution_count": 43,
   "id": "7715c5be",
   "metadata": {},
   "outputs": [],
   "source": [
    "#from gensim.test.utils import datapath\n",
    "num_topics = 3\n",
    "import pickle\n",
    "ldamodel_dict = {}\n",
    "\n",
    "#Build LDA model and save them\n",
    "\n",
    "# for i in date_range:\n",
    "#     date = i.strftime('%Y-%m-%d')\n",
    "#     print(\"now processing \"+str(i))\n",
    "#     if(num_topics = 0):\n",
    "#         continue\n",
    "#     ldamodel_dict[date] = gensim.models.ldamodel.LdaModel(corpus_vect_dict[date], num_topics = num_topics, id2word=dictionary_dict[date], passes=25)\n",
    "#     ldamodel_path = 'models/' + date +'/LDAmodels'\n",
    "#     ldamodel_dict[date].save(ldamodel_path)"
   ]
  },
  {
   "cell_type": "code",
   "execution_count": 44,
   "id": "8b5a3b54",
   "metadata": {},
   "outputs": [],
   "source": [
    "# load LDA model\n",
    "import gensim.models as models\n",
    "from os.path import exists\n",
    "\n",
    "\n",
    "for i in date_range:\n",
    "    date = i.strftime('%Y-%m-%d')\n",
    "    ldamodel_path = 'models/' + i.strftime(date) +'/LDAmodels'\n",
    "    if exists(ldamodel_path)==False:\n",
    "        continue\n",
    "    ldamodel_dict[date] = models.ldamodel.LdaModel.load(ldamodel_path)"
   ]
  },
  {
   "cell_type": "code",
   "execution_count": 45,
   "id": "e8008a23",
   "metadata": {},
   "outputs": [
    {
     "name": "stdout",
     "output_type": "stream",
     "text": [
      "0: 0.091*\"watching\" + 0.082*\"watch\" + 0.055*\"see\" + 0.044*\"let\" + 0.040*\"look\" + 0.036*\"even\" + 0.034*\"much\" + 0.033*\"thing\" + 0.032*\"final\" + 0.030*\"track\"\n",
      "1: 0.081*\"gold\" + 0.080*\"usa\" + 0.060*\"love\" + 0.056*\"sport\" + 0.037*\"athlete\" + 0.036*\"awesome\" + 0.034*\"best\" + 0.032*\"teamusa\" + 0.027*\"swimming\" + 0.026*\"world\"\n",
      "2: 0.064*\"team\" + 0.060*\"woman\" + 0.058*\"time\" + 0.040*\"great\" + 0.040*\"medal\" + 0.038*\"really\" + 0.038*\"event\" + 0.038*\"game\" + 0.037*\"men\" + 0.034*\"mixed\"\n"
     ]
    }
   ],
   "source": [
    "#example\n",
    "for num ,topic in ldamodel_dict['2021-07-31'].show_topics(formatted=True, num_topics=num_topics, num_words=10):\n",
    "    print(str(num)+\": \"+ topic)"
   ]
  },
  {
   "cell_type": "code",
   "execution_count": 46,
   "id": "36458304",
   "metadata": {},
   "outputs": [],
   "source": [
    "topics = ldamodel_dict['2021-07-21'].show_topics(formatted=True, num_topics=num_topics, num_words=10)"
   ]
  },
  {
   "cell_type": "code",
   "execution_count": 47,
   "id": "69dbde8a",
   "metadata": {},
   "outputs": [
    {
     "data": {
      "text/plain": [
       "(1,\n",
       " '0.140*\"uswnt\" + 0.112*\"game\" + 0.078*\"softball\" + 0.075*\"watch\" + 0.064*\"sweden\" + 0.062*\"play\" + 0.058*\"first\" + 0.036*\"summer\" + 0.034*\"wait\" + 0.033*\"take\"')"
      ]
     },
     "execution_count": 47,
     "metadata": {},
     "output_type": "execute_result"
    }
   ],
   "source": [
    "topics[1] "
   ]
  },
  {
   "cell_type": "markdown",
   "id": "a61c2c0c",
   "metadata": {},
   "source": [
    "### Compute Coherence Score"
   ]
  },
  {
   "cell_type": "code",
   "execution_count": 48,
   "id": "58741c6e",
   "metadata": {},
   "outputs": [
    {
     "name": "stdout",
     "output_type": "stream",
     "text": [
      "\n",
      "Coherence Score:  0.47968193292323424\n"
     ]
    }
   ],
   "source": [
    "from gensim.models import CoherenceModel\n",
    "\n",
    "# Compute Coherence Score for LDA Model\n",
    "coherence_model_lda_dict = {}\n",
    "coherence_lda_dict = {}\n",
    "for i in date_range:\n",
    "    date = i.strftime('%Y-%m-%d')\n",
    "    ldamodel_path = 'models/' + i.strftime(date) +'/LDAmodels'\n",
    "    if exists(ldamodel_path)==False:\n",
    "        continue\n",
    "    coherence_model_lda_dict[date] = CoherenceModel(model=ldamodel_dict[date], texts=processed_tweets_dict[date], dictionary=dictionary_dict[date], coherence='c_v')\n",
    "    coherence_lda_dict[date] = coherence_model_lda_dict[date].get_coherence()\n",
    "print('\\nCoherence Score: ', coherence_lda_dict['2021-07-31'])"
   ]
  },
  {
   "cell_type": "markdown",
   "id": "d420d2f0",
   "metadata": {},
   "source": [
    "### Finding Optimal Number of Topics"
   ]
  },
  {
   "cell_type": "code",
   "execution_count": 49,
   "id": "38bec827",
   "metadata": {},
   "outputs": [],
   "source": [
    "def compute_coherence_values(date, dictionary, corpus, texts, limit, start=2, step=1):\n",
    "    \"\"\"\n",
    "    Compute c_v coherence for various number of topics\n",
    "\n",
    "    Parameters:\n",
    "    ----------\n",
    "    dictionary : Gensim dictionary\n",
    "    corpus : Gensim corpus\n",
    "    texts : List of input texts\n",
    "    limit : Max num of topics\n",
    "\n",
    "    Returns:\n",
    "    -------\n",
    "    model_list : List of LDA topic models\n",
    "    coherence_values : Coherence values corresponding to the LDA model with respective number of topics\n",
    "    \"\"\"\n",
    "    coherence_values = []\n",
    "    model_list = []\n",
    "    for num_topics in range(start, limit, step):\n",
    "#         model = gensim.models.wrappers.LdaMallet(mallet_path, corpus=corpus, num_topics=num_topics, id2word=id2word)\n",
    "#         model_list.append(model)\n",
    "        model = gensim.models.ldamodel.LdaModel(corpus_vect_dict[date], num_topics = num_topics, id2word=dictionary_dict[date], passes=25)\n",
    "        ldamodel_fname = 'models/' + i.strftime('%Y-%m-%d') +'/Topics/LDAmodels'+str(num_topics)\n",
    "        model.save(ldamodel_fname)\n",
    "        model_list.append(model)\n",
    "        coherencemodel = CoherenceModel(model=model, texts=texts, dictionary=dictionary, coherence='c_v')\n",
    "        coherencemodel_fname = 'models/' + i.strftime('%Y-%m-%d') +'/Topics/COHERENCEmodels'+str(num_topics)\n",
    "        coherencemodel.save(coherencemodel_fname)\n",
    "        coherence_values.append(coherencemodel.get_coherence())\n",
    "\n",
    "    return model_list, coherence_values"
   ]
  },
  {
   "cell_type": "code",
   "execution_count": 50,
   "id": "fb01f2ec",
   "metadata": {},
   "outputs": [],
   "source": [
    "# # Can take a long time to run.\n",
    "# Will run if have time\n",
    "\n",
    "# model_list_dict = {}\n",
    "# coherence_values_dict = {}\n",
    "# for i in date_range:\n",
    "#     date = i.strftime('%Y-%m-%d')\n",
    "#     print(\"Now handling \"+date)\n",
    "#     ldamodel_path = 'models/' + i.strftime(date) +'/LDAmodels'\n",
    "#     if exists(ldamodel_path)==False:\n",
    "#         continue\n",
    "#     model_list, coherence_values = compute_coherence_values(date=date,\n",
    "#                                                             dictionary=dictionary_dict[date], \n",
    "#                                                             corpus=corpus_vect_dict[date],\n",
    "#                                                             texts=processed_tweets_dict[date],\n",
    "#                                                             start=2,\n",
    "#                                                             limit=10)\n",
    "#     model_list_dict[date] = model_list\n",
    "#     coherence_values_dict[date] = coherence_values"
   ]
  },
  {
   "cell_type": "code",
   "execution_count": 51,
   "id": "247e7daf",
   "metadata": {},
   "outputs": [],
   "source": [
    "def load_coherence_values(date, dictionary, corpus, texts, limit, start=2, step=1):\n",
    "    \"\"\"\n",
    "    Load c_v coherence for various number of topics\n",
    "\n",
    "    Parameters:\n",
    "    ----------\n",
    "    dictionary : Gensim dictionary\n",
    "    corpus : Gensim corpus\n",
    "    texts : List of input texts\n",
    "    limit : Max num of topics\n",
    "\n",
    "    Returns:\n",
    "    -------\n",
    "    model_list : List of LDA topic models\n",
    "    coherence_values : Coherence values corresponding to the LDA model with respective number of topics\n",
    "    \"\"\"\n",
    "    coherence_values = []\n",
    "    model_list = []\n",
    "    for num_topics in range(start, limit, step):\n",
    "        date = i.strftime('%Y-%m-%d')\n",
    "        ldamodel_fname = 'models/' + date +'/Topics/LDAmodels'+str(num_topics)\n",
    "        model = models.ldamodel.LdaModel.load(ldamodel_fname)\n",
    "        model_list.append(model)\n",
    "        coherencemodel_fname = 'models/' + date +'/Topics/COHERENCEmodels'+str(num_topics)\n",
    "        coherencemodel = models.ldamodel.LdaModel.load(coherencemodel_fname)\n",
    "        coherence_values.append(coherencemodel.get_coherence())\n",
    "\n",
    "    return model_list, coherence_values"
   ]
  },
  {
   "cell_type": "code",
   "execution_count": 52,
   "id": "ed9b565f",
   "metadata": {},
   "outputs": [
    {
     "name": "stderr",
     "output_type": "stream",
     "text": [
      "WARNING:root:random_state not set so using default value\n",
      "WARNING:root:failed to load state from models/2021-07-19/Topics/COHERENCEmodels2.state: [Errno 2] No such file or directory: 'models/2021-07-19/Topics/COHERENCEmodels2.state'\n"
     ]
    },
    {
     "name": "stdout",
     "output_type": "stream",
     "text": [
      "Now loading 2021-07-19\n"
     ]
    },
    {
     "name": "stderr",
     "output_type": "stream",
     "text": [
      "WARNING:root:random_state not set so using default value\n",
      "WARNING:root:failed to load state from models/2021-07-19/Topics/COHERENCEmodels3.state: [Errno 2] No such file or directory: 'models/2021-07-19/Topics/COHERENCEmodels3.state'\n",
      "WARNING:root:random_state not set so using default value\n",
      "WARNING:root:failed to load state from models/2021-07-19/Topics/COHERENCEmodels4.state: [Errno 2] No such file or directory: 'models/2021-07-19/Topics/COHERENCEmodels4.state'\n",
      "WARNING:root:random_state not set so using default value\n",
      "WARNING:root:failed to load state from models/2021-07-19/Topics/COHERENCEmodels5.state: [Errno 2] No such file or directory: 'models/2021-07-19/Topics/COHERENCEmodels5.state'\n",
      "WARNING:root:random_state not set so using default value\n",
      "WARNING:root:failed to load state from models/2021-07-19/Topics/COHERENCEmodels6.state: [Errno 2] No such file or directory: 'models/2021-07-19/Topics/COHERENCEmodels6.state'\n",
      "WARNING:root:random_state not set so using default value\n",
      "WARNING:root:failed to load state from models/2021-07-19/Topics/COHERENCEmodels7.state: [Errno 2] No such file or directory: 'models/2021-07-19/Topics/COHERENCEmodels7.state'\n",
      "WARNING:root:random_state not set so using default value\n",
      "WARNING:root:failed to load state from models/2021-07-19/Topics/COHERENCEmodels8.state: [Errno 2] No such file or directory: 'models/2021-07-19/Topics/COHERENCEmodels8.state'\n",
      "WARNING:root:random_state not set so using default value\n",
      "WARNING:root:failed to load state from models/2021-07-19/Topics/COHERENCEmodels9.state: [Errno 2] No such file or directory: 'models/2021-07-19/Topics/COHERENCEmodels9.state'\n",
      "WARNING:root:random_state not set so using default value\n",
      "WARNING:root:failed to load state from models/2021-07-20/Topics/COHERENCEmodels2.state: [Errno 2] No such file or directory: 'models/2021-07-20/Topics/COHERENCEmodels2.state'\n"
     ]
    },
    {
     "name": "stdout",
     "output_type": "stream",
     "text": [
      "Now loading 2021-07-20\n"
     ]
    },
    {
     "name": "stderr",
     "output_type": "stream",
     "text": [
      "WARNING:root:random_state not set so using default value\n",
      "WARNING:root:failed to load state from models/2021-07-20/Topics/COHERENCEmodels3.state: [Errno 2] No such file or directory: 'models/2021-07-20/Topics/COHERENCEmodels3.state'\n",
      "WARNING:root:random_state not set so using default value\n",
      "WARNING:root:failed to load state from models/2021-07-20/Topics/COHERENCEmodels4.state: [Errno 2] No such file or directory: 'models/2021-07-20/Topics/COHERENCEmodels4.state'\n",
      "WARNING:root:random_state not set so using default value\n",
      "WARNING:root:failed to load state from models/2021-07-20/Topics/COHERENCEmodels5.state: [Errno 2] No such file or directory: 'models/2021-07-20/Topics/COHERENCEmodels5.state'\n",
      "WARNING:root:random_state not set so using default value\n",
      "WARNING:root:failed to load state from models/2021-07-20/Topics/COHERENCEmodels6.state: [Errno 2] No such file or directory: 'models/2021-07-20/Topics/COHERENCEmodels6.state'\n",
      "WARNING:root:random_state not set so using default value\n",
      "WARNING:root:failed to load state from models/2021-07-20/Topics/COHERENCEmodels7.state: [Errno 2] No such file or directory: 'models/2021-07-20/Topics/COHERENCEmodels7.state'\n",
      "WARNING:root:random_state not set so using default value\n",
      "WARNING:root:failed to load state from models/2021-07-20/Topics/COHERENCEmodels8.state: [Errno 2] No such file or directory: 'models/2021-07-20/Topics/COHERENCEmodels8.state'\n",
      "WARNING:root:random_state not set so using default value\n",
      "WARNING:root:failed to load state from models/2021-07-20/Topics/COHERENCEmodels9.state: [Errno 2] No such file or directory: 'models/2021-07-20/Topics/COHERENCEmodels9.state'\n",
      "WARNING:root:random_state not set so using default value\n",
      "WARNING:root:failed to load state from models/2021-07-21/Topics/COHERENCEmodels2.state: [Errno 2] No such file or directory: 'models/2021-07-21/Topics/COHERENCEmodels2.state'\n"
     ]
    },
    {
     "name": "stdout",
     "output_type": "stream",
     "text": [
      "Now loading 2021-07-21\n"
     ]
    },
    {
     "name": "stderr",
     "output_type": "stream",
     "text": [
      "WARNING:root:random_state not set so using default value\n",
      "WARNING:root:failed to load state from models/2021-07-21/Topics/COHERENCEmodels3.state: [Errno 2] No such file or directory: 'models/2021-07-21/Topics/COHERENCEmodels3.state'\n",
      "WARNING:root:random_state not set so using default value\n",
      "WARNING:root:failed to load state from models/2021-07-21/Topics/COHERENCEmodels4.state: [Errno 2] No such file or directory: 'models/2021-07-21/Topics/COHERENCEmodels4.state'\n",
      "WARNING:root:random_state not set so using default value\n",
      "WARNING:root:failed to load state from models/2021-07-21/Topics/COHERENCEmodels5.state: [Errno 2] No such file or directory: 'models/2021-07-21/Topics/COHERENCEmodels5.state'\n",
      "WARNING:root:random_state not set so using default value\n",
      "WARNING:root:failed to load state from models/2021-07-21/Topics/COHERENCEmodels6.state: [Errno 2] No such file or directory: 'models/2021-07-21/Topics/COHERENCEmodels6.state'\n",
      "WARNING:root:random_state not set so using default value\n",
      "WARNING:root:failed to load state from models/2021-07-21/Topics/COHERENCEmodels7.state: [Errno 2] No such file or directory: 'models/2021-07-21/Topics/COHERENCEmodels7.state'\n",
      "WARNING:root:random_state not set so using default value\n",
      "WARNING:root:failed to load state from models/2021-07-21/Topics/COHERENCEmodels8.state: [Errno 2] No such file or directory: 'models/2021-07-21/Topics/COHERENCEmodels8.state'\n",
      "WARNING:root:random_state not set so using default value\n",
      "WARNING:root:failed to load state from models/2021-07-21/Topics/COHERENCEmodels9.state: [Errno 2] No such file or directory: 'models/2021-07-21/Topics/COHERENCEmodels9.state'\n",
      "WARNING:root:random_state not set so using default value\n",
      "WARNING:root:failed to load state from models/2021-07-22/Topics/COHERENCEmodels2.state: [Errno 2] No such file or directory: 'models/2021-07-22/Topics/COHERENCEmodels2.state'\n"
     ]
    },
    {
     "name": "stdout",
     "output_type": "stream",
     "text": [
      "Now loading 2021-07-22\n"
     ]
    },
    {
     "name": "stderr",
     "output_type": "stream",
     "text": [
      "WARNING:root:random_state not set so using default value\n",
      "WARNING:root:failed to load state from models/2021-07-22/Topics/COHERENCEmodels3.state: [Errno 2] No such file or directory: 'models/2021-07-22/Topics/COHERENCEmodels3.state'\n",
      "WARNING:root:random_state not set so using default value\n",
      "WARNING:root:failed to load state from models/2021-07-22/Topics/COHERENCEmodels4.state: [Errno 2] No such file or directory: 'models/2021-07-22/Topics/COHERENCEmodels4.state'\n",
      "WARNING:root:random_state not set so using default value\n",
      "WARNING:root:failed to load state from models/2021-07-22/Topics/COHERENCEmodels5.state: [Errno 2] No such file or directory: 'models/2021-07-22/Topics/COHERENCEmodels5.state'\n",
      "WARNING:root:random_state not set so using default value\n",
      "WARNING:root:failed to load state from models/2021-07-22/Topics/COHERENCEmodels6.state: [Errno 2] No such file or directory: 'models/2021-07-22/Topics/COHERENCEmodels6.state'\n",
      "WARNING:root:random_state not set so using default value\n",
      "WARNING:root:failed to load state from models/2021-07-22/Topics/COHERENCEmodels7.state: [Errno 2] No such file or directory: 'models/2021-07-22/Topics/COHERENCEmodels7.state'\n",
      "WARNING:root:random_state not set so using default value\n",
      "WARNING:root:failed to load state from models/2021-07-22/Topics/COHERENCEmodels8.state: [Errno 2] No such file or directory: 'models/2021-07-22/Topics/COHERENCEmodels8.state'\n",
      "WARNING:root:random_state not set so using default value\n",
      "WARNING:root:failed to load state from models/2021-07-22/Topics/COHERENCEmodels9.state: [Errno 2] No such file or directory: 'models/2021-07-22/Topics/COHERENCEmodels9.state'\n",
      "WARNING:root:random_state not set so using default value\n",
      "WARNING:root:failed to load state from models/2021-07-23/Topics/COHERENCEmodels2.state: [Errno 2] No such file or directory: 'models/2021-07-23/Topics/COHERENCEmodels2.state'\n"
     ]
    },
    {
     "name": "stdout",
     "output_type": "stream",
     "text": [
      "Now loading 2021-07-23\n"
     ]
    },
    {
     "name": "stderr",
     "output_type": "stream",
     "text": [
      "WARNING:root:random_state not set so using default value\n",
      "WARNING:root:failed to load state from models/2021-07-23/Topics/COHERENCEmodels3.state: [Errno 2] No such file or directory: 'models/2021-07-23/Topics/COHERENCEmodels3.state'\n",
      "WARNING:root:random_state not set so using default value\n",
      "WARNING:root:failed to load state from models/2021-07-23/Topics/COHERENCEmodels4.state: [Errno 2] No such file or directory: 'models/2021-07-23/Topics/COHERENCEmodels4.state'\n",
      "WARNING:root:random_state not set so using default value\n",
      "WARNING:root:failed to load state from models/2021-07-23/Topics/COHERENCEmodels5.state: [Errno 2] No such file or directory: 'models/2021-07-23/Topics/COHERENCEmodels5.state'\n",
      "WARNING:root:random_state not set so using default value\n",
      "WARNING:root:failed to load state from models/2021-07-23/Topics/COHERENCEmodels6.state: [Errno 2] No such file or directory: 'models/2021-07-23/Topics/COHERENCEmodels6.state'\n",
      "WARNING:root:random_state not set so using default value\n",
      "WARNING:root:failed to load state from models/2021-07-23/Topics/COHERENCEmodels7.state: [Errno 2] No such file or directory: 'models/2021-07-23/Topics/COHERENCEmodels7.state'\n",
      "WARNING:root:random_state not set so using default value\n",
      "WARNING:root:failed to load state from models/2021-07-23/Topics/COHERENCEmodels8.state: [Errno 2] No such file or directory: 'models/2021-07-23/Topics/COHERENCEmodels8.state'\n",
      "WARNING:root:random_state not set so using default value\n",
      "WARNING:root:failed to load state from models/2021-07-23/Topics/COHERENCEmodels9.state: [Errno 2] No such file or directory: 'models/2021-07-23/Topics/COHERENCEmodels9.state'\n",
      "WARNING:root:random_state not set so using default value\n",
      "WARNING:root:failed to load state from models/2021-07-24/Topics/COHERENCEmodels2.state: [Errno 2] No such file or directory: 'models/2021-07-24/Topics/COHERENCEmodels2.state'\n"
     ]
    },
    {
     "name": "stdout",
     "output_type": "stream",
     "text": [
      "Now loading 2021-07-24\n"
     ]
    },
    {
     "name": "stderr",
     "output_type": "stream",
     "text": [
      "WARNING:root:random_state not set so using default value\n",
      "WARNING:root:failed to load state from models/2021-07-24/Topics/COHERENCEmodels3.state: [Errno 2] No such file or directory: 'models/2021-07-24/Topics/COHERENCEmodels3.state'\n",
      "WARNING:root:random_state not set so using default value\n",
      "WARNING:root:failed to load state from models/2021-07-24/Topics/COHERENCEmodels4.state: [Errno 2] No such file or directory: 'models/2021-07-24/Topics/COHERENCEmodels4.state'\n",
      "WARNING:root:random_state not set so using default value\n",
      "WARNING:root:failed to load state from models/2021-07-24/Topics/COHERENCEmodels5.state: [Errno 2] No such file or directory: 'models/2021-07-24/Topics/COHERENCEmodels5.state'\n",
      "WARNING:root:random_state not set so using default value\n",
      "WARNING:root:failed to load state from models/2021-07-24/Topics/COHERENCEmodels6.state: [Errno 2] No such file or directory: 'models/2021-07-24/Topics/COHERENCEmodels6.state'\n",
      "WARNING:root:random_state not set so using default value\n",
      "WARNING:root:failed to load state from models/2021-07-24/Topics/COHERENCEmodels7.state: [Errno 2] No such file or directory: 'models/2021-07-24/Topics/COHERENCEmodels7.state'\n",
      "WARNING:root:random_state not set so using default value\n",
      "WARNING:root:failed to load state from models/2021-07-24/Topics/COHERENCEmodels8.state: [Errno 2] No such file or directory: 'models/2021-07-24/Topics/COHERENCEmodels8.state'\n",
      "WARNING:root:random_state not set so using default value\n",
      "WARNING:root:failed to load state from models/2021-07-24/Topics/COHERENCEmodels9.state: [Errno 2] No such file or directory: 'models/2021-07-24/Topics/COHERENCEmodels9.state'\n",
      "WARNING:root:random_state not set so using default value\n",
      "WARNING:root:failed to load state from models/2021-07-25/Topics/COHERENCEmodels2.state: [Errno 2] No such file or directory: 'models/2021-07-25/Topics/COHERENCEmodels2.state'\n"
     ]
    },
    {
     "name": "stdout",
     "output_type": "stream",
     "text": [
      "Now loading 2021-07-25\n"
     ]
    },
    {
     "name": "stderr",
     "output_type": "stream",
     "text": [
      "WARNING:root:random_state not set so using default value\n",
      "WARNING:root:failed to load state from models/2021-07-25/Topics/COHERENCEmodels3.state: [Errno 2] No such file or directory: 'models/2021-07-25/Topics/COHERENCEmodels3.state'\n",
      "WARNING:root:random_state not set so using default value\n",
      "WARNING:root:failed to load state from models/2021-07-25/Topics/COHERENCEmodels4.state: [Errno 2] No such file or directory: 'models/2021-07-25/Topics/COHERENCEmodels4.state'\n",
      "WARNING:root:random_state not set so using default value\n",
      "WARNING:root:failed to load state from models/2021-07-25/Topics/COHERENCEmodels5.state: [Errno 2] No such file or directory: 'models/2021-07-25/Topics/COHERENCEmodels5.state'\n",
      "WARNING:root:random_state not set so using default value\n",
      "WARNING:root:failed to load state from models/2021-07-25/Topics/COHERENCEmodels6.state: [Errno 2] No such file or directory: 'models/2021-07-25/Topics/COHERENCEmodels6.state'\n",
      "WARNING:root:random_state not set so using default value\n",
      "WARNING:root:failed to load state from models/2021-07-25/Topics/COHERENCEmodels7.state: [Errno 2] No such file or directory: 'models/2021-07-25/Topics/COHERENCEmodels7.state'\n",
      "WARNING:root:random_state not set so using default value\n",
      "WARNING:root:failed to load state from models/2021-07-25/Topics/COHERENCEmodels8.state: [Errno 2] No such file or directory: 'models/2021-07-25/Topics/COHERENCEmodels8.state'\n",
      "WARNING:root:random_state not set so using default value\n",
      "WARNING:root:failed to load state from models/2021-07-25/Topics/COHERENCEmodels9.state: [Errno 2] No such file or directory: 'models/2021-07-25/Topics/COHERENCEmodels9.state'\n",
      "WARNING:root:random_state not set so using default value\n",
      "WARNING:root:failed to load state from models/2021-07-26/Topics/COHERENCEmodels2.state: [Errno 2] No such file or directory: 'models/2021-07-26/Topics/COHERENCEmodels2.state'\n"
     ]
    },
    {
     "name": "stdout",
     "output_type": "stream",
     "text": [
      "Now loading 2021-07-26\n"
     ]
    },
    {
     "name": "stderr",
     "output_type": "stream",
     "text": [
      "WARNING:root:random_state not set so using default value\n",
      "WARNING:root:failed to load state from models/2021-07-26/Topics/COHERENCEmodels3.state: [Errno 2] No such file or directory: 'models/2021-07-26/Topics/COHERENCEmodels3.state'\n",
      "WARNING:root:random_state not set so using default value\n",
      "WARNING:root:failed to load state from models/2021-07-26/Topics/COHERENCEmodels4.state: [Errno 2] No such file or directory: 'models/2021-07-26/Topics/COHERENCEmodels4.state'\n",
      "WARNING:root:random_state not set so using default value\n",
      "WARNING:root:failed to load state from models/2021-07-26/Topics/COHERENCEmodels5.state: [Errno 2] No such file or directory: 'models/2021-07-26/Topics/COHERENCEmodels5.state'\n",
      "WARNING:root:random_state not set so using default value\n",
      "WARNING:root:failed to load state from models/2021-07-26/Topics/COHERENCEmodels6.state: [Errno 2] No such file or directory: 'models/2021-07-26/Topics/COHERENCEmodels6.state'\n",
      "WARNING:root:random_state not set so using default value\n",
      "WARNING:root:failed to load state from models/2021-07-26/Topics/COHERENCEmodels7.state: [Errno 2] No such file or directory: 'models/2021-07-26/Topics/COHERENCEmodels7.state'\n",
      "WARNING:root:random_state not set so using default value\n",
      "WARNING:root:failed to load state from models/2021-07-26/Topics/COHERENCEmodels8.state: [Errno 2] No such file or directory: 'models/2021-07-26/Topics/COHERENCEmodels8.state'\n",
      "WARNING:root:random_state not set so using default value\n",
      "WARNING:root:failed to load state from models/2021-07-26/Topics/COHERENCEmodels9.state: [Errno 2] No such file or directory: 'models/2021-07-26/Topics/COHERENCEmodels9.state'\n",
      "WARNING:root:random_state not set so using default value\n",
      "WARNING:root:failed to load state from models/2021-07-27/Topics/COHERENCEmodels2.state: [Errno 2] No such file or directory: 'models/2021-07-27/Topics/COHERENCEmodels2.state'\n"
     ]
    },
    {
     "name": "stdout",
     "output_type": "stream",
     "text": [
      "Now loading 2021-07-27\n"
     ]
    },
    {
     "name": "stderr",
     "output_type": "stream",
     "text": [
      "WARNING:root:random_state not set so using default value\n",
      "WARNING:root:failed to load state from models/2021-07-27/Topics/COHERENCEmodels3.state: [Errno 2] No such file or directory: 'models/2021-07-27/Topics/COHERENCEmodels3.state'\n",
      "WARNING:root:random_state not set so using default value\n",
      "WARNING:root:failed to load state from models/2021-07-27/Topics/COHERENCEmodels4.state: [Errno 2] No such file or directory: 'models/2021-07-27/Topics/COHERENCEmodels4.state'\n",
      "WARNING:root:random_state not set so using default value\n",
      "WARNING:root:failed to load state from models/2021-07-27/Topics/COHERENCEmodels5.state: [Errno 2] No such file or directory: 'models/2021-07-27/Topics/COHERENCEmodels5.state'\n",
      "WARNING:root:random_state not set so using default value\n",
      "WARNING:root:failed to load state from models/2021-07-27/Topics/COHERENCEmodels6.state: [Errno 2] No such file or directory: 'models/2021-07-27/Topics/COHERENCEmodels6.state'\n",
      "WARNING:root:random_state not set so using default value\n",
      "WARNING:root:failed to load state from models/2021-07-27/Topics/COHERENCEmodels7.state: [Errno 2] No such file or directory: 'models/2021-07-27/Topics/COHERENCEmodels7.state'\n",
      "WARNING:root:random_state not set so using default value\n",
      "WARNING:root:failed to load state from models/2021-07-27/Topics/COHERENCEmodels8.state: [Errno 2] No such file or directory: 'models/2021-07-27/Topics/COHERENCEmodels8.state'\n",
      "WARNING:root:random_state not set so using default value\n",
      "WARNING:root:failed to load state from models/2021-07-27/Topics/COHERENCEmodels9.state: [Errno 2] No such file or directory: 'models/2021-07-27/Topics/COHERENCEmodels9.state'\n",
      "WARNING:root:random_state not set so using default value\n",
      "WARNING:root:failed to load state from models/2021-07-28/Topics/COHERENCEmodels2.state: [Errno 2] No such file or directory: 'models/2021-07-28/Topics/COHERENCEmodels2.state'\n"
     ]
    },
    {
     "name": "stdout",
     "output_type": "stream",
     "text": [
      "Now loading 2021-07-28\n"
     ]
    },
    {
     "name": "stderr",
     "output_type": "stream",
     "text": [
      "WARNING:root:random_state not set so using default value\n",
      "WARNING:root:failed to load state from models/2021-07-28/Topics/COHERENCEmodels3.state: [Errno 2] No such file or directory: 'models/2021-07-28/Topics/COHERENCEmodels3.state'\n",
      "WARNING:root:random_state not set so using default value\n",
      "WARNING:root:failed to load state from models/2021-07-28/Topics/COHERENCEmodels4.state: [Errno 2] No such file or directory: 'models/2021-07-28/Topics/COHERENCEmodels4.state'\n",
      "WARNING:root:random_state not set so using default value\n",
      "WARNING:root:failed to load state from models/2021-07-28/Topics/COHERENCEmodels5.state: [Errno 2] No such file or directory: 'models/2021-07-28/Topics/COHERENCEmodels5.state'\n",
      "WARNING:root:random_state not set so using default value\n",
      "WARNING:root:failed to load state from models/2021-07-28/Topics/COHERENCEmodels6.state: [Errno 2] No such file or directory: 'models/2021-07-28/Topics/COHERENCEmodels6.state'\n",
      "WARNING:root:random_state not set so using default value\n",
      "WARNING:root:failed to load state from models/2021-07-28/Topics/COHERENCEmodels7.state: [Errno 2] No such file or directory: 'models/2021-07-28/Topics/COHERENCEmodels7.state'\n",
      "WARNING:root:random_state not set so using default value\n",
      "WARNING:root:failed to load state from models/2021-07-28/Topics/COHERENCEmodels8.state: [Errno 2] No such file or directory: 'models/2021-07-28/Topics/COHERENCEmodels8.state'\n",
      "WARNING:root:random_state not set so using default value\n",
      "WARNING:root:failed to load state from models/2021-07-28/Topics/COHERENCEmodels9.state: [Errno 2] No such file or directory: 'models/2021-07-28/Topics/COHERENCEmodels9.state'\n",
      "WARNING:root:random_state not set so using default value\n",
      "WARNING:root:failed to load state from models/2021-07-29/Topics/COHERENCEmodels2.state: [Errno 2] No such file or directory: 'models/2021-07-29/Topics/COHERENCEmodels2.state'\n"
     ]
    },
    {
     "name": "stdout",
     "output_type": "stream",
     "text": [
      "Now loading 2021-07-29\n"
     ]
    },
    {
     "name": "stderr",
     "output_type": "stream",
     "text": [
      "WARNING:root:random_state not set so using default value\n",
      "WARNING:root:failed to load state from models/2021-07-29/Topics/COHERENCEmodels3.state: [Errno 2] No such file or directory: 'models/2021-07-29/Topics/COHERENCEmodels3.state'\n",
      "WARNING:root:random_state not set so using default value\n",
      "WARNING:root:failed to load state from models/2021-07-29/Topics/COHERENCEmodels4.state: [Errno 2] No such file or directory: 'models/2021-07-29/Topics/COHERENCEmodels4.state'\n",
      "WARNING:root:random_state not set so using default value\n",
      "WARNING:root:failed to load state from models/2021-07-29/Topics/COHERENCEmodels5.state: [Errno 2] No such file or directory: 'models/2021-07-29/Topics/COHERENCEmodels5.state'\n",
      "WARNING:root:random_state not set so using default value\n",
      "WARNING:root:failed to load state from models/2021-07-29/Topics/COHERENCEmodels6.state: [Errno 2] No such file or directory: 'models/2021-07-29/Topics/COHERENCEmodels6.state'\n",
      "WARNING:root:random_state not set so using default value\n",
      "WARNING:root:failed to load state from models/2021-07-29/Topics/COHERENCEmodels7.state: [Errno 2] No such file or directory: 'models/2021-07-29/Topics/COHERENCEmodels7.state'\n",
      "WARNING:root:random_state not set so using default value\n",
      "WARNING:root:failed to load state from models/2021-07-29/Topics/COHERENCEmodels8.state: [Errno 2] No such file or directory: 'models/2021-07-29/Topics/COHERENCEmodels8.state'\n",
      "WARNING:root:random_state not set so using default value\n",
      "WARNING:root:failed to load state from models/2021-07-29/Topics/COHERENCEmodels9.state: [Errno 2] No such file or directory: 'models/2021-07-29/Topics/COHERENCEmodels9.state'\n",
      "WARNING:root:random_state not set so using default value\n",
      "WARNING:root:failed to load state from models/2021-07-30/Topics/COHERENCEmodels2.state: [Errno 2] No such file or directory: 'models/2021-07-30/Topics/COHERENCEmodels2.state'\n"
     ]
    },
    {
     "name": "stdout",
     "output_type": "stream",
     "text": [
      "Now loading 2021-07-30\n"
     ]
    },
    {
     "name": "stderr",
     "output_type": "stream",
     "text": [
      "WARNING:root:random_state not set so using default value\n",
      "WARNING:root:failed to load state from models/2021-07-30/Topics/COHERENCEmodels3.state: [Errno 2] No such file or directory: 'models/2021-07-30/Topics/COHERENCEmodels3.state'\n",
      "WARNING:root:random_state not set so using default value\n",
      "WARNING:root:failed to load state from models/2021-07-30/Topics/COHERENCEmodels4.state: [Errno 2] No such file or directory: 'models/2021-07-30/Topics/COHERENCEmodels4.state'\n",
      "WARNING:root:random_state not set so using default value\n",
      "WARNING:root:failed to load state from models/2021-07-30/Topics/COHERENCEmodels5.state: [Errno 2] No such file or directory: 'models/2021-07-30/Topics/COHERENCEmodels5.state'\n",
      "WARNING:root:random_state not set so using default value\n",
      "WARNING:root:failed to load state from models/2021-07-30/Topics/COHERENCEmodels6.state: [Errno 2] No such file or directory: 'models/2021-07-30/Topics/COHERENCEmodels6.state'\n",
      "WARNING:root:random_state not set so using default value\n",
      "WARNING:root:failed to load state from models/2021-07-30/Topics/COHERENCEmodels7.state: [Errno 2] No such file or directory: 'models/2021-07-30/Topics/COHERENCEmodels7.state'\n",
      "WARNING:root:random_state not set so using default value\n",
      "WARNING:root:failed to load state from models/2021-07-30/Topics/COHERENCEmodels8.state: [Errno 2] No such file or directory: 'models/2021-07-30/Topics/COHERENCEmodels8.state'\n",
      "WARNING:root:random_state not set so using default value\n",
      "WARNING:root:failed to load state from models/2021-07-30/Topics/COHERENCEmodels9.state: [Errno 2] No such file or directory: 'models/2021-07-30/Topics/COHERENCEmodels9.state'\n",
      "WARNING:root:random_state not set so using default value\n",
      "WARNING:root:failed to load state from models/2021-07-31/Topics/COHERENCEmodels2.state: [Errno 2] No such file or directory: 'models/2021-07-31/Topics/COHERENCEmodels2.state'\n"
     ]
    },
    {
     "name": "stdout",
     "output_type": "stream",
     "text": [
      "Now loading 2021-07-31\n"
     ]
    },
    {
     "name": "stderr",
     "output_type": "stream",
     "text": [
      "WARNING:root:random_state not set so using default value\n",
      "WARNING:root:failed to load state from models/2021-07-31/Topics/COHERENCEmodels3.state: [Errno 2] No such file or directory: 'models/2021-07-31/Topics/COHERENCEmodels3.state'\n",
      "WARNING:root:random_state not set so using default value\n",
      "WARNING:root:failed to load state from models/2021-07-31/Topics/COHERENCEmodels4.state: [Errno 2] No such file or directory: 'models/2021-07-31/Topics/COHERENCEmodels4.state'\n",
      "WARNING:root:random_state not set so using default value\n",
      "WARNING:root:failed to load state from models/2021-07-31/Topics/COHERENCEmodels5.state: [Errno 2] No such file or directory: 'models/2021-07-31/Topics/COHERENCEmodels5.state'\n",
      "WARNING:root:random_state not set so using default value\n",
      "WARNING:root:failed to load state from models/2021-07-31/Topics/COHERENCEmodels6.state: [Errno 2] No such file or directory: 'models/2021-07-31/Topics/COHERENCEmodels6.state'\n",
      "WARNING:root:random_state not set so using default value\n",
      "WARNING:root:failed to load state from models/2021-07-31/Topics/COHERENCEmodels7.state: [Errno 2] No such file or directory: 'models/2021-07-31/Topics/COHERENCEmodels7.state'\n",
      "WARNING:root:random_state not set so using default value\n",
      "WARNING:root:failed to load state from models/2021-07-31/Topics/COHERENCEmodels8.state: [Errno 2] No such file or directory: 'models/2021-07-31/Topics/COHERENCEmodels8.state'\n",
      "WARNING:root:random_state not set so using default value\n",
      "WARNING:root:failed to load state from models/2021-07-31/Topics/COHERENCEmodels9.state: [Errno 2] No such file or directory: 'models/2021-07-31/Topics/COHERENCEmodels9.state'\n",
      "WARNING:root:random_state not set so using default value\n",
      "WARNING:root:failed to load state from models/2021-08-01/Topics/COHERENCEmodels2.state: [Errno 2] No such file or directory: 'models/2021-08-01/Topics/COHERENCEmodels2.state'\n"
     ]
    },
    {
     "name": "stdout",
     "output_type": "stream",
     "text": [
      "Now loading 2021-08-01\n"
     ]
    },
    {
     "name": "stderr",
     "output_type": "stream",
     "text": [
      "WARNING:root:random_state not set so using default value\n",
      "WARNING:root:failed to load state from models/2021-08-01/Topics/COHERENCEmodels3.state: [Errno 2] No such file or directory: 'models/2021-08-01/Topics/COHERENCEmodels3.state'\n",
      "WARNING:root:random_state not set so using default value\n",
      "WARNING:root:failed to load state from models/2021-08-01/Topics/COHERENCEmodels4.state: [Errno 2] No such file or directory: 'models/2021-08-01/Topics/COHERENCEmodels4.state'\n",
      "WARNING:root:random_state not set so using default value\n",
      "WARNING:root:failed to load state from models/2021-08-01/Topics/COHERENCEmodels5.state: [Errno 2] No such file or directory: 'models/2021-08-01/Topics/COHERENCEmodels5.state'\n",
      "WARNING:root:random_state not set so using default value\n",
      "WARNING:root:failed to load state from models/2021-08-01/Topics/COHERENCEmodels6.state: [Errno 2] No such file or directory: 'models/2021-08-01/Topics/COHERENCEmodels6.state'\n",
      "WARNING:root:random_state not set so using default value\n",
      "WARNING:root:failed to load state from models/2021-08-01/Topics/COHERENCEmodels7.state: [Errno 2] No such file or directory: 'models/2021-08-01/Topics/COHERENCEmodels7.state'\n",
      "WARNING:root:random_state not set so using default value\n",
      "WARNING:root:failed to load state from models/2021-08-01/Topics/COHERENCEmodels8.state: [Errno 2] No such file or directory: 'models/2021-08-01/Topics/COHERENCEmodels8.state'\n",
      "WARNING:root:random_state not set so using default value\n",
      "WARNING:root:failed to load state from models/2021-08-01/Topics/COHERENCEmodels9.state: [Errno 2] No such file or directory: 'models/2021-08-01/Topics/COHERENCEmodels9.state'\n",
      "WARNING:root:random_state not set so using default value\n",
      "WARNING:root:failed to load state from models/2021-08-02/Topics/COHERENCEmodels2.state: [Errno 2] No such file or directory: 'models/2021-08-02/Topics/COHERENCEmodels2.state'\n"
     ]
    },
    {
     "name": "stdout",
     "output_type": "stream",
     "text": [
      "Now loading 2021-08-02\n"
     ]
    },
    {
     "name": "stderr",
     "output_type": "stream",
     "text": [
      "WARNING:root:random_state not set so using default value\n",
      "WARNING:root:failed to load state from models/2021-08-02/Topics/COHERENCEmodels3.state: [Errno 2] No such file or directory: 'models/2021-08-02/Topics/COHERENCEmodels3.state'\n",
      "WARNING:root:random_state not set so using default value\n",
      "WARNING:root:failed to load state from models/2021-08-02/Topics/COHERENCEmodels4.state: [Errno 2] No such file or directory: 'models/2021-08-02/Topics/COHERENCEmodels4.state'\n",
      "WARNING:root:random_state not set so using default value\n",
      "WARNING:root:failed to load state from models/2021-08-02/Topics/COHERENCEmodels5.state: [Errno 2] No such file or directory: 'models/2021-08-02/Topics/COHERENCEmodels5.state'\n",
      "WARNING:root:random_state not set so using default value\n",
      "WARNING:root:failed to load state from models/2021-08-02/Topics/COHERENCEmodels6.state: [Errno 2] No such file or directory: 'models/2021-08-02/Topics/COHERENCEmodels6.state'\n",
      "WARNING:root:random_state not set so using default value\n",
      "WARNING:root:failed to load state from models/2021-08-02/Topics/COHERENCEmodels7.state: [Errno 2] No such file or directory: 'models/2021-08-02/Topics/COHERENCEmodels7.state'\n",
      "WARNING:root:random_state not set so using default value\n",
      "WARNING:root:failed to load state from models/2021-08-02/Topics/COHERENCEmodels8.state: [Errno 2] No such file or directory: 'models/2021-08-02/Topics/COHERENCEmodels8.state'\n",
      "WARNING:root:random_state not set so using default value\n",
      "WARNING:root:failed to load state from models/2021-08-02/Topics/COHERENCEmodels9.state: [Errno 2] No such file or directory: 'models/2021-08-02/Topics/COHERENCEmodels9.state'\n",
      "WARNING:root:random_state not set so using default value\n",
      "WARNING:root:failed to load state from models/2021-08-03/Topics/COHERENCEmodels2.state: [Errno 2] No such file or directory: 'models/2021-08-03/Topics/COHERENCEmodels2.state'\n"
     ]
    },
    {
     "name": "stdout",
     "output_type": "stream",
     "text": [
      "Now loading 2021-08-03\n"
     ]
    },
    {
     "name": "stderr",
     "output_type": "stream",
     "text": [
      "WARNING:root:random_state not set so using default value\n",
      "WARNING:root:failed to load state from models/2021-08-03/Topics/COHERENCEmodels3.state: [Errno 2] No such file or directory: 'models/2021-08-03/Topics/COHERENCEmodels3.state'\n",
      "WARNING:root:random_state not set so using default value\n",
      "WARNING:root:failed to load state from models/2021-08-03/Topics/COHERENCEmodels4.state: [Errno 2] No such file or directory: 'models/2021-08-03/Topics/COHERENCEmodels4.state'\n",
      "WARNING:root:random_state not set so using default value\n",
      "WARNING:root:failed to load state from models/2021-08-03/Topics/COHERENCEmodels5.state: [Errno 2] No such file or directory: 'models/2021-08-03/Topics/COHERENCEmodels5.state'\n",
      "WARNING:root:random_state not set so using default value\n",
      "WARNING:root:failed to load state from models/2021-08-03/Topics/COHERENCEmodels6.state: [Errno 2] No such file or directory: 'models/2021-08-03/Topics/COHERENCEmodels6.state'\n",
      "WARNING:root:random_state not set so using default value\n",
      "WARNING:root:failed to load state from models/2021-08-03/Topics/COHERENCEmodels7.state: [Errno 2] No such file or directory: 'models/2021-08-03/Topics/COHERENCEmodels7.state'\n",
      "WARNING:root:random_state not set so using default value\n",
      "WARNING:root:failed to load state from models/2021-08-03/Topics/COHERENCEmodels8.state: [Errno 2] No such file or directory: 'models/2021-08-03/Topics/COHERENCEmodels8.state'\n",
      "WARNING:root:random_state not set so using default value\n",
      "WARNING:root:failed to load state from models/2021-08-03/Topics/COHERENCEmodels9.state: [Errno 2] No such file or directory: 'models/2021-08-03/Topics/COHERENCEmodels9.state'\n",
      "WARNING:root:random_state not set so using default value\n",
      "WARNING:root:failed to load state from models/2021-08-04/Topics/COHERENCEmodels2.state: [Errno 2] No such file or directory: 'models/2021-08-04/Topics/COHERENCEmodels2.state'\n"
     ]
    },
    {
     "name": "stdout",
     "output_type": "stream",
     "text": [
      "Now loading 2021-08-04\n"
     ]
    },
    {
     "name": "stderr",
     "output_type": "stream",
     "text": [
      "WARNING:root:random_state not set so using default value\n",
      "WARNING:root:failed to load state from models/2021-08-04/Topics/COHERENCEmodels3.state: [Errno 2] No such file or directory: 'models/2021-08-04/Topics/COHERENCEmodels3.state'\n",
      "WARNING:root:random_state not set so using default value\n",
      "WARNING:root:failed to load state from models/2021-08-04/Topics/COHERENCEmodels4.state: [Errno 2] No such file or directory: 'models/2021-08-04/Topics/COHERENCEmodels4.state'\n",
      "WARNING:root:random_state not set so using default value\n",
      "WARNING:root:failed to load state from models/2021-08-04/Topics/COHERENCEmodels5.state: [Errno 2] No such file or directory: 'models/2021-08-04/Topics/COHERENCEmodels5.state'\n",
      "WARNING:root:random_state not set so using default value\n",
      "WARNING:root:failed to load state from models/2021-08-04/Topics/COHERENCEmodels6.state: [Errno 2] No such file or directory: 'models/2021-08-04/Topics/COHERENCEmodels6.state'\n",
      "WARNING:root:random_state not set so using default value\n",
      "WARNING:root:failed to load state from models/2021-08-04/Topics/COHERENCEmodels7.state: [Errno 2] No such file or directory: 'models/2021-08-04/Topics/COHERENCEmodels7.state'\n",
      "WARNING:root:random_state not set so using default value\n",
      "WARNING:root:failed to load state from models/2021-08-04/Topics/COHERENCEmodels8.state: [Errno 2] No such file or directory: 'models/2021-08-04/Topics/COHERENCEmodels8.state'\n",
      "WARNING:root:random_state not set so using default value\n",
      "WARNING:root:failed to load state from models/2021-08-04/Topics/COHERENCEmodels9.state: [Errno 2] No such file or directory: 'models/2021-08-04/Topics/COHERENCEmodels9.state'\n",
      "WARNING:root:random_state not set so using default value\n",
      "WARNING:root:failed to load state from models/2021-08-05/Topics/COHERENCEmodels2.state: [Errno 2] No such file or directory: 'models/2021-08-05/Topics/COHERENCEmodels2.state'\n"
     ]
    },
    {
     "name": "stdout",
     "output_type": "stream",
     "text": [
      "Now loading 2021-08-05\n"
     ]
    },
    {
     "name": "stderr",
     "output_type": "stream",
     "text": [
      "WARNING:root:random_state not set so using default value\n",
      "WARNING:root:failed to load state from models/2021-08-05/Topics/COHERENCEmodels3.state: [Errno 2] No such file or directory: 'models/2021-08-05/Topics/COHERENCEmodels3.state'\n",
      "WARNING:root:random_state not set so using default value\n",
      "WARNING:root:failed to load state from models/2021-08-05/Topics/COHERENCEmodels4.state: [Errno 2] No such file or directory: 'models/2021-08-05/Topics/COHERENCEmodels4.state'\n",
      "WARNING:root:random_state not set so using default value\n",
      "WARNING:root:failed to load state from models/2021-08-05/Topics/COHERENCEmodels5.state: [Errno 2] No such file or directory: 'models/2021-08-05/Topics/COHERENCEmodels5.state'\n",
      "WARNING:root:random_state not set so using default value\n",
      "WARNING:root:failed to load state from models/2021-08-05/Topics/COHERENCEmodels6.state: [Errno 2] No such file or directory: 'models/2021-08-05/Topics/COHERENCEmodels6.state'\n",
      "WARNING:root:random_state not set so using default value\n",
      "WARNING:root:failed to load state from models/2021-08-05/Topics/COHERENCEmodels7.state: [Errno 2] No such file or directory: 'models/2021-08-05/Topics/COHERENCEmodels7.state'\n",
      "WARNING:root:random_state not set so using default value\n",
      "WARNING:root:failed to load state from models/2021-08-05/Topics/COHERENCEmodels8.state: [Errno 2] No such file or directory: 'models/2021-08-05/Topics/COHERENCEmodels8.state'\n",
      "WARNING:root:random_state not set so using default value\n",
      "WARNING:root:failed to load state from models/2021-08-05/Topics/COHERENCEmodels9.state: [Errno 2] No such file or directory: 'models/2021-08-05/Topics/COHERENCEmodels9.state'\n",
      "WARNING:root:random_state not set so using default value\n",
      "WARNING:root:failed to load state from models/2021-08-06/Topics/COHERENCEmodels2.state: [Errno 2] No such file or directory: 'models/2021-08-06/Topics/COHERENCEmodels2.state'\n"
     ]
    },
    {
     "name": "stdout",
     "output_type": "stream",
     "text": [
      "Now loading 2021-08-06\n"
     ]
    },
    {
     "name": "stderr",
     "output_type": "stream",
     "text": [
      "WARNING:root:random_state not set so using default value\n",
      "WARNING:root:failed to load state from models/2021-08-06/Topics/COHERENCEmodels3.state: [Errno 2] No such file or directory: 'models/2021-08-06/Topics/COHERENCEmodels3.state'\n",
      "WARNING:root:random_state not set so using default value\n",
      "WARNING:root:failed to load state from models/2021-08-06/Topics/COHERENCEmodels4.state: [Errno 2] No such file or directory: 'models/2021-08-06/Topics/COHERENCEmodels4.state'\n",
      "WARNING:root:random_state not set so using default value\n",
      "WARNING:root:failed to load state from models/2021-08-06/Topics/COHERENCEmodels5.state: [Errno 2] No such file or directory: 'models/2021-08-06/Topics/COHERENCEmodels5.state'\n",
      "WARNING:root:random_state not set so using default value\n",
      "WARNING:root:failed to load state from models/2021-08-06/Topics/COHERENCEmodels6.state: [Errno 2] No such file or directory: 'models/2021-08-06/Topics/COHERENCEmodels6.state'\n",
      "WARNING:root:random_state not set so using default value\n",
      "WARNING:root:failed to load state from models/2021-08-06/Topics/COHERENCEmodels7.state: [Errno 2] No such file or directory: 'models/2021-08-06/Topics/COHERENCEmodels7.state'\n",
      "WARNING:root:random_state not set so using default value\n",
      "WARNING:root:failed to load state from models/2021-08-06/Topics/COHERENCEmodels8.state: [Errno 2] No such file or directory: 'models/2021-08-06/Topics/COHERENCEmodels8.state'\n",
      "WARNING:root:random_state not set so using default value\n",
      "WARNING:root:failed to load state from models/2021-08-06/Topics/COHERENCEmodels9.state: [Errno 2] No such file or directory: 'models/2021-08-06/Topics/COHERENCEmodels9.state'\n",
      "WARNING:root:random_state not set so using default value\n",
      "WARNING:root:failed to load state from models/2021-08-07/Topics/COHERENCEmodels2.state: [Errno 2] No such file or directory: 'models/2021-08-07/Topics/COHERENCEmodels2.state'\n"
     ]
    },
    {
     "name": "stdout",
     "output_type": "stream",
     "text": [
      "Now loading 2021-08-07\n"
     ]
    },
    {
     "name": "stderr",
     "output_type": "stream",
     "text": [
      "WARNING:root:random_state not set so using default value\n",
      "WARNING:root:failed to load state from models/2021-08-07/Topics/COHERENCEmodels3.state: [Errno 2] No such file or directory: 'models/2021-08-07/Topics/COHERENCEmodels3.state'\n",
      "WARNING:root:random_state not set so using default value\n",
      "WARNING:root:failed to load state from models/2021-08-07/Topics/COHERENCEmodels4.state: [Errno 2] No such file or directory: 'models/2021-08-07/Topics/COHERENCEmodels4.state'\n",
      "WARNING:root:random_state not set so using default value\n",
      "WARNING:root:failed to load state from models/2021-08-07/Topics/COHERENCEmodels5.state: [Errno 2] No such file or directory: 'models/2021-08-07/Topics/COHERENCEmodels5.state'\n",
      "WARNING:root:random_state not set so using default value\n",
      "WARNING:root:failed to load state from models/2021-08-07/Topics/COHERENCEmodels6.state: [Errno 2] No such file or directory: 'models/2021-08-07/Topics/COHERENCEmodels6.state'\n",
      "WARNING:root:random_state not set so using default value\n",
      "WARNING:root:failed to load state from models/2021-08-07/Topics/COHERENCEmodels7.state: [Errno 2] No such file or directory: 'models/2021-08-07/Topics/COHERENCEmodels7.state'\n",
      "WARNING:root:random_state not set so using default value\n",
      "WARNING:root:failed to load state from models/2021-08-07/Topics/COHERENCEmodels8.state: [Errno 2] No such file or directory: 'models/2021-08-07/Topics/COHERENCEmodels8.state'\n",
      "WARNING:root:random_state not set so using default value\n",
      "WARNING:root:failed to load state from models/2021-08-07/Topics/COHERENCEmodels9.state: [Errno 2] No such file or directory: 'models/2021-08-07/Topics/COHERENCEmodels9.state'\n",
      "WARNING:root:random_state not set so using default value\n",
      "WARNING:root:failed to load state from models/2021-08-08/Topics/COHERENCEmodels2.state: [Errno 2] No such file or directory: 'models/2021-08-08/Topics/COHERENCEmodels2.state'\n"
     ]
    },
    {
     "name": "stdout",
     "output_type": "stream",
     "text": [
      "Now loading 2021-08-08\n"
     ]
    },
    {
     "name": "stderr",
     "output_type": "stream",
     "text": [
      "WARNING:root:random_state not set so using default value\n",
      "WARNING:root:failed to load state from models/2021-08-08/Topics/COHERENCEmodels3.state: [Errno 2] No such file or directory: 'models/2021-08-08/Topics/COHERENCEmodels3.state'\n",
      "WARNING:root:random_state not set so using default value\n",
      "WARNING:root:failed to load state from models/2021-08-08/Topics/COHERENCEmodels4.state: [Errno 2] No such file or directory: 'models/2021-08-08/Topics/COHERENCEmodels4.state'\n",
      "WARNING:root:random_state not set so using default value\n",
      "WARNING:root:failed to load state from models/2021-08-08/Topics/COHERENCEmodels5.state: [Errno 2] No such file or directory: 'models/2021-08-08/Topics/COHERENCEmodels5.state'\n",
      "WARNING:root:random_state not set so using default value\n",
      "WARNING:root:failed to load state from models/2021-08-08/Topics/COHERENCEmodels6.state: [Errno 2] No such file or directory: 'models/2021-08-08/Topics/COHERENCEmodels6.state'\n",
      "WARNING:root:random_state not set so using default value\n",
      "WARNING:root:failed to load state from models/2021-08-08/Topics/COHERENCEmodels7.state: [Errno 2] No such file or directory: 'models/2021-08-08/Topics/COHERENCEmodels7.state'\n",
      "WARNING:root:random_state not set so using default value\n",
      "WARNING:root:failed to load state from models/2021-08-08/Topics/COHERENCEmodels8.state: [Errno 2] No such file or directory: 'models/2021-08-08/Topics/COHERENCEmodels8.state'\n",
      "WARNING:root:random_state not set so using default value\n",
      "WARNING:root:failed to load state from models/2021-08-08/Topics/COHERENCEmodels9.state: [Errno 2] No such file or directory: 'models/2021-08-08/Topics/COHERENCEmodels9.state'\n",
      "WARNING:root:random_state not set so using default value\n",
      "WARNING:root:failed to load state from models/2021-08-09/Topics/COHERENCEmodels2.state: [Errno 2] No such file or directory: 'models/2021-08-09/Topics/COHERENCEmodels2.state'\n"
     ]
    },
    {
     "name": "stdout",
     "output_type": "stream",
     "text": [
      "Now loading 2021-08-09\n"
     ]
    },
    {
     "name": "stderr",
     "output_type": "stream",
     "text": [
      "WARNING:root:random_state not set so using default value\n",
      "WARNING:root:failed to load state from models/2021-08-09/Topics/COHERENCEmodels3.state: [Errno 2] No such file or directory: 'models/2021-08-09/Topics/COHERENCEmodels3.state'\n",
      "WARNING:root:random_state not set so using default value\n",
      "WARNING:root:failed to load state from models/2021-08-09/Topics/COHERENCEmodels4.state: [Errno 2] No such file or directory: 'models/2021-08-09/Topics/COHERENCEmodels4.state'\n",
      "WARNING:root:random_state not set so using default value\n",
      "WARNING:root:failed to load state from models/2021-08-09/Topics/COHERENCEmodels5.state: [Errno 2] No such file or directory: 'models/2021-08-09/Topics/COHERENCEmodels5.state'\n",
      "WARNING:root:random_state not set so using default value\n",
      "WARNING:root:failed to load state from models/2021-08-09/Topics/COHERENCEmodels6.state: [Errno 2] No such file or directory: 'models/2021-08-09/Topics/COHERENCEmodels6.state'\n",
      "WARNING:root:random_state not set so using default value\n",
      "WARNING:root:failed to load state from models/2021-08-09/Topics/COHERENCEmodels7.state: [Errno 2] No such file or directory: 'models/2021-08-09/Topics/COHERENCEmodels7.state'\n",
      "WARNING:root:random_state not set so using default value\n",
      "WARNING:root:failed to load state from models/2021-08-09/Topics/COHERENCEmodels8.state: [Errno 2] No such file or directory: 'models/2021-08-09/Topics/COHERENCEmodels8.state'\n",
      "WARNING:root:random_state not set so using default value\n",
      "WARNING:root:failed to load state from models/2021-08-09/Topics/COHERENCEmodels9.state: [Errno 2] No such file or directory: 'models/2021-08-09/Topics/COHERENCEmodels9.state'\n",
      "WARNING:root:random_state not set so using default value\n",
      "WARNING:root:failed to load state from models/2021-08-10/Topics/COHERENCEmodels2.state: [Errno 2] No such file or directory: 'models/2021-08-10/Topics/COHERENCEmodels2.state'\n"
     ]
    },
    {
     "name": "stdout",
     "output_type": "stream",
     "text": [
      "Now loading 2021-08-10\n"
     ]
    },
    {
     "name": "stderr",
     "output_type": "stream",
     "text": [
      "WARNING:root:random_state not set so using default value\n",
      "WARNING:root:failed to load state from models/2021-08-10/Topics/COHERENCEmodels3.state: [Errno 2] No such file or directory: 'models/2021-08-10/Topics/COHERENCEmodels3.state'\n",
      "WARNING:root:random_state not set so using default value\n",
      "WARNING:root:failed to load state from models/2021-08-10/Topics/COHERENCEmodels4.state: [Errno 2] No such file or directory: 'models/2021-08-10/Topics/COHERENCEmodels4.state'\n",
      "WARNING:root:random_state not set so using default value\n",
      "WARNING:root:failed to load state from models/2021-08-10/Topics/COHERENCEmodels5.state: [Errno 2] No such file or directory: 'models/2021-08-10/Topics/COHERENCEmodels5.state'\n",
      "WARNING:root:random_state not set so using default value\n",
      "WARNING:root:failed to load state from models/2021-08-10/Topics/COHERENCEmodels6.state: [Errno 2] No such file or directory: 'models/2021-08-10/Topics/COHERENCEmodels6.state'\n",
      "WARNING:root:random_state not set so using default value\n",
      "WARNING:root:failed to load state from models/2021-08-10/Topics/COHERENCEmodels7.state: [Errno 2] No such file or directory: 'models/2021-08-10/Topics/COHERENCEmodels7.state'\n",
      "WARNING:root:random_state not set so using default value\n",
      "WARNING:root:failed to load state from models/2021-08-10/Topics/COHERENCEmodels8.state: [Errno 2] No such file or directory: 'models/2021-08-10/Topics/COHERENCEmodels8.state'\n",
      "WARNING:root:random_state not set so using default value\n",
      "WARNING:root:failed to load state from models/2021-08-10/Topics/COHERENCEmodels9.state: [Errno 2] No such file or directory: 'models/2021-08-10/Topics/COHERENCEmodels9.state'\n"
     ]
    },
    {
     "name": "stdout",
     "output_type": "stream",
     "text": [
      "Now loading 2021-08-11\n"
     ]
    }
   ],
   "source": [
    "model_list_dict = {}\n",
    "coherence_values_dict = {}\n",
    "for i in date_range:\n",
    "    date = i.strftime('%Y-%m-%d')\n",
    "    print(\"Now loading \"+date)\n",
    "    ldamodel_path = 'models/' + i.strftime(date) +'/LDAmodels'\n",
    "    if exists(ldamodel_path)==False:\n",
    "        continue\n",
    "    model_list, coherence_values = load_coherence_values(date=date,\n",
    "                                                            dictionary=dictionary_dict[date], \n",
    "                                                            corpus=corpus_vect_dict[date],\n",
    "                                                            texts=processed_tweets_dict[date],\n",
    "                                                            start=2,\n",
    "                                                            limit=10)\n",
    "    model_list_dict[date] = model_list\n",
    "    coherence_values_dict[date] = coherence_values"
   ]
  },
  {
   "cell_type": "code",
   "execution_count": 53,
   "id": "5ce03403",
   "metadata": {},
   "outputs": [
    {
     "data": {
      "text/plain": [
       "[0.4290642874804169,\n",
       " 0.4494247192258696,\n",
       " 0.42201354696571364,\n",
       " 0.40282619973407285,\n",
       " 0.3781367605557146,\n",
       " 0.3618345111448515,\n",
       " 0.36093638156941077,\n",
       " 0.38284051537271396]"
      ]
     },
     "execution_count": 53,
     "metadata": {},
     "output_type": "execute_result"
    }
   ],
   "source": [
    "coherence_values_dict[\"2021-07-21\"]"
   ]
  },
  {
   "cell_type": "code",
   "execution_count": 54,
   "id": "1b372d04",
   "metadata": {},
   "outputs": [
    {
     "data": {
      "image/png": "[encoded data removed]",
      "text/plain": [
       "<Figure size 432x288 with 1 Axes>"
      ]
     },
     "metadata": {
      "needs_background": "light"
     },
     "output_type": "display_data"
    }
   ],
   "source": [
    "# # # Show graph for example\n",
    "import matplotlib.pyplot as plt\n",
    "limit=10; start=2; step=1;\n",
    "x = range(start, limit, step)\n",
    "plt.plot(x, coherence_values_dict[\"2021-07-31\"])\n",
    "plt.xlabel(\"Num Topics\")\n",
    "plt.ylabel(\"Coherence score\")\n",
    "plt.legend((\"coherence_values\"), loc='best')\n",
    "plt.show()"
   ]
  },
  {
   "cell_type": "code",
   "execution_count": 55,
   "id": "a88993d8",
   "metadata": {},
   "outputs": [],
   "source": [
    "#save best topic number for each date\n",
    "def decide_best_topic_num(date):\n",
    "    best_coh = 0\n",
    "    for i in range(0, 8):\n",
    "        if best_coh < coherence_values_dict[date][i]:\n",
    "            best_num = i+2\n",
    "            best_coh = coherence_values_dict[date][i]\n",
    "    return best_num, best_coh"
   ]
  },
  {
   "cell_type": "code",
   "execution_count": 56,
   "id": "0e52d60f",
   "metadata": {},
   "outputs": [
    {
     "name": "stdout",
     "output_type": "stream",
     "text": [
      "(4, 0.4973773497848931)\n",
      "LdaModel(num_terms=105, num_topics=4, decay=0.5, chunksize=2000)\n"
     ]
    }
   ],
   "source": [
    "#pick best ldamodel with certain topic number\n",
    "best_ldamodel_dict = {}\n",
    "for i in date_range:\n",
    "    date = i.strftime('%Y-%m-%d')\n",
    "    ldamodel_path = 'models/' + i.strftime(date) +'/LDAmodels'\n",
    "    if exists(ldamodel_path)==False:\n",
    "        continue\n",
    "    best_topic_num, best_coh = decide_best_topic_num(date)\n",
    "    best_ldamodel_path = 'models/' + date +'/Topics/LDAmodels'+str(best_topic_num)\n",
    "    best_ldamodel_dict[date] = models.ldamodel.LdaModel.load(best_ldamodel_path)\n",
    "#example\n",
    "print(decide_best_topic_num(\"2021-07-31\"))\n",
    "print(best_ldamodel_dict[\"2021-07-31\"])"
   ]
  },
  {
   "cell_type": "markdown",
   "id": "17b2b866",
   "metadata": {},
   "source": [
    "### Visualize Topics"
   ]
  },
  {
   "cell_type": "code",
   "execution_count": 57,
   "id": "ba7562cf",
   "metadata": {},
   "outputs": [],
   "source": [
    "#!pip install pyLDAvis\n",
    "import gensim\n",
    "import pickle \n",
    "import pyLDAvis\n",
    "import pyLDAvis.gensim_models\n",
    "\n",
    "# Visualize the topics\n",
    "pyLDAvis.enable_notebook()\n",
    "date = \"2021-08-05\"\n",
    "LDAvis_prepared = pyLDAvis.gensim_models.prepare(best_ldamodel_dict[date], corpus_vect_dict[date], dictionary_dict[date])\n",
    "LDAvis_prepared\n",
    "pyLDAvis.save_html(LDAvis_prepared, 'example_topic_visualize.html')"
   ]
  },
  {
   "cell_type": "markdown",
   "id": "cdaa52aa",
   "metadata": {},
   "source": [
    "### General Word Cloud"
   ]
  },
  {
   "cell_type": "code",
   "execution_count": 58,
   "id": "de4de8b8",
   "metadata": {},
   "outputs": [
    {
     "data": {
      "image/png": "[encoded data removed]",
      "text/plain": [
       "<PIL.Image.Image image mode=RGB size=400x200 at 0x2B5DA2C47C40>"
      ]
     },
     "execution_count": 58,
     "metadata": {},
     "output_type": "execute_result"
    },
    {
     "name": "stderr",
     "output_type": "stream",
     "text": [
      "/home1/07144/yw23374/miniconda3/envs/tokyo/lib/python3.8/site-packages/past/builtins/misc.py:45: DeprecationWarning: the imp module is deprecated in favour of importlib; see the module's documentation for alternative uses\n",
      "  from imp import reload\n",
      "/home1/07144/yw23374/miniconda3/envs/tokyo/lib/python3.8/site-packages/past/builtins/misc.py:45: DeprecationWarning: the imp module is deprecated in favour of importlib; see the module's documentation for alternative uses\n",
      "  from imp import reload\n",
      "/home1/07144/yw23374/miniconda3/envs/tokyo/lib/python3.8/site-packages/past/builtins/misc.py:45: DeprecationWarning: the imp module is deprecated in favour of importlib; see the module's documentation for alternative uses\n",
      "  from imp import reload\n",
      "/home1/07144/yw23374/miniconda3/envs/tokyo/lib/python3.8/site-packages/past/builtins/misc.py:45: DeprecationWarning: the imp module is deprecated in favour of importlib; see the module's documentation for alternative uses\n",
      "  from imp import reload\n",
      "/home1/07144/yw23374/miniconda3/envs/tokyo/lib/python3.8/site-packages/past/builtins/misc.py:45: DeprecationWarning: the imp module is deprecated in favour of importlib; see the module's documentation for alternative uses\n",
      "  from imp import reload\n"
     ]
    }
   ],
   "source": [
    "# Import the wordcloud library\n",
    "#!pip install WordCloud\n",
    "from wordcloud import WordCloud\n",
    "# Join the different processed titles together.\n",
    "long_string = (',').join(map(str, processed_tweets_dict[\"2021-07-31\"]))\n",
    "# Create a WordCloud object\n",
    "wordcloud = WordCloud(background_color=\"white\", max_words=5000, contour_width=3, contour_color='steelblue')\n",
    "# Generate a word cloud\n",
    "wordcloud.generate(long_string)\n",
    "# Visualize the word cloud\n",
    "wordcloud.to_image()"
   ]
  },
  {
   "cell_type": "code",
   "execution_count": null,
   "id": "262434a0",
   "metadata": {},
   "outputs": [],
   "source": []
  }
 ],
 "metadata": {
  "kernelspec": {
   "display_name": "Python 3 (ipykernel)",
   "language": "python",
   "name": "python3"
  },
  "language_info": {
   "codemirror_mode": {
    "name": "ipython",
    "version": 3
   },
   "file_extension": ".py",
   "mimetype": "text/x-python",
   "name": "python",
   "nbconvert_exporter": "python",
   "pygments_lexer": "ipython3",
   "version": "3.8.2"
  }
 },
 "nbformat": 4,
 "nbformat_minor": 5
}
