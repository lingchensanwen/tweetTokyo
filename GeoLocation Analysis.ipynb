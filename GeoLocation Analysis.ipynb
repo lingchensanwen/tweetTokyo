{
 "cells": [
  {
   "cell_type": "code",
   "execution_count": 1,
   "id": "f6a162be",
   "metadata": {},
   "outputs": [],
   "source": [
    "import tweepy\n",
    "import pandas as pd\n",
    "import ast\n",
    "import nltk\n",
    "from nltk.corpus import brown\n",
    "from nltk import word_tokenize\n",
    "from tqdm import tqdm\n",
    "import time\n",
    "from nltk.probability import FreqDist\n",
    "import math\n",
    "import warnings;\n",
    "warnings.filterwarnings('ignore');"
   ]
  },
  {
   "cell_type": "code",
   "execution_count": 2,
   "id": "839b0790",
   "metadata": {},
   "outputs": [],
   "source": [
    "#Preprocessing\n",
    "# read date\n",
    "df = pd.read_csv('tweets_message_tokyo.csv', encoding = \"utf-8\")\n",
    "# drop rows which has at least one element to be Nan(drop 63562 here)\n",
    "df = df.dropna()\n",
    "#convert text to utf8\n",
    "df['text'] = df['text'].apply(lambda x: ast.literal_eval(x).decode('utf8'))\n",
    "# #sort df based on time\n",
    "# df_sort = df.sort_values(by=['time'])\n",
    "# df_sort"
   ]
  },
  {
   "cell_type": "code",
   "execution_count": 3,
   "id": "cf683bff",
   "metadata": {},
   "outputs": [
    {
     "data": {
      "text/html": [
       "<div>\n",
       "<style scoped>\n",
       "    .dataframe tbody tr th:only-of-type {\n",
       "        vertical-align: middle;\n",
       "    }\n",
       "\n",
       "    .dataframe tbody tr th {\n",
       "        vertical-align: top;\n",
       "    }\n",
       "\n",
       "    .dataframe thead th {\n",
       "        text-align: right;\n",
       "    }\n",
       "</style>\n",
       "<table border=\"1\" class=\"dataframe\">\n",
       "  <thead>\n",
       "    <tr style=\"text-align: right;\">\n",
       "      <th></th>\n",
       "      <th>Unnamed: 0</th>\n",
       "      <th>id</th>\n",
       "      <th>time</th>\n",
       "      <th>text</th>\n",
       "      <th>city_name</th>\n",
       "      <th>coordinates</th>\n",
       "      <th>place</th>\n",
       "    </tr>\n",
       "  </thead>\n",
       "  <tbody>\n",
       "    <tr>\n",
       "      <th>0</th>\n",
       "      <td>39424</td>\n",
       "      <td>1421259330838540295</td>\n",
       "      <td>2021-07-31 00:00:04+00:00</td>\n",
       "      <td>#TeamGB won #triathlon #Olympics2020 #Toyko2020</td>\n",
       "      <td>West Chester, OH</td>\n",
       "      <td>[[[-84.4832977, 39.2957423], [-84.346523, 39.2...</td>\n",
       "      <td>Place(_api=&lt;tweepy.api.API object at 0x2b23538...</td>\n",
       "    </tr>\n",
       "    <tr>\n",
       "      <th>1</th>\n",
       "      <td>17157</td>\n",
       "      <td>1421259710884417537</td>\n",
       "      <td>2021-07-31 00:01:35+00:00</td>\n",
       "      <td>Opposite ends of the athletic body type @laury...</td>\n",
       "      <td>Johnson City, TN</td>\n",
       "      <td>[[[-82.4759055, 36.2592231], [-82.300523, 36.2...</td>\n",
       "      <td>Place(_api=&lt;tweepy.api.API object at 0x2b23538...</td>\n",
       "    </tr>\n",
       "    <tr>\n",
       "      <th>2</th>\n",
       "      <td>39420</td>\n",
       "      <td>1421259737694445583</td>\n",
       "      <td>2021-07-31 00:01:41+00:00</td>\n",
       "      <td>@AnglingNArchery @USABaseball @TeamUSA @WBSC @...</td>\n",
       "      <td>Zanesville, OH</td>\n",
       "      <td>[[[-82.121534, 39.908312], [-81.976901, 39.908...</td>\n",
       "      <td>Place(_api=&lt;tweepy.api.API object at 0x2b23538...</td>\n",
       "    </tr>\n",
       "    <tr>\n",
       "      <th>3</th>\n",
       "      <td>30184</td>\n",
       "      <td>1421259768891576321</td>\n",
       "      <td>2021-07-31 00:01:49+00:00</td>\n",
       "      <td>It’s the Olympics. There are no weekends. See ...</td>\n",
       "      <td>New Canaan, CT</td>\n",
       "      <td>[[[-73.5537, 41.11369], [-73.4489288, 41.11369...</td>\n",
       "      <td>Place(_api=&lt;tweepy.api.API object at 0x2b23538...</td>\n",
       "    </tr>\n",
       "    <tr>\n",
       "      <th>4</th>\n",
       "      <td>54236</td>\n",
       "      <td>1421259812097171461</td>\n",
       "      <td>2021-07-31 00:01:59+00:00</td>\n",
       "      <td>@Timothy58100352 @USABaseball @TeamUSA @WBSC @...</td>\n",
       "      <td>Zanesville, OH</td>\n",
       "      <td>[[[-82.121534, 39.908312], [-81.976901, 39.908...</td>\n",
       "      <td>Place(_api=&lt;tweepy.api.API object at 0x2b23538...</td>\n",
       "    </tr>\n",
       "    <tr>\n",
       "      <th>...</th>\n",
       "      <td>...</td>\n",
       "      <td>...</td>\n",
       "      <td>...</td>\n",
       "      <td>...</td>\n",
       "      <td>...</td>\n",
       "      <td>...</td>\n",
       "      <td>...</td>\n",
       "    </tr>\n",
       "    <tr>\n",
       "      <th>2863</th>\n",
       "      <td>1656</td>\n",
       "      <td>1421621097166901248</td>\n",
       "      <td>2021-07-31 23:57:36+00:00</td>\n",
       "      <td>This was team USA where you get team lebron fr...</td>\n",
       "      <td>Nevada, USA</td>\n",
       "      <td>[[[-120.00574, 35.002086], [-114.039649, 35.00...</td>\n",
       "      <td>Place(_api=&lt;tweepy.api.API object at 0x2b23538...</td>\n",
       "    </tr>\n",
       "    <tr>\n",
       "      <th>2864</th>\n",
       "      <td>2139</td>\n",
       "      <td>1421621301656043520</td>\n",
       "      <td>2021-07-31 23:58:25+00:00</td>\n",
       "      <td>@ASoftstar If that's the human standard...no w...</td>\n",
       "      <td>Minneapolis, MN</td>\n",
       "      <td>[[[-93.329515, 44.889964], [-93.194578, 44.889...</td>\n",
       "      <td>Place(_api=&lt;tweepy.api.API object at 0x2b23538...</td>\n",
       "    </tr>\n",
       "    <tr>\n",
       "      <th>2865</th>\n",
       "      <td>6779</td>\n",
       "      <td>1421621505885188098</td>\n",
       "      <td>2021-07-31 23:59:14+00:00</td>\n",
       "      <td>Way to rep Ohio 🙌🇺🇸🥇🥈🥉🎖 https://t.co/KmgqPJVahc</td>\n",
       "      <td>Canal Fulton, OH</td>\n",
       "      <td>[[[-81.623096, 40.842646], [-81.536917, 40.842...</td>\n",
       "      <td>Place(_api=&lt;tweepy.api.API object at 0x2b23538...</td>\n",
       "    </tr>\n",
       "    <tr>\n",
       "      <th>2866</th>\n",
       "      <td>1395</td>\n",
       "      <td>1421621510578581507</td>\n",
       "      <td>2021-07-31 23:59:15+00:00</td>\n",
       "      <td>I’m loving the guys calling the men’s @usavoll...</td>\n",
       "      <td>Texas, USA</td>\n",
       "      <td>[[[-106.645646, 25.837092], [-93.508131, 25.83...</td>\n",
       "      <td>Place(_api=&lt;tweepy.api.API object at 0x2b23538...</td>\n",
       "    </tr>\n",
       "    <tr>\n",
       "      <th>2867</th>\n",
       "      <td>1404</td>\n",
       "      <td>1421621532527321091</td>\n",
       "      <td>2021-07-31 23:59:20+00:00</td>\n",
       "      <td>@JeremyBaker150 match this energy with women’s...</td>\n",
       "      <td>Missouri, USA</td>\n",
       "      <td>[[[-95.774704, 35.995476], [-89.098843, 35.995...</td>\n",
       "      <td>Place(_api=&lt;tweepy.api.API object at 0x2b23538...</td>\n",
       "    </tr>\n",
       "  </tbody>\n",
       "</table>\n",
       "<p>2868 rows × 7 columns</p>\n",
       "</div>"
      ],
      "text/plain": [
       "      Unnamed: 0                   id                       time  \\\n",
       "0          39424  1421259330838540295  2021-07-31 00:00:04+00:00   \n",
       "1          17157  1421259710884417537  2021-07-31 00:01:35+00:00   \n",
       "2          39420  1421259737694445583  2021-07-31 00:01:41+00:00   \n",
       "3          30184  1421259768891576321  2021-07-31 00:01:49+00:00   \n",
       "4          54236  1421259812097171461  2021-07-31 00:01:59+00:00   \n",
       "...          ...                  ...                        ...   \n",
       "2863        1656  1421621097166901248  2021-07-31 23:57:36+00:00   \n",
       "2864        2139  1421621301656043520  2021-07-31 23:58:25+00:00   \n",
       "2865        6779  1421621505885188098  2021-07-31 23:59:14+00:00   \n",
       "2866        1395  1421621510578581507  2021-07-31 23:59:15+00:00   \n",
       "2867        1404  1421621532527321091  2021-07-31 23:59:20+00:00   \n",
       "\n",
       "                                                   text         city_name  \\\n",
       "0       #TeamGB won #triathlon #Olympics2020 #Toyko2020  West Chester, OH   \n",
       "1     Opposite ends of the athletic body type @laury...  Johnson City, TN   \n",
       "2     @AnglingNArchery @USABaseball @TeamUSA @WBSC @...    Zanesville, OH   \n",
       "3     It’s the Olympics. There are no weekends. See ...    New Canaan, CT   \n",
       "4     @Timothy58100352 @USABaseball @TeamUSA @WBSC @...    Zanesville, OH   \n",
       "...                                                 ...               ...   \n",
       "2863  This was team USA where you get team lebron fr...       Nevada, USA   \n",
       "2864  @ASoftstar If that's the human standard...no w...   Minneapolis, MN   \n",
       "2865    Way to rep Ohio 🙌🇺🇸🥇🥈🥉🎖 https://t.co/KmgqPJVahc  Canal Fulton, OH   \n",
       "2866  I’m loving the guys calling the men’s @usavoll...        Texas, USA   \n",
       "2867  @JeremyBaker150 match this energy with women’s...     Missouri, USA   \n",
       "\n",
       "                                            coordinates  \\\n",
       "0     [[[-84.4832977, 39.2957423], [-84.346523, 39.2...   \n",
       "1     [[[-82.4759055, 36.2592231], [-82.300523, 36.2...   \n",
       "2     [[[-82.121534, 39.908312], [-81.976901, 39.908...   \n",
       "3     [[[-73.5537, 41.11369], [-73.4489288, 41.11369...   \n",
       "4     [[[-82.121534, 39.908312], [-81.976901, 39.908...   \n",
       "...                                                 ...   \n",
       "2863  [[[-120.00574, 35.002086], [-114.039649, 35.00...   \n",
       "2864  [[[-93.329515, 44.889964], [-93.194578, 44.889...   \n",
       "2865  [[[-81.623096, 40.842646], [-81.536917, 40.842...   \n",
       "2866  [[[-106.645646, 25.837092], [-93.508131, 25.83...   \n",
       "2867  [[[-95.774704, 35.995476], [-89.098843, 35.995...   \n",
       "\n",
       "                                                  place  \n",
       "0     Place(_api=<tweepy.api.API object at 0x2b23538...  \n",
       "1     Place(_api=<tweepy.api.API object at 0x2b23538...  \n",
       "2     Place(_api=<tweepy.api.API object at 0x2b23538...  \n",
       "3     Place(_api=<tweepy.api.API object at 0x2b23538...  \n",
       "4     Place(_api=<tweepy.api.API object at 0x2b23538...  \n",
       "...                                                 ...  \n",
       "2863  Place(_api=<tweepy.api.API object at 0x2b23538...  \n",
       "2864  Place(_api=<tweepy.api.API object at 0x2b23538...  \n",
       "2865  Place(_api=<tweepy.api.API object at 0x2b23538...  \n",
       "2866  Place(_api=<tweepy.api.API object at 0x2b23538...  \n",
       "2867  Place(_api=<tweepy.api.API object at 0x2b23538...  \n",
       "\n",
       "[2868 rows x 7 columns]"
      ]
     },
     "execution_count": 3,
     "metadata": {},
     "output_type": "execute_result"
    }
   ],
   "source": [
    "from pathlib import Path \n",
    "#save data in dictionary(including dates from '2021-7-19' to '2021-8-11')\n",
    "date_range = pd.date_range(start='2021-07-19', end='2021-08-11')\n",
    "\n",
    "## Read CSV files back to dataframe dict\n",
    "df_dict = {}\n",
    "for i in date_range:\n",
    "    date = i.strftime('%Y-%m-%d')\n",
    "    filepath = Path('dataframes_by_date/'+date+\".csv\")\n",
    "    df_dict[date] = pd.read_csv(filepath, encoding = \"utf-8\")\n",
    "df_dict[\"2021-07-31\"]"
   ]
  },
  {
   "cell_type": "code",
   "execution_count": 4,
   "id": "2cfe1874",
   "metadata": {},
   "outputs": [
    {
     "data": {
      "text/plain": [
       "'TX'"
      ]
     },
     "execution_count": 4,
     "metadata": {},
     "output_type": "execute_result"
    }
   ],
   "source": [
    "us_state_to_abbrev = {\n",
    "    \"Alabama\": \"AL\",\n",
    "    \"Alaska\": \"AK\",\n",
    "    \"Arizona\": \"AZ\",\n",
    "    \"Arkansas\": \"AR\",\n",
    "    \"California\": \"CA\",\n",
    "    \"Colorado\": \"CO\",\n",
    "    \"Connecticut\": \"CT\",\n",
    "    \"Delaware\": \"DE\",\n",
    "    \"Florida\": \"FL\",\n",
    "    \"Georgia\": \"GA\",\n",
    "    \"Hawaii\": \"HI\",\n",
    "    \"Idaho\": \"ID\",\n",
    "    \"Illinois\": \"IL\",\n",
    "    \"Indiana\": \"IN\",\n",
    "    \"Iowa\": \"IA\",\n",
    "    \"Kansas\": \"KS\",\n",
    "    \"Kentucky\": \"KY\",\n",
    "    \"Louisiana\": \"LA\",\n",
    "    \"Maine\": \"ME\",\n",
    "    \"Maryland\": \"MD\",\n",
    "    \"Massachusetts\": \"MA\",\n",
    "    \"Michigan\": \"MI\",\n",
    "    \"Minnesota\": \"MN\",\n",
    "    \"Mississippi\": \"MS\",\n",
    "    \"Missouri\": \"MO\",\n",
    "    \"Montana\": \"MT\",\n",
    "    \"Nebraska\": \"NE\",\n",
    "    \"Nevada\": \"NV\",\n",
    "    \"New Hampshire\": \"NH\",\n",
    "    \"New Jersey\": \"NJ\",\n",
    "    \"New Mexico\": \"NM\",\n",
    "    \"New York\": \"NY\",\n",
    "    \"North Carolina\": \"NC\",\n",
    "    \"North Dakota\": \"ND\",\n",
    "    \"Ohio\": \"OH\",\n",
    "    \"Oklahoma\": \"OK\",\n",
    "    \"Oregon\": \"OR\",\n",
    "    \"Pennsylvania\": \"PA\",\n",
    "    \"Rhode Island\": \"RI\",\n",
    "    \"South Carolina\": \"SC\",\n",
    "    \"South Dakota\": \"SD\",\n",
    "    \"Tennessee\": \"TN\",\n",
    "    \"Texas\": \"TX\",\n",
    "    \"Utah\": \"UT\",\n",
    "    \"Vermont\": \"VT\",\n",
    "    \"Virginia\": \"VA\",\n",
    "    \"Washington\": \"WA\",\n",
    "    \"West Virginia\": \"WV\",\n",
    "    \"Wisconsin\": \"WI\",\n",
    "    \"Wyoming\": \"WY\",\n",
    "    \"District of Columbia\": \"DC\",\n",
    "    \"American Samoa\": \"AS\",\n",
    "    \"Guam\": \"GU\",\n",
    "    \"Northern Mariana Islands\": \"MP\",\n",
    "    \"Puerto Rico\": \"PR\",\n",
    "    \"United States Minor Outlying Islands\": \"UM\",\n",
    "    \"U.S. Virgin Islands\": \"VI\",\n",
    "}\n",
    "us_state_to_abbrev[\"Texas\"]"
   ]
  },
  {
   "cell_type": "code",
   "execution_count": 5,
   "id": "182d7a14",
   "metadata": {},
   "outputs": [],
   "source": [
    "import numpy\n",
    "def append_states(date):\n",
    "    cities_list = df['city_name']\n",
    "    states_list = []\n",
    "    for city in cities_list:\n",
    "        city = city.split(', ')\n",
    "        if len(city) <= 1:\n",
    "            state = numpy.nan\n",
    "        elif(city[1]==\"USA\"):\n",
    "            state = city[0]\n",
    "        else:\n",
    "            state = city[1]\n",
    "        if(state in us_state_to_abbrev.keys()):\n",
    "            state = us_state_to_abbrev[state]\n",
    "        states_list.append(state)\n",
    "    df['state'] = states_list"
   ]
  },
  {
   "cell_type": "code",
   "execution_count": 6,
   "id": "5858b292",
   "metadata": {},
   "outputs": [
    {
     "data": {
      "text/html": [
       "<div>\n",
       "<style scoped>\n",
       "    .dataframe tbody tr th:only-of-type {\n",
       "        vertical-align: middle;\n",
       "    }\n",
       "\n",
       "    .dataframe tbody tr th {\n",
       "        vertical-align: top;\n",
       "    }\n",
       "\n",
       "    .dataframe thead th {\n",
       "        text-align: right;\n",
       "    }\n",
       "</style>\n",
       "<table border=\"1\" class=\"dataframe\">\n",
       "  <thead>\n",
       "    <tr style=\"text-align: right;\">\n",
       "      <th></th>\n",
       "      <th>id</th>\n",
       "      <th>time</th>\n",
       "      <th>text</th>\n",
       "      <th>city_name</th>\n",
       "      <th>coordinates</th>\n",
       "      <th>place</th>\n",
       "      <th>state</th>\n",
       "    </tr>\n",
       "  </thead>\n",
       "  <tbody>\n",
       "    <tr>\n",
       "      <th>0</th>\n",
       "      <td>1419808468324790274</td>\n",
       "      <td>2021-07-26 23:54:52+00:00</td>\n",
       "      <td>I hadn’t seen you for awhile… I thought you we...</td>\n",
       "      <td>Newport, KY</td>\n",
       "      <td>[[[-84.504476, 39.064988], [-84.4611, 39.06498...</td>\n",
       "      <td>Place(_api=&lt;tweepy.api.API object at 0x2b23538...</td>\n",
       "      <td>KY</td>\n",
       "    </tr>\n",
       "    <tr>\n",
       "      <th>1</th>\n",
       "      <td>1419343586320019458</td>\n",
       "      <td>2021-07-25 17:07:35+00:00</td>\n",
       "      <td>There’s a bad joke here somewhere https://t.co...</td>\n",
       "      <td>Inglewood, CA</td>\n",
       "      <td>[[[-118.378887, 33.9253169], [-118.3134177, 33...</td>\n",
       "      <td>Place(_api=&lt;tweepy.api.API object at 0x2b23538...</td>\n",
       "      <td>CA</td>\n",
       "    </tr>\n",
       "    <tr>\n",
       "      <th>2</th>\n",
       "      <td>1419372964823408640</td>\n",
       "      <td>2021-07-25 19:04:20+00:00</td>\n",
       "      <td>The #Olympics seem to be starting out slowly f...</td>\n",
       "      <td>Central City, KY</td>\n",
       "      <td>[[[-87.154448, 37.269115], [-87.0936138, 37.26...</td>\n",
       "      <td>Place(_api=&lt;tweepy.api.API object at 0x2b23538...</td>\n",
       "      <td>KY</td>\n",
       "    </tr>\n",
       "    <tr>\n",
       "      <th>3</th>\n",
       "      <td>1425093660165738509</td>\n",
       "      <td>2021-08-10 13:56:20+00:00</td>\n",
       "      <td>https://t.co/u0G6OPzAav</td>\n",
       "      <td>Gainesville, VA</td>\n",
       "      <td>[[[-77.675429, 38.763188], [-77.579294, 38.763...</td>\n",
       "      <td>Place(_api=&lt;tweepy.api.API object at 0x2b23538...</td>\n",
       "      <td>VA</td>\n",
       "    </tr>\n",
       "    <tr>\n",
       "      <th>4</th>\n",
       "      <td>1419343311375151107</td>\n",
       "      <td>2021-07-25 17:06:30+00:00</td>\n",
       "      <td>@SpencerBoyd Olympics/Baseball</td>\n",
       "      <td>Vicksburg, MI</td>\n",
       "      <td>[[[-85.583959, 42.089785], [-85.509529, 42.089...</td>\n",
       "      <td>Place(_api=&lt;tweepy.api.API object at 0x2b23538...</td>\n",
       "      <td>MI</td>\n",
       "    </tr>\n",
       "    <tr>\n",
       "      <th>...</th>\n",
       "      <td>...</td>\n",
       "      <td>...</td>\n",
       "      <td>...</td>\n",
       "      <td>...</td>\n",
       "      <td>...</td>\n",
       "      <td>...</td>\n",
       "      <td>...</td>\n",
       "    </tr>\n",
       "    <tr>\n",
       "      <th>63558</th>\n",
       "      <td>1424501549338873860</td>\n",
       "      <td>2021-08-08 22:43:29+00:00</td>\n",
       "      <td>Please do yourself a huge favor a tap in the G...</td>\n",
       "      <td>Spartanburg, SC</td>\n",
       "      <td>[[[-82.045319, 34.875556], [-81.8352774, 34.87...</td>\n",
       "      <td>Place(_api=&lt;tweepy.api.API object at 0x2b23538...</td>\n",
       "      <td>SC</td>\n",
       "    </tr>\n",
       "    <tr>\n",
       "      <th>63559</th>\n",
       "      <td>1424503920743780356</td>\n",
       "      <td>2021-08-08 22:52:55+00:00</td>\n",
       "      <td>Yes! https://t.co/VOMo71tqbd</td>\n",
       "      <td>Davis, CA</td>\n",
       "      <td>[[[-121.803252, 38.526843], [-121.675074, 38.5...</td>\n",
       "      <td>Place(_api=&lt;tweepy.api.API object at 0x2b23538...</td>\n",
       "      <td>CA</td>\n",
       "    </tr>\n",
       "    <tr>\n",
       "      <th>63560</th>\n",
       "      <td>1424504989922299915</td>\n",
       "      <td>2021-08-08 22:57:10+00:00</td>\n",
       "      <td>https://t.co/ApG332Hp0Q</td>\n",
       "      <td>Mehlville, MO</td>\n",
       "      <td>[[[-90.3557179, 38.477027], [-90.274797, 38.47...</td>\n",
       "      <td>Place(_api=&lt;tweepy.api.API object at 0x2b23538...</td>\n",
       "      <td>MO</td>\n",
       "    </tr>\n",
       "    <tr>\n",
       "      <th>63561</th>\n",
       "      <td>1421637224005869569</td>\n",
       "      <td>2021-08-01 01:01:41+00:00</td>\n",
       "      <td>🤣🤣🤣 https://t.co/4JSLEKvfl5</td>\n",
       "      <td>Florida, USA</td>\n",
       "      <td>[[[-87.634643, 24.396308], [-79.974307, 24.396...</td>\n",
       "      <td>Place(_api=&lt;tweepy.api.API object at 0x2b23538...</td>\n",
       "      <td>FL</td>\n",
       "    </tr>\n",
       "    <tr>\n",
       "      <th>63563</th>\n",
       "      <td>1421637224005869569</td>\n",
       "      <td>2021-08-01 01:01:41+00:00</td>\n",
       "      <td>🤣🤣🤣 https://t.co/4JSLEKvfl5</td>\n",
       "      <td>Florida, USA</td>\n",
       "      <td>[[[-87.634643, 24.396308], [-79.974307, 24.396...</td>\n",
       "      <td>Place(_api=&lt;tweepy.api.API object at 0x2b1064d...</td>\n",
       "      <td>FL</td>\n",
       "    </tr>\n",
       "  </tbody>\n",
       "</table>\n",
       "<p>63563 rows × 7 columns</p>\n",
       "</div>"
      ],
      "text/plain": [
       "                        id                       time  \\\n",
       "0      1419808468324790274  2021-07-26 23:54:52+00:00   \n",
       "1      1419343586320019458  2021-07-25 17:07:35+00:00   \n",
       "2      1419372964823408640  2021-07-25 19:04:20+00:00   \n",
       "3      1425093660165738509  2021-08-10 13:56:20+00:00   \n",
       "4      1419343311375151107  2021-07-25 17:06:30+00:00   \n",
       "...                    ...                        ...   \n",
       "63558  1424501549338873860  2021-08-08 22:43:29+00:00   \n",
       "63559  1424503920743780356  2021-08-08 22:52:55+00:00   \n",
       "63560  1424504989922299915  2021-08-08 22:57:10+00:00   \n",
       "63561  1421637224005869569  2021-08-01 01:01:41+00:00   \n",
       "63563  1421637224005869569  2021-08-01 01:01:41+00:00   \n",
       "\n",
       "                                                    text         city_name  \\\n",
       "0      I hadn’t seen you for awhile… I thought you we...       Newport, KY   \n",
       "1      There’s a bad joke here somewhere https://t.co...     Inglewood, CA   \n",
       "2      The #Olympics seem to be starting out slowly f...  Central City, KY   \n",
       "3                                https://t.co/u0G6OPzAav   Gainesville, VA   \n",
       "4                         @SpencerBoyd Olympics/Baseball     Vicksburg, MI   \n",
       "...                                                  ...               ...   \n",
       "63558  Please do yourself a huge favor a tap in the G...   Spartanburg, SC   \n",
       "63559                       Yes! https://t.co/VOMo71tqbd         Davis, CA   \n",
       "63560                            https://t.co/ApG332Hp0Q     Mehlville, MO   \n",
       "63561                        🤣🤣🤣 https://t.co/4JSLEKvfl5      Florida, USA   \n",
       "63563                        🤣🤣🤣 https://t.co/4JSLEKvfl5      Florida, USA   \n",
       "\n",
       "                                             coordinates  \\\n",
       "0      [[[-84.504476, 39.064988], [-84.4611, 39.06498...   \n",
       "1      [[[-118.378887, 33.9253169], [-118.3134177, 33...   \n",
       "2      [[[-87.154448, 37.269115], [-87.0936138, 37.26...   \n",
       "3      [[[-77.675429, 38.763188], [-77.579294, 38.763...   \n",
       "4      [[[-85.583959, 42.089785], [-85.509529, 42.089...   \n",
       "...                                                  ...   \n",
       "63558  [[[-82.045319, 34.875556], [-81.8352774, 34.87...   \n",
       "63559  [[[-121.803252, 38.526843], [-121.675074, 38.5...   \n",
       "63560  [[[-90.3557179, 38.477027], [-90.274797, 38.47...   \n",
       "63561  [[[-87.634643, 24.396308], [-79.974307, 24.396...   \n",
       "63563  [[[-87.634643, 24.396308], [-79.974307, 24.396...   \n",
       "\n",
       "                                                   place state  \n",
       "0      Place(_api=<tweepy.api.API object at 0x2b23538...    KY  \n",
       "1      Place(_api=<tweepy.api.API object at 0x2b23538...    CA  \n",
       "2      Place(_api=<tweepy.api.API object at 0x2b23538...    KY  \n",
       "3      Place(_api=<tweepy.api.API object at 0x2b23538...    VA  \n",
       "4      Place(_api=<tweepy.api.API object at 0x2b23538...    MI  \n",
       "...                                                  ...   ...  \n",
       "63558  Place(_api=<tweepy.api.API object at 0x2b23538...    SC  \n",
       "63559  Place(_api=<tweepy.api.API object at 0x2b23538...    CA  \n",
       "63560  Place(_api=<tweepy.api.API object at 0x2b23538...    MO  \n",
       "63561  Place(_api=<tweepy.api.API object at 0x2b23538...    FL  \n",
       "63563  Place(_api=<tweepy.api.API object at 0x2b1064d...    FL  \n",
       "\n",
       "[63563 rows x 7 columns]"
      ]
     },
     "execution_count": 6,
     "metadata": {},
     "output_type": "execute_result"
    }
   ],
   "source": [
    "for i in date_range:\n",
    "    append_states(i.strftime('%Y-%m-%d'))\n",
    "df "
   ]
  },
  {
   "cell_type": "code",
   "execution_count": 7,
   "id": "7adbcc91",
   "metadata": {},
   "outputs": [],
   "source": [
    "df_sort_state = df.sort_values(by=['state'])"
   ]
  },
  {
   "cell_type": "code",
   "execution_count": 8,
   "id": "570abc09",
   "metadata": {},
   "outputs": [
    {
     "data": {
      "text/html": [
       "<div>\n",
       "<style scoped>\n",
       "    .dataframe tbody tr th:only-of-type {\n",
       "        vertical-align: middle;\n",
       "    }\n",
       "\n",
       "    .dataframe tbody tr th {\n",
       "        vertical-align: top;\n",
       "    }\n",
       "\n",
       "    .dataframe thead th {\n",
       "        text-align: right;\n",
       "    }\n",
       "</style>\n",
       "<table border=\"1\" class=\"dataframe\">\n",
       "  <thead>\n",
       "    <tr style=\"text-align: right;\">\n",
       "      <th></th>\n",
       "      <th>id</th>\n",
       "      <th>time</th>\n",
       "      <th>text</th>\n",
       "      <th>city_name</th>\n",
       "      <th>coordinates</th>\n",
       "      <th>place</th>\n",
       "      <th>state</th>\n",
       "    </tr>\n",
       "  </thead>\n",
       "  <tbody>\n",
       "    <tr>\n",
       "      <th>46474</th>\n",
       "      <td>1420061516938694661</td>\n",
       "      <td>2021-07-27 16:40:23+00:00</td>\n",
       "      <td>So proud of you ❤️ https://t.co/69UOSVouRb</td>\n",
       "      <td>Kodiak, AK</td>\n",
       "      <td>[[[-152.455159, 57.771608], [-152.325453, 57.7...</td>\n",
       "      <td>Place(_api=&lt;tweepy.api.API object at 0x2b23538...</td>\n",
       "      <td>AK</td>\n",
       "    </tr>\n",
       "    <tr>\n",
       "      <th>53404</th>\n",
       "      <td>1419849470930419717</td>\n",
       "      <td>2021-07-27 02:37:48+00:00</td>\n",
       "      <td>Super cool experience watching this happen whi...</td>\n",
       "      <td>Anchorage, AK</td>\n",
       "      <td>[[[-150.0352589, 61.043884], [-149.48233, 61.0...</td>\n",
       "      <td>Place(_api=&lt;tweepy.api.API object at 0x2b23538...</td>\n",
       "      <td>AK</td>\n",
       "    </tr>\n",
       "    <tr>\n",
       "      <th>39615</th>\n",
       "      <td>1422629411791151107</td>\n",
       "      <td>2021-08-03 18:44:17+00:00</td>\n",
       "      <td>Me encanta la emoción del comentarista 🥳😍 http...</td>\n",
       "      <td>Fairbanks, AK</td>\n",
       "      <td>[[[-147.81382, 64.810474], [-147.543503, 64.81...</td>\n",
       "      <td>Place(_api=&lt;tweepy.api.API object at 0x2b23538...</td>\n",
       "      <td>AK</td>\n",
       "    </tr>\n",
       "    <tr>\n",
       "      <th>52304</th>\n",
       "      <td>1419854239925374982</td>\n",
       "      <td>2021-07-27 02:56:45+00:00</td>\n",
       "      <td>One for all Alaskans 🙌🙌🙌 https://t.co/H3RGbwo2h4</td>\n",
       "      <td>Juneau, AK</td>\n",
       "      <td>[[[-134.6678953, 58.260245], [-134.3499372, 58...</td>\n",
       "      <td>Place(_api=&lt;tweepy.api.API object at 0x2b23538...</td>\n",
       "      <td>AK</td>\n",
       "    </tr>\n",
       "    <tr>\n",
       "      <th>39596</th>\n",
       "      <td>1419910465040261122</td>\n",
       "      <td>2021-07-27 06:40:10+00:00</td>\n",
       "      <td>Watched this live while at a bar in downtown A...</td>\n",
       "      <td>Anchorage, AK</td>\n",
       "      <td>[[[-150.0352589, 61.043884], [-149.48233, 61.0...</td>\n",
       "      <td>Place(_api=&lt;tweepy.api.API object at 0x2b23538...</td>\n",
       "      <td>AK</td>\n",
       "    </tr>\n",
       "    <tr>\n",
       "      <th>...</th>\n",
       "      <td>...</td>\n",
       "      <td>...</td>\n",
       "      <td>...</td>\n",
       "      <td>...</td>\n",
       "      <td>...</td>\n",
       "      <td>...</td>\n",
       "      <td>...</td>\n",
       "    </tr>\n",
       "    <tr>\n",
       "      <th>37861</th>\n",
       "      <td>1420225565315919875</td>\n",
       "      <td>2021-07-28 03:32:15+00:00</td>\n",
       "      <td>Listening to @DanHicksNBC and @RowdyGaines cal...</td>\n",
       "      <td>Cheyenne, WY</td>\n",
       "      <td>[[[-104.8609088, 41.078217], [-104.713275, 41....</td>\n",
       "      <td>Place(_api=&lt;tweepy.api.API object at 0x2b23538...</td>\n",
       "      <td>WY</td>\n",
       "    </tr>\n",
       "    <tr>\n",
       "      <th>10186</th>\n",
       "      <td>1418991050987905031</td>\n",
       "      <td>2021-07-24 17:46:44+00:00</td>\n",
       "      <td>I want to see more of the men playing beach vo...</td>\n",
       "      <td>Wheatland, WY</td>\n",
       "      <td>[[[-104.982619, 42.030885], [-104.9248, 42.030...</td>\n",
       "      <td>Place(_api=&lt;tweepy.api.API object at 0x2b23538...</td>\n",
       "      <td>WY</td>\n",
       "    </tr>\n",
       "    <tr>\n",
       "      <th>59275</th>\n",
       "      <td>1422720954073903110</td>\n",
       "      <td>2021-08-04 00:48:02+00:00</td>\n",
       "      <td>Do the sprinters really conserve that much ene...</td>\n",
       "      <td>Cheyenne, WY</td>\n",
       "      <td>[[[-104.8609088, 41.078217], [-104.713275, 41....</td>\n",
       "      <td>Place(_api=&lt;tweepy.api.API object at 0x2b23538...</td>\n",
       "      <td>WY</td>\n",
       "    </tr>\n",
       "    <tr>\n",
       "      <th>45788</th>\n",
       "      <td>1420934206041907204</td>\n",
       "      <td>2021-07-30 02:28:09+00:00</td>\n",
       "      <td>I can’t stop thinking that the safety pinned p...</td>\n",
       "      <td>Casper, WY</td>\n",
       "      <td>[[[-106.4322, 42.791368], [-106.229362, 42.791...</td>\n",
       "      <td>Place(_api=&lt;tweepy.api.API object at 0x2b23538...</td>\n",
       "      <td>WY</td>\n",
       "    </tr>\n",
       "    <tr>\n",
       "      <th>58631</th>\n",
       "      <td>1420490898153132032</td>\n",
       "      <td>2021-07-28 21:06:36+00:00</td>\n",
       "      <td>Took an Olympics break after swimming last nig...</td>\n",
       "      <td>Wyoming, USA</td>\n",
       "      <td>[[[-111.056888, 40.994746], [-104.052236, 40.9...</td>\n",
       "      <td>Place(_api=&lt;tweepy.api.API object at 0x2b23538...</td>\n",
       "      <td>WY</td>\n",
       "    </tr>\n",
       "  </tbody>\n",
       "</table>\n",
       "<p>62915 rows × 7 columns</p>\n",
       "</div>"
      ],
      "text/plain": [
       "                        id                       time  \\\n",
       "46474  1420061516938694661  2021-07-27 16:40:23+00:00   \n",
       "53404  1419849470930419717  2021-07-27 02:37:48+00:00   \n",
       "39615  1422629411791151107  2021-08-03 18:44:17+00:00   \n",
       "52304  1419854239925374982  2021-07-27 02:56:45+00:00   \n",
       "39596  1419910465040261122  2021-07-27 06:40:10+00:00   \n",
       "...                    ...                        ...   \n",
       "37861  1420225565315919875  2021-07-28 03:32:15+00:00   \n",
       "10186  1418991050987905031  2021-07-24 17:46:44+00:00   \n",
       "59275  1422720954073903110  2021-08-04 00:48:02+00:00   \n",
       "45788  1420934206041907204  2021-07-30 02:28:09+00:00   \n",
       "58631  1420490898153132032  2021-07-28 21:06:36+00:00   \n",
       "\n",
       "                                                    text      city_name  \\\n",
       "46474         So proud of you ❤️ https://t.co/69UOSVouRb     Kodiak, AK   \n",
       "53404  Super cool experience watching this happen whi...  Anchorage, AK   \n",
       "39615  Me encanta la emoción del comentarista 🥳😍 http...  Fairbanks, AK   \n",
       "52304   One for all Alaskans 🙌🙌🙌 https://t.co/H3RGbwo2h4     Juneau, AK   \n",
       "39596  Watched this live while at a bar in downtown A...  Anchorage, AK   \n",
       "...                                                  ...            ...   \n",
       "37861  Listening to @DanHicksNBC and @RowdyGaines cal...   Cheyenne, WY   \n",
       "10186  I want to see more of the men playing beach vo...  Wheatland, WY   \n",
       "59275  Do the sprinters really conserve that much ene...   Cheyenne, WY   \n",
       "45788  I can’t stop thinking that the safety pinned p...     Casper, WY   \n",
       "58631  Took an Olympics break after swimming last nig...   Wyoming, USA   \n",
       "\n",
       "                                             coordinates  \\\n",
       "46474  [[[-152.455159, 57.771608], [-152.325453, 57.7...   \n",
       "53404  [[[-150.0352589, 61.043884], [-149.48233, 61.0...   \n",
       "39615  [[[-147.81382, 64.810474], [-147.543503, 64.81...   \n",
       "52304  [[[-134.6678953, 58.260245], [-134.3499372, 58...   \n",
       "39596  [[[-150.0352589, 61.043884], [-149.48233, 61.0...   \n",
       "...                                                  ...   \n",
       "37861  [[[-104.8609088, 41.078217], [-104.713275, 41....   \n",
       "10186  [[[-104.982619, 42.030885], [-104.9248, 42.030...   \n",
       "59275  [[[-104.8609088, 41.078217], [-104.713275, 41....   \n",
       "45788  [[[-106.4322, 42.791368], [-106.229362, 42.791...   \n",
       "58631  [[[-111.056888, 40.994746], [-104.052236, 40.9...   \n",
       "\n",
       "                                                   place state  \n",
       "46474  Place(_api=<tweepy.api.API object at 0x2b23538...    AK  \n",
       "53404  Place(_api=<tweepy.api.API object at 0x2b23538...    AK  \n",
       "39615  Place(_api=<tweepy.api.API object at 0x2b23538...    AK  \n",
       "52304  Place(_api=<tweepy.api.API object at 0x2b23538...    AK  \n",
       "39596  Place(_api=<tweepy.api.API object at 0x2b23538...    AK  \n",
       "...                                                  ...   ...  \n",
       "37861  Place(_api=<tweepy.api.API object at 0x2b23538...    WY  \n",
       "10186  Place(_api=<tweepy.api.API object at 0x2b23538...    WY  \n",
       "59275  Place(_api=<tweepy.api.API object at 0x2b23538...    WY  \n",
       "45788  Place(_api=<tweepy.api.API object at 0x2b23538...    WY  \n",
       "58631  Place(_api=<tweepy.api.API object at 0x2b23538...    WY  \n",
       "\n",
       "[62915 rows x 7 columns]"
      ]
     },
     "execution_count": 8,
     "metadata": {},
     "output_type": "execute_result"
    }
   ],
   "source": [
    "df_sort_state = df_sort_state.dropna()\n",
    "df_sort_state"
   ]
  },
  {
   "cell_type": "code",
   "execution_count": 9,
   "id": "a6249ac1",
   "metadata": {},
   "outputs": [
    {
     "data": {
      "text/html": [
       "<div>\n",
       "<style scoped>\n",
       "    .dataframe tbody tr th:only-of-type {\n",
       "        vertical-align: middle;\n",
       "    }\n",
       "\n",
       "    .dataframe tbody tr th {\n",
       "        vertical-align: top;\n",
       "    }\n",
       "\n",
       "    .dataframe thead th {\n",
       "        text-align: right;\n",
       "    }\n",
       "</style>\n",
       "<table border=\"1\" class=\"dataframe\">\n",
       "  <thead>\n",
       "    <tr style=\"text-align: right;\">\n",
       "      <th></th>\n",
       "      <th>state</th>\n",
       "      <th>text</th>\n",
       "    </tr>\n",
       "  </thead>\n",
       "  <tbody>\n",
       "    <tr>\n",
       "      <th>71</th>\n",
       "      <td>TX</td>\n",
       "      <td>Tarde pero con sueño .. venga #Mexico !!! Con ...</td>\n",
       "    </tr>\n",
       "  </tbody>\n",
       "</table>\n",
       "</div>"
      ],
      "text/plain": [
       "   state                                               text\n",
       "71    TX  Tarde pero con sueño .. venga #Mexico !!! Con ..."
      ]
     },
     "execution_count": 9,
     "metadata": {},
     "output_type": "execute_result"
    }
   ],
   "source": [
    "df_state_group = df_sort_state.groupby('state')['text'].apply(' '.join).reset_index()\n",
    "df_state_group[df_state_group[\"state\"]==\"TX\"]"
   ]
  },
  {
   "cell_type": "code",
   "execution_count": 10,
   "id": "2b1f0907",
   "metadata": {},
   "outputs": [
    {
     "data": {
      "text/plain": [
       "71    Tarde pero con sueño .. venga #Mexico !!! Con ...\n",
       "Name: text, dtype: object"
      ]
     },
     "execution_count": 10,
     "metadata": {},
     "output_type": "execute_result"
    }
   ],
   "source": [
    "df_state_group[df_state_group[\"state\"]==\"TX\"][\"text\"]"
   ]
  },
  {
   "cell_type": "code",
   "execution_count": 11,
   "id": "22c4030d",
   "metadata": {},
   "outputs": [
    {
     "data": {
      "text/html": [
       "<div>\n",
       "<style scoped>\n",
       "    .dataframe tbody tr th:only-of-type {\n",
       "        vertical-align: middle;\n",
       "    }\n",
       "\n",
       "    .dataframe tbody tr th {\n",
       "        vertical-align: top;\n",
       "    }\n",
       "\n",
       "    .dataframe thead th {\n",
       "        text-align: right;\n",
       "    }\n",
       "</style>\n",
       "<table border=\"1\" class=\"dataframe\">\n",
       "  <thead>\n",
       "    <tr style=\"text-align: right;\">\n",
       "      <th></th>\n",
       "      <th>state</th>\n",
       "      <th>text</th>\n",
       "    </tr>\n",
       "  </thead>\n",
       "  <tbody>\n",
       "    <tr>\n",
       "      <th>0</th>\n",
       "      <td>AK</td>\n",
       "      <td>So proud of you ❤️ https://t.co/69UOSVouRb Sup...</td>\n",
       "    </tr>\n",
       "    <tr>\n",
       "      <th>1</th>\n",
       "      <td>AL</td>\n",
       "      <td>Wowza! 😮 https://t.co/vVoW0m85bS 🙋🏾‍♀️ https:/...</td>\n",
       "    </tr>\n",
       "    <tr>\n",
       "      <th>2</th>\n",
       "      <td>AR</td>\n",
       "      <td>Can’t help but LOL 🤣 https://t.co/kfud7Kejmv F...</td>\n",
       "    </tr>\n",
       "    <tr>\n",
       "      <th>3</th>\n",
       "      <td>AZ</td>\n",
       "      <td>As coverage of #Tokyo2020 Olympics continues, ...</td>\n",
       "    </tr>\n",
       "    <tr>\n",
       "      <th>4</th>\n",
       "      <td>Atlanta</td>\n",
       "      <td>In honor of the #Olympics I’m going for gold a...</td>\n",
       "    </tr>\n",
       "  </tbody>\n",
       "</table>\n",
       "</div>"
      ],
      "text/plain": [
       "     state                                               text\n",
       "0       AK  So proud of you ❤️ https://t.co/69UOSVouRb Sup...\n",
       "1       AL  Wowza! 😮 https://t.co/vVoW0m85bS 🙋🏾‍♀️ https:/...\n",
       "2       AR  Can’t help but LOL 🤣 https://t.co/kfud7Kejmv F...\n",
       "3       AZ  As coverage of #Tokyo2020 Olympics continues, ...\n",
       "4  Atlanta  In honor of the #Olympics I’m going for gold a..."
      ]
     },
     "execution_count": 11,
     "metadata": {},
     "output_type": "execute_result"
    }
   ],
   "source": [
    "df_state_group.head(5)"
   ]
  },
  {
   "cell_type": "code",
   "execution_count": 12,
   "id": "ca4164cb",
   "metadata": {},
   "outputs": [
    {
     "data": {
      "text/plain": [
       "0    So proud of you ❤️ https://t.co/69UOSVouRb Sup...\n",
       "Name: text, dtype: object"
      ]
     },
     "execution_count": 12,
     "metadata": {},
     "output_type": "execute_result"
    }
   ],
   "source": [
    "df_state_group[df_state_group[\"state\"]==\"AK\"][\"text\"]"
   ]
  },
  {
   "cell_type": "code",
   "execution_count": null,
   "id": "070de603",
   "metadata": {},
   "outputs": [
    {
     "name": "stderr",
     "output_type": "stream",
     "text": [
      " 15%|█████▋                                | 9500/62915 [01:41<09:30, 93.69it/s]"
     ]
    }
   ],
   "source": [
    "df_state_dict = {}\n",
    "state_range = df_sort_state[\"state\"].tolist()\n",
    "new_state_range = []\n",
    "prev_place =\"\"\n",
    "\n",
    "p = tqdm(total=len(state_range), disable=False)\n",
    "for i in tqdm(range(len(state_range)), position=0, leave=True):\n",
    "    place = state_range[i]\n",
    "    if place not in us_state_to_abbrev.values():\n",
    "        continue\n",
    "    if(prev_place!=place):\n",
    "        prev_place=place\n",
    "        new_state_range.append(place)\n",
    "    df_state_dict[place] = df_state_group[(df_state_group['state']==place)]\n",
    "    time.sleep(0.01)\n",
    "    p.update(1)\n",
    "    tqdm._instances.clear()"
   ]
  },
  {
   "cell_type": "code",
   "execution_count": null,
   "id": "13e7b58a",
   "metadata": {},
   "outputs": [],
   "source": [
    "df_state_dict[\"TX\"]['text'].astype(str)"
   ]
  },
  {
   "cell_type": "code",
   "execution_count": null,
   "id": "8ae0a6a2",
   "metadata": {},
   "outputs": [],
   "source": [
    "#calculate topic freq\n",
    "# document frequency: in how many files of the Brown corpus does each word appear\n",
    "brown.fileids()\n",
    "stopwords = nltk.corpus.stopwords.words(\"english\")\n",
    "stopwords += [\"rt\", \"got\", \"thats\", \"would\", \"going\", \"u\", \n",
    "               \"get\", \"also\", \"one\", \"could\", \"said\", \"like\",\n",
    "               \"via\", \"say\", \"amp\", \"many\", \"need\", \"day\", \"want\", \n",
    "               \"last\", \"people\", \"done\", \"two\",\n",
    "               \"outbreak\", \"know\", \"upon\", \"may\", \"way\",\n",
    "               \"saw\", \"gtgt\", \"olympics\", \"tokyo2020\", \"tokyo\", \"olympics2021\", \"usa\"\n",
    "               \"olympics2020\", \"@olympics\", \"tokyoolympics\", \"olympic\", \"https\"]\n",
    "\n",
    "docfreq = { }\n",
    "\n",
    "for brown_part in brown.fileids():\n",
    "    fd = nltk.FreqDist(brown.words(fileids = brown_part))\n",
    "    \n",
    "    for word in fd.keys():\n",
    "        word = word.lower()\n",
    "        \n",
    "        if word in stopwords:\n",
    "            continue\n",
    "        if not word.isalnum():\n",
    "            continue\n",
    "            \n",
    "        if word in docfreq:\n",
    "            docfreq[word] = docfreq[word] + 1\n",
    "        else:\n",
    "            docfreq[word] = 1"
   ]
  },
  {
   "cell_type": "code",
   "execution_count": null,
   "id": "09b360b5",
   "metadata": {},
   "outputs": [],
   "source": [
    "def compute_freq_dict(sentence):\n",
    "    freq_example = FreqDist()\n",
    "    words = word_tokenize(sentence)\n",
    "    for word in words:\n",
    "        word = word.lower()\n",
    "\n",
    "        if word in stopwords:\n",
    "            continue\n",
    "        if not word.isalnum():\n",
    "            continue\n",
    "        freq_example[word.lower()] += 1 \n",
    "    return freq_example"
   ]
  },
  {
   "cell_type": "code",
   "execution_count": null,
   "id": "5ac1cd3a",
   "metadata": {},
   "outputs": [],
   "source": [
    "word_freq_all=FreqDist()\n",
    "tweets = df_state_dict[\"TX\"]['text'].astype(str)\n",
    "for sentence in tweets:\n",
    "    word_freq = compute_freq_dict(sentence)\n",
    "    word_freq_all = word_freq_all+word_freq\n",
    "word_freq_all"
   ]
  },
  {
   "cell_type": "code",
   "execution_count": null,
   "id": "8d77ab50",
   "metadata": {},
   "outputs": [],
   "source": [
    "word_freq_all.most_common(3)"
   ]
  },
  {
   "cell_type": "code",
   "execution_count": null,
   "id": "510cb37d",
   "metadata": {},
   "outputs": [],
   "source": [
    "word_freq_state = {}\n",
    "word_freq_state[\"TX\"] = word_freq_all"
   ]
  },
  {
   "cell_type": "code",
   "execution_count": null,
   "id": "440000b8",
   "metadata": {},
   "outputs": [],
   "source": [
    "word_freq_state[\"TX\"].most_common(3)"
   ]
  },
  {
   "cell_type": "code",
   "execution_count": null,
   "id": "f20e6f91",
   "metadata": {},
   "outputs": [],
   "source": [
    "def append_word_freq(state, word_freq_state):\n",
    "    word_freq_all=FreqDist()\n",
    "    tweets = df_state_dict[state]['text'].astype(str)\n",
    "    for sentence in tweets:\n",
    "        word_freq = compute_freq_dict(sentence)\n",
    "        word_freq_all = word_freq_all+word_freq\n",
    "    word_freq_state[state] = word_freq_all"
   ]
  },
  {
   "cell_type": "code",
   "execution_count": null,
   "id": "ad3acee0",
   "metadata": {},
   "outputs": [],
   "source": [
    "len(new_state_range)"
   ]
  },
  {
   "cell_type": "code",
   "execution_count": null,
   "id": "a9ae32dc",
   "metadata": {},
   "outputs": [],
   "source": [
    "word_freq_state = {}\n",
    "tqdm._instances.clear()\n",
    "p = tqdm(total=len(new_state_range), disable=False)\n",
    "for i in tqdm(range(len(new_state_range)), position=0, leave=True):\n",
    "    state = new_state_range[i]\n",
    "    append_word_freq(state, word_freq_state)\n",
    "    time.sleep(0.01)\n",
    "    p.update(1)\n",
    "tqdm._instances.clear()\n",
    "p.close()"
   ]
  },
  {
   "cell_type": "code",
   "execution_count": null,
   "id": "972f22a1",
   "metadata": {},
   "outputs": [],
   "source": [
    "word_freq_state[\"TX\"].most_common(3)"
   ]
  },
  {
   "cell_type": "code",
   "execution_count": null,
   "id": "d898e413",
   "metadata": {},
   "outputs": [],
   "source": [
    "pd.DataFrame.from_dict(word_freq_state[\"TX\"], orient='index')"
   ]
  },
  {
   "cell_type": "code",
   "execution_count": null,
   "id": "684f7b62",
   "metadata": {},
   "outputs": [],
   "source": [
    "hot_topics = [\"covid\", \"cancel\", \"softball\", \"openingceremony\", \"skateboarding\", \"basketball\", \n",
    "              \"swimming\", \"simone\", \"gold\", \"marathon\", \"volleyball\", \"closing\"]"
   ]
  },
  {
   "cell_type": "code",
   "execution_count": null,
   "id": "134b0346",
   "metadata": {},
   "outputs": [],
   "source": [
    "hot_topics.append(\"state\")"
   ]
  },
  {
   "cell_type": "code",
   "execution_count": null,
   "id": "d91f1b52",
   "metadata": {},
   "outputs": [],
   "source": [
    "hot_topics"
   ]
  },
  {
   "cell_type": "code",
   "execution_count": null,
   "id": "f968d05b",
   "metadata": {},
   "outputs": [],
   "source": [
    "def make_dict_hot_freq_state(state):\n",
    "    hot_freq_state = {}\n",
    "    hot_word_freq = {}\n",
    "    for topic in hot_topics:\n",
    "        hot_word_freq[topic] = word_freq_state[state][topic]\n",
    "    hot_word_freq[\"state\"] = state\n",
    "    hot_freq_state[state] = hot_word_freq\n",
    "    return hot_freq_state[state]"
   ]
  },
  {
   "cell_type": "code",
   "execution_count": null,
   "id": "34eaab90",
   "metadata": {},
   "outputs": [],
   "source": [
    "import pandas as pd\n",
    "hot_freq_state = {}\n",
    "df_hot_freq = pd.DataFrame()"
   ]
  },
  {
   "cell_type": "code",
   "execution_count": null,
   "id": "61684361",
   "metadata": {},
   "outputs": [],
   "source": [
    "alllist=[]"
   ]
  },
  {
   "cell_type": "code",
   "execution_count": null,
   "id": "649ad786",
   "metadata": {},
   "outputs": [],
   "source": [
    "for state in new_state_range:\n",
    "    hot_freq_state[state] = make_dict_hot_freq_state(state)\n",
    "    pd_n = pd.DataFrame.from_dict(hot_freq_state[state], orient='index').T\n",
    "    alllist.append(pd_n)"
   ]
  },
  {
   "cell_type": "code",
   "execution_count": null,
   "id": "b237a1fc",
   "metadata": {},
   "outputs": [],
   "source": [
    "df_hot_freq=pd.concat(alllist)"
   ]
  },
  {
   "cell_type": "code",
   "execution_count": null,
   "id": "a9525c8d",
   "metadata": {},
   "outputs": [],
   "source": [
    "df_hot_freq.head(5)"
   ]
  },
  {
   "cell_type": "code",
   "execution_count": null,
   "id": "65a4a1c2",
   "metadata": {},
   "outputs": [],
   "source": [
    "word_freq_state[\"TX\"][\"gold\"]"
   ]
  },
  {
   "cell_type": "code",
   "execution_count": null,
   "id": "e5d510ee",
   "metadata": {},
   "outputs": [],
   "source": [
    "def plot_topic_mention(topic):\n",
    "    freq_list = [word_freq_state[state][topic] for state in new_state_range]\n",
    "    # import plotly.express as px\n",
    "    fig = px.line(x=new_state_range, y=freq_list, title=topic+' mention frequnecy by state'\n",
    "                 ,labels=dict(x=\"state\", y= topic+\" Mention Times\", color=\"Place\"))\n",
    "    fig.show()  "
   ]
  },
  {
   "cell_type": "code",
   "execution_count": null,
   "id": "b5bf2e50",
   "metadata": {},
   "outputs": [],
   "source": [
    "import plotly.express as px\n",
    "hot_topics = [\"covid\", \"cancel\", \"softball\", \"openingceremony\", \"skateboarding\", \"basketball\", \n",
    "              \"swimming\", \"simone\", \"gold\", \"marathon\", \"volleyball\", \"closing\"]\n",
    "for topic in hot_topics:\n",
    "    plot_topic_mention(topic)"
   ]
  },
  {
   "cell_type": "code",
   "execution_count": null,
   "id": "24d3ec7c",
   "metadata": {},
   "outputs": [],
   "source": [
    "df_hot_freq.head(5)"
   ]
  },
  {
   "cell_type": "code",
   "execution_count": null,
   "id": "fdb30afd",
   "metadata": {},
   "outputs": [],
   "source": [
    "df_state_dict[\"TX\"][\"text\"]"
   ]
  },
  {
   "cell_type": "code",
   "execution_count": null,
   "id": "18666651",
   "metadata": {},
   "outputs": [],
   "source": []
  },
  {
   "cell_type": "code",
   "execution_count": null,
   "id": "9bff4a94",
   "metadata": {},
   "outputs": [],
   "source": []
  },
  {
   "cell_type": "code",
   "execution_count": null,
   "id": "d7477eb3",
   "metadata": {},
   "outputs": [],
   "source": [
    "def compute_tf_idf(sentence):\n",
    "    dfidf = FreqDist()\n",
    "    num_brown_parts = len(list(brown.fileids()))\n",
    "    words = word_tokenize(sentence)\n",
    "    tf_dict = compute_freq_dict(sentence)\n",
    "    for word in words:\n",
    "        word = word.lower()\n",
    "\n",
    "        if word in stopwords:\n",
    "            continue\n",
    "        if not word.isalnum():\n",
    "            continue\n",
    "        if word not in docfreq:\n",
    "            continue\n",
    "        df = docfreq[word]\n",
    "        idf = math.log(num_brown_parts / df )\n",
    "        dfidf[word] = (tf_dict[word]/len(sentence))*idf\n",
    "    return dfidf\n",
    "        \n",
    "# def append_word_freq(state, word_freq_state):\n",
    "#     word_freq_all=FreqDist()\n",
    "#     tweets = df_state_dict[state]['text'].astype(str)\n",
    "#     for sentence in tweets:\n",
    "#         word_freq = compute_freq_dict(sentence)\n",
    "#         word_freq_all = word_freq_all+word_freq\n",
    "#     word_freq_state[state] = word_freq_all\n",
    "\n",
    "def append_tf_idf_freq(state, tf_idf_freq_state):\n",
    "    word_tf_idf_all=FreqDist()\n",
    "    tweets = df_state_dict[state]['text'].astype(str)\n",
    "    for sentence in tweets:\n",
    "        word_tf_idf = compute_tf_idf(sentence)\n",
    "        word_tf_idf_all = word_tf_idf_all+word_tf_idf\n",
    "    tf_idf_freq_state[state] =  word_tf_idf"
   ]
  },
  {
   "cell_type": "code",
   "execution_count": null,
   "id": "61e3de6d",
   "metadata": {},
   "outputs": [],
   "source": [
    "word_tfidf_state = {}\n",
    "tqdm._instances.clear()\n",
    "p = tqdm(total=len(new_state_range), disable=False)\n",
    "for i in tqdm(range(len(new_state_range)), position=0, leave=True):\n",
    "    state = new_state_range[i]\n",
    "    append_tf_idf_freq(state, word_tfidf_state)\n",
    "    time.sleep(0.01)\n",
    "    p.update(1)\n",
    "tqdm._instances.clear()\n",
    "p.close()"
   ]
  },
  {
   "cell_type": "code",
   "execution_count": null,
   "id": "e872569b",
   "metadata": {},
   "outputs": [],
   "source": [
    "word_freq_state[\"TX\"][\"gold\"]"
   ]
  },
  {
   "cell_type": "code",
   "execution_count": null,
   "id": "5beb0fd3",
   "metadata": {},
   "outputs": [],
   "source": [
    "word_tfidf_state[\"TX\"][\"gold\"]"
   ]
  },
  {
   "cell_type": "code",
   "execution_count": null,
   "id": "f1505caf",
   "metadata": {},
   "outputs": [],
   "source": [
    "word_tfidf_state[\"TX\"].most_common(10)"
   ]
  },
  {
   "cell_type": "code",
   "execution_count": null,
   "id": "47f2a2e5",
   "metadata": {},
   "outputs": [],
   "source": [
    "# def make_dict_hot_freq_state(state):\n",
    "#     hot_freq_state = {}\n",
    "#     hot_word_freq = {}\n",
    "#     for topic in hot_topics:\n",
    "#         hot_word_freq[topic] = word_freq_state[state][topic]\n",
    "#     hot_word_freq[\"state\"] = state\n",
    "#     hot_freq_state[state] = hot_word_freq\n",
    "#     return hot_freq_state[state]\n",
    "\n",
    "def make_dict_hot_tf_idf_state(state):\n",
    "    hot_tf_idf_state = {}\n",
    "    hot_word_tf_idf = {}\n",
    "    for topic in hot_topics:\n",
    "        hot_word_tf_idf[topic] = word_tfidf_state[state][topic]\n",
    "    hot_word_tf_idf[\"state\"] = state\n",
    "    hot_tf_idf_state[state] = hot_word_tf_idf\n",
    "    return hot_tf_idf_state[state]"
   ]
  },
  {
   "cell_type": "code",
   "execution_count": null,
   "id": "2f3f98a2",
   "metadata": {},
   "outputs": [],
   "source": [
    "tfidf_list = []\n",
    "for state in new_state_range:\n",
    "    hot_freq_state[state] = make_dict_hot_tf_idf_state(state)\n",
    "    pd_n = pd.DataFrame.from_dict(hot_freq_state[state], orient='index').T\n",
    "    tfidf_list.append(pd_n)"
   ]
  },
  {
   "cell_type": "code",
   "execution_count": null,
   "id": "02ce504a",
   "metadata": {},
   "outputs": [],
   "source": [
    "df_hot_tf_idf=pd.concat(tfidf_list)\n",
    "df_hot_tf_idf.head(5)"
   ]
  },
  {
   "cell_type": "code",
   "execution_count": null,
   "id": "7e063300",
   "metadata": {},
   "outputs": [],
   "source": [
    "def plot_topic_mention_tf_idf(topic):\n",
    "    freq_list = [word_tfidf_state[state][topic] for state in new_state_range]\n",
    "    # import plotly.express as px\n",
    "    fig = px.line(x=new_state_range, y=freq_list, title=topic+' mention TF-IDF by state'\n",
    "                 ,labels=dict(x=\"state\", y= topic+\" Mention TF-IDF\", color=\"Place\"))\n",
    "    fig.show()  \n"
   ]
  },
  {
   "cell_type": "code",
   "execution_count": null,
   "id": "e91f0b00",
   "metadata": {},
   "outputs": [],
   "source": [
    "import plotly.express as px\n",
    "hot_topics = [\"covid\", \"cancel\", \"softball\", \"openingceremony\", \"skateboarding\", \"basketball\", \n",
    "              \"swimming\", \"simone\", \"gold\", \"marathon\", \"volleyball\", \"closing\"]\n",
    "for topic in hot_topics:\n",
    "    plot_topic_mention_tf_idf(topic)"
   ]
  },
  {
   "cell_type": "code",
   "execution_count": null,
   "id": "c24b1f57",
   "metadata": {},
   "outputs": [],
   "source": []
  },
  {
   "cell_type": "code",
   "execution_count": null,
   "id": "0ed444d4",
   "metadata": {},
   "outputs": [],
   "source": []
  },
  {
   "cell_type": "code",
   "execution_count": null,
   "id": "29135fbe",
   "metadata": {},
   "outputs": [],
   "source": []
  },
  {
   "cell_type": "code",
   "execution_count": null,
   "id": "3843def8",
   "metadata": {},
   "outputs": [],
   "source": []
  },
  {
   "cell_type": "code",
   "execution_count": null,
   "id": "792d9778",
   "metadata": {},
   "outputs": [],
   "source": []
  },
  {
   "cell_type": "code",
   "execution_count": null,
   "id": "cc93b055",
   "metadata": {},
   "outputs": [],
   "source": [
    "import geopandas as gpd\n",
    "import matplotlib.pyplot as plt\n",
    "import matplotlib as mpl\n",
    "from matplotlib.pylab import cm\n",
    "# This lets us do slightly fancier LaTeX-based captions in plots\n",
    "plt.rc('text', usetex=False)"
   ]
  },
  {
   "cell_type": "code",
   "execution_count": null,
   "id": "9c9079d2",
   "metadata": {},
   "outputs": [],
   "source": [
    "county_map = gpd.read_file('UScounties/UScounties.shp')"
   ]
  },
  {
   "cell_type": "code",
   "execution_count": null,
   "id": "ead75f17",
   "metadata": {},
   "outputs": [],
   "source": [
    "county_map.plot()"
   ]
  },
  {
   "cell_type": "code",
   "execution_count": null,
   "id": "a1f0c14b",
   "metadata": {},
   "outputs": [],
   "source": [
    "# Drop Alaska and Hawaii to just be the continental US\n",
    "county_map = county_map[(county_map['STATE_NAME'] != 'Alaska') \n",
    "                          & (county_map['STATE_NAME'] != 'Hawaii')]"
   ]
  },
  {
   "cell_type": "code",
   "execution_count": null,
   "id": "a30a4daa",
   "metadata": {},
   "outputs": [],
   "source": [
    "# This is our fancy projection\n",
    "projection = \"+proj=laea +lat_0=30 +lon_0=-95\"\n",
    "county_map = county_map.to_crs(projection)"
   ]
  },
  {
   "cell_type": "code",
   "execution_count": null,
   "id": "f640b94c",
   "metadata": {},
   "outputs": [],
   "source": [
    "fig, ax = plt.subplots(1, figsize=(11,8.5))\n",
    "ax.axis('off')\n",
    "county_map.plot(ax=ax)"
   ]
  },
  {
   "cell_type": "code",
   "execution_count": null,
   "id": "403bd011",
   "metadata": {},
   "outputs": [],
   "source": [
    "#append state and convert city to state in map\n",
    "cities_list = county_map[\"STATE_NAME\"]\n",
    "states_list = []\n",
    "for city in cities_list:\n",
    "    state = us_state_to_abbrev[city]\n",
    "    states_list.append(state)\n",
    "county_map['state'] = states_list\n",
    "county_map.head(5)"
   ]
  },
  {
   "cell_type": "code",
   "execution_count": null,
   "id": "b083786d",
   "metadata": {},
   "outputs": [],
   "source": [
    "df_hot_freq.head(5)"
   ]
  },
  {
   "cell_type": "code",
   "execution_count": null,
   "id": "13c9cad1",
   "metadata": {},
   "outputs": [],
   "source": [
    "df_hot_tf_idf.head(5)"
   ]
  },
  {
   "cell_type": "markdown",
   "id": "c9c8a10b",
   "metadata": {},
   "source": [
    "# Join the Data"
   ]
  },
  {
   "cell_type": "markdown",
   "id": "517c1a35",
   "metadata": {},
   "source": [
    "### Freq Join"
   ]
  },
  {
   "cell_type": "code",
   "execution_count": null,
   "id": "542944db",
   "metadata": {},
   "outputs": [],
   "source": [
    "county_tweet_df = pd.merge(county_map, df_hot_freq, on='state', how='inner')\n",
    "county_tweet_df.head(5)"
   ]
  },
  {
   "cell_type": "code",
   "execution_count": null,
   "id": "1a42cc90",
   "metadata": {},
   "outputs": [],
   "source": [
    "fig, ax = plt.subplots(1, figsize=(11,8.5))\n",
    "ax.axis('off')\n",
    "ax.set_title('skateboarding', fontsize=28)\n",
    "county_tweet_df.plot(ax=ax, column='skateboarding', legend=True,\n",
    "                                            scheme='quantiles')"
   ]
  },
  {
   "cell_type": "code",
   "execution_count": null,
   "id": "c7780c6a",
   "metadata": {},
   "outputs": [],
   "source": [
    "fig, ax = plt.subplots(1, figsize=(11,8.5))\n",
    "ax.axis('off')\n",
    "ax.set_title('basketball', fontsize=28)\n",
    "county_tweet_df.plot(ax=ax, column='basketball', legend=True,\n",
    "                                            scheme='quantiles')"
   ]
  },
  {
   "cell_type": "code",
   "execution_count": null,
   "id": "e4db835e",
   "metadata": {},
   "outputs": [],
   "source": [
    "fig, ax = plt.subplots(1, figsize=(11,8.5))\n",
    "ax.axis('off')\n",
    "ax.set_title('volleyball', fontsize=28)\n",
    "county_tweet_df.plot(ax=ax, column='volleyball', legend=True,\n",
    "                                            scheme='quantiles')"
   ]
  },
  {
   "cell_type": "markdown",
   "id": "b36bde58",
   "metadata": {},
   "source": [
    "## TF-IDF Join"
   ]
  },
  {
   "cell_type": "code",
   "execution_count": null,
   "id": "7a5cbed3",
   "metadata": {},
   "outputs": [],
   "source": [
    "county_tweet_tf_idf_df = pd.merge(county_map, df_hot_tf_idf, on='state', how='inner')\n",
    "county_tweet_tf_idf_df.head(5)"
   ]
  },
  {
   "cell_type": "code",
   "execution_count": null,
   "id": "e6436bd1",
   "metadata": {},
   "outputs": [],
   "source": [
    "fig, ax = plt.subplots(1, figsize=(11,8.5))\n",
    "ax.axis('off')\n",
    "ax.set_title('skateboarding', fontsize=28)\n",
    "county_tweet_tf_idf_df.plot(ax=ax, column='skateboarding', legend=True,\n",
    "                                            scheme='quantiles')"
   ]
  },
  {
   "cell_type": "code",
   "execution_count": null,
   "id": "6bed9cef",
   "metadata": {},
   "outputs": [],
   "source": [
    "fig, ax = plt.subplots(1, figsize=(11,8.5))\n",
    "ax.axis('off')\n",
    "ax.set_title('basketball', fontsize=28)\n",
    "county_tweet_tf_idf_df.plot(ax=ax, column='basketball', legend=True,\n",
    "                                            scheme='quantiles')"
   ]
  },
  {
   "cell_type": "code",
   "execution_count": null,
   "id": "42b09310",
   "metadata": {},
   "outputs": [],
   "source": [
    "fig, ax = plt.subplots(1, figsize=(11,8.5))\n",
    "ax.axis('off')\n",
    "ax.set_title('volleyball', fontsize=28)\n",
    "county_tweet_tf_idf_df.plot(ax=ax, column='volleyball', legend=True,\n",
    "                                            scheme='quantiles')"
   ]
  },
  {
   "cell_type": "code",
   "execution_count": null,
   "id": "24ae409b",
   "metadata": {},
   "outputs": [],
   "source": []
  }
 ],
 "metadata": {
  "kernelspec": {
   "display_name": "Python 3 (ipykernel)",
   "language": "python",
   "name": "python3"
  },
  "language_info": {
   "codemirror_mode": {
    "name": "ipython",
    "version": 3
   },
   "file_extension": ".py",
   "mimetype": "text/x-python",
   "name": "python",
   "nbconvert_exporter": "python",
   "pygments_lexer": "ipython3",
   "version": "3.8.2"
  }
 },
 "nbformat": 4,
 "nbformat_minor": 5
}
